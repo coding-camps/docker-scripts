{
 "cells": [
  {
   "cell_type": "markdown",
   "source": [
    "# NumPy教程"
   ],
   "metadata": {
    "collapsed": false
   },
   "id": "8c608f1ec35379c9"
  },
  {
   "cell_type": "markdown",
   "source": [
    "## 一、初识NumPy"
   ],
   "metadata": {
    "collapsed": false
   },
   "id": "ceb334d0505124e2"
  },
  {
   "cell_type": "markdown",
   "source": [
    "### 1.1 NumPy简介"
   ],
   "metadata": {
    "collapsed": false
   },
   "id": "88dafcb7aa5ffa0b"
  },
  {
   "cell_type": "markdown",
   "source": [
    "- 官网 https://numpy.org/\n",
    "- 参考 numpy ： https://zhuanlan.zhihu.com/p/342141335\n",
    "- 参考教程1：https://www.runoob.com/numpy/numpy-tutorial.html\n",
    "- 参考教程2：https://geek-docs.com/numpy/numpy-top-tutorials/1000100_numpy_index.html"
   ],
   "metadata": {
    "collapsed": false
   },
   "id": "420d603fad72c668"
  },
  {
   "cell_type": "code",
   "source": [
    "import numpy as np\n",
    "\n",
    "print(np.__version__)\n",
    "print(np.version)\n",
    "print(np.version.version)\n",
    "print(np.version.full_version)"
   ],
   "metadata": {
    "collapsed": false,
    "ExecuteTime": {
     "end_time": "2024-08-22T15:53:51.028078Z",
     "start_time": "2024-08-22T15:53:51.018021Z"
    }
   },
   "id": "87bead3fe44d87c0",
   "outputs": [
    {
     "name": "stdout",
     "output_type": "stream",
     "text": [
      "1.26.4\n",
      "<module 'numpy.version' from '/Users/cosmos/WorkSpace/_configs/py-envs/py312-all/lib/python3.12/site-packages/numpy/version.py'>\n",
      "1.26.4\n",
      "1.26.4\n"
     ]
    }
   ],
   "execution_count": 28
  },
  {
   "cell_type": "markdown",
   "source": [
    "### 1.2 ndarray对象简介"
   ],
   "metadata": {
    "collapsed": false
   },
   "id": "9a3634cf66f5c335"
  },
  {
   "cell_type": "markdown",
   "source": [
    "#### 简介\n",
    "- 下标从0开始\n",
    "- 是同类型元素的数组\n",
    "- 每个元素都有相同的大小\n",
    "\n",
    "#### 属性\n",
    "- `dtype` 元素数据类型\n",
    "- `shape` 形状，一个元组\n",
    "- `stride` 跨度元组，从当前维度前进到下一元素需要跨过的字节数"
   ],
   "metadata": {
    "collapsed": false
   },
   "id": "749de1e46fc01edd"
  },
  {
   "cell_type": "markdown",
   "source": [
    "## 二、数组的基本使用"
   ],
   "metadata": {
    "collapsed": false
   },
   "id": "e711c5e040b67262"
  },
  {
   "cell_type": "markdown",
   "source": [
    "### 2.1 numpy数据类型"
   ],
   "metadata": {
    "collapsed": false
   },
   "id": "e0eb9a6ea3882637"
  },
  {
   "cell_type": "markdown",
   "source": [
    "\n",
    "\n",
    "#### 数据类型\n",
    "dtype类型的实例\n",
    "- bool_\n",
    "- int_ 默认的整数类型\n",
    "- intc\n",
    "- intp\n",
    "- int8\n",
    "- int16\n",
    "- int32\n",
    "- int64\n",
    "- uint8\n",
    "- uint16\n",
    "- uint32\n",
    "- uint64\n",
    "- float_\n",
    "- float16\n",
    "- float32\n",
    "- float64\n",
    "- complex_\n",
    "- complex64\n",
    "- complex128\n",
    "每个内建类型都有唯一定义它的字符代码\n",
    "- b\n",
    "- i\n",
    "- u\n",
    "- f\n",
    "- c\n",
    "- m\n",
    "- M\n",
    "- O\n",
    "- S,a\n",
    "- U\n",
    "- V"
   ],
   "metadata": {
    "collapsed": false
   },
   "id": "1d897ba9525426be"
  },
  {
   "cell_type": "markdown",
   "source": [
    "#### 数据类型 dtype\n",
    "原型：`nump.dtype(object, align, copy)`"
   ],
   "metadata": {
    "collapsed": false
   },
   "id": "e77134b2f97301c7"
  },
  {
   "cell_type": "code",
   "outputs": [
    {
     "name": "stdout",
     "output_type": "stream",
     "text": [
      "dt1 -  int32 <class 'numpy.dtypes.Int32DType'>\n",
      "dt2 -  int32 <class 'numpy.dtypes.Int32DType'>\n",
      "dt3 -  int32 <class 'numpy.dtypes.Int32DType'>\n",
      "stu -  [('name', 'S20'), ('age', '<i4'), ('marks', '<f4')] <class 'numpy.dtypes.VoidDType'>\n"
     ]
    }
   ],
   "source": [
    "import numpy as np\n",
    "\n",
    "dt1 = np.dtype(np.int32)\n",
    "dt2 = np.dtype('i4')\n",
    "dt3 = np.dtype('<i4')\n",
    "\n",
    "print('dt1 - ', dt1, type(dt1))\n",
    "print('dt2 - ', dt2, type(dt2))\n",
    "print('dt3 - ', dt3, type(dt3))\n",
    "\n",
    "# 结构化数据类型\n",
    "stu = np.dtype([('name', 'S20'), ('age', 'i4'), ('marks', 'f4')])\n",
    "print('stu - ', stu, type(stu))"
   ],
   "metadata": {
    "collapsed": false,
    "ExecuteTime": {
     "end_time": "2024-01-28T09:19:36.058071Z",
     "start_time": "2024-01-28T09:19:35.989758Z"
    }
   },
   "id": "bb750bf6425814c0",
   "execution_count": 175
  },
  {
   "cell_type": "markdown",
   "source": [
    "\n",
    "### 2.2 创建数组对象 ndarray"
   ],
   "metadata": {
    "collapsed": false
   },
   "id": "fef7318b3c4c7926"
  },
  {
   "cell_type": "markdown",
   "source": [
    "\n",
    "原型：`numpy.array(object, dtype=None, copy=True, order=None, subook=False, ndmin=0)`\n",
    "原型：`numpy.asarray(a, dtype=None, order=None)`"
   ],
   "metadata": {
    "collapsed": false
   },
   "id": "b1236026f5afc0f4"
  },
  {
   "cell_type": "code",
   "outputs": [
    {
     "name": "stdout",
     "output_type": "stream",
     "text": [
      "<class 'numpy.ndarray'> (5,) int64 [1 2 3 4 5]\n",
      "<class 'numpy.ndarray'> (5,) float64 [1.  2.  3.6 4.  5. ]\n",
      "<class 'numpy.ndarray'> (2, 3) float32 [[1. 2. 3.]\n",
      " [4. 5. 6.]]\n",
      "<class 'numpy.ndarray'> (1, 6) int64 [[1 2 3 4 5 6]]\n",
      "stu -  [('name', 'S20'), ('age', '<i4'), ('marks', '<f4')] <class 'numpy.dtypes.VoidDType'>\n",
      "students - <class 'numpy.ndarray'> (2,) [('name', 'S20'), ('age', '<i4'), ('marks', '<f4')] [(b'Jim', 10, 99.9) (b'Joy', 90, 98.9)]\n"
     ]
    }
   ],
   "source": [
    "import numpy as np\n",
    "\n",
    "# 一维数组\n",
    "arr1 = np.array([1, 2, 3, 4, 5])\n",
    "arr2 = np.array([1, 2, 3.6, 4, 5])\n",
    "print(type(arr1), arr1.shape, arr1.dtype, arr1)\n",
    "print(type(arr2), arr2.shape, arr2.dtype, arr2)\n",
    "\n",
    "# 多维数组\n",
    "arr1 = np.array([[1, 2, 3], [4, 5, 6]], dtype=np.float32)\n",
    "arr2 = np.array([1, 2, 3, 4, 5, 6], ndmin=2)\n",
    "print(type(arr1), arr1.shape, arr1.dtype, arr1)\n",
    "print(type(arr2), arr2.shape, arr2.dtype, arr2)\n",
    "\n",
    "# 结构化数据类型\n",
    "stu = np.dtype([('name', 'S20'), ('age', 'i4'), ('marks', 'f4')])\n",
    "print('stu - ', stu, type(stu))\n",
    "\n",
    "stu_arr = np.array([('Jim', 10, 99.9), ('Joy', 90, 98.9)], dtype=stu)\n",
    "print('students -', type(stu_arr), stu_arr.shape, stu_arr.dtype, stu_arr)"
   ],
   "metadata": {
    "collapsed": false,
    "ExecuteTime": {
     "end_time": "2024-01-28T09:19:36.188258Z",
     "start_time": "2024-01-28T09:19:36.071035Z"
    }
   },
   "id": "e21e9008196eef5f",
   "execution_count": 176
  },
  {
   "cell_type": "code",
   "outputs": [
    {
     "name": "stdout",
     "output_type": "stream",
     "text": [
      "<class 'numpy.ndarray'> (5,) int64 [1 2 3 4 5]\n",
      "<class 'numpy.ndarray'> (5,) int64 [1 2 3 4 5]\n",
      "<class 'numpy.ndarray'> (2,) object [(1, 2, 3) (4, 5)]\n"
     ]
    }
   ],
   "source": [
    "import numpy as np\n",
    "\n",
    "arr1 = np.asarray([1, 2, 3, 4, 5])\n",
    "arr2 = np.asarray((1, 2, 3, 4, 5))\n",
    "arr3 = np.asarray([(1, 2, 3), (4, 5)], dtype=object)\n",
    "\n",
    "print(type(arr1), arr1.shape, arr1.dtype, arr1)\n",
    "print(type(arr2), arr2.shape, arr2.dtype, arr2)\n",
    "print(type(arr3), arr3.shape, arr3.dtype, arr3)\n",
    "# arr3问题：https://blog.csdn.net/m0_53127772/article/details/132492224\n",
    "# https://geek-docs.com/numpy/numpy-tutorials/how-to-fix-valueerror-setting-an-array-element-with-a-sequence.html"
   ],
   "metadata": {
    "collapsed": false,
    "ExecuteTime": {
     "end_time": "2024-01-28T09:19:36.232050Z",
     "start_time": "2024-01-28T09:19:36.159813Z"
    }
   },
   "id": "3b402861417add12",
   "execution_count": 177
  },
  {
   "cell_type": "markdown",
   "source": [
    "#### 特殊函数类型1\n",
    "未初始化数组：`numpy.empty(shape, dtype=None, order=None)`  \n",
    "以0填充数组：`numpy.zeros(shape, dtype=None, order=None)`  \n",
    "以1填充数组：`numpy.ones(shape, dtype=None, order=None)`  \n",
    "以指定元素填充数组：`numpy.full(shape, fill_value, dtype=None, order=None)`  \n",
    "对角线元素为1其他元素为0的数组（类似单位矩阵）：`numpy.eye(N, M=None, k=0, dtype=float, order=None)`  \n",
    "某个范围内的列表数组(左闭右开)：`numpy.arange([start,] stop[, step,], dtype=None)`\n"
   ],
   "metadata": {
    "collapsed": false
   },
   "id": "467bc560f20da7c6"
  },
  {
   "cell_type": "code",
   "outputs": [
    {
     "name": "stdout",
     "output_type": "stream",
     "text": [
      "[[1 2 3]\n",
      " [4 5 6]] <class 'numpy.ndarray'> (2, 3) int64\n",
      "[[0 0 0]\n",
      " [0 0 0]] <class 'numpy.ndarray'> (2, 3) int64\n",
      "[[(0, 0.) (0, 0.) (0, 0.)]\n",
      " [(0, 0.) (0, 0.) (0, 0.)]] <class 'numpy.ndarray'> (2, 3) [('x', '<i4'), ('y', '<f4')]\n",
      "[[1 1 1]\n",
      " [1 1 1]] <class 'numpy.ndarray'> (2, 3) int64\n",
      "[[(1, 1.) (1, 1.) (1, 1.)]\n",
      " [(1, 1.) (1, 1.) (1, 1.)]] <class 'numpy.ndarray'> (2, 3) [('x', '<i4'), ('y', '<f4')]\n",
      "[[1024 1024 1024]\n",
      " [1024 1024 1024]] <class 'numpy.ndarray'> (2, 3) int64\n",
      "[[1 0 0]\n",
      " [0 1 0]\n",
      " [0 0 1]] <class 'numpy.ndarray'> (3, 3) int64\n",
      "[[1 0 0 0 0]\n",
      " [0 1 0 0 0]\n",
      " [0 0 1 0 0]] <class 'numpy.ndarray'> (3, 5) uint8\n",
      "[0 1 2 3 4 5 6 7 8 9] <class 'numpy.ndarray'> (10,) int64\n",
      "[10 11 12 13 14 15 16 17 18 19] <class 'numpy.ndarray'> (10,) int64\n",
      "[10 12 14 16 18] <class 'numpy.ndarray'> (5,) int64\n",
      "[10. 12. 14. 16. 18.] <class 'numpy.ndarray'> (5,) float32\n"
     ]
    }
   ],
   "source": [
    "# 未初始化数组\n",
    "arr1 = np.empty([2, 3], dtype=np.intp)\n",
    "\n",
    "print(arr1, type(arr1), arr1.shape, arr1.dtype)\n",
    "\n",
    "# 以0填充数\n",
    "arr2 = np.zeros([2, 3], dtype=np.intp)\n",
    "arr3 = np.zeros([2, 3], dtype=[('x', 'i4'), ('y', 'f')])  # 使用了结构化类型\n",
    "\n",
    "print(arr2, type(arr2), arr2.shape, arr2.dtype)\n",
    "print(arr3, type(arr3), arr3.shape, arr3.dtype)\n",
    "\n",
    "# 以 1 填充\n",
    "arr2 = np.ones([2, 3], dtype=np.intp)\n",
    "arr3 = np.ones([2, 3], dtype=[('x', 'i4'), ('y', 'f')])  # 使用了结构化类型\n",
    "\n",
    "print(arr2, type(arr2), arr2.shape, arr2.dtype)\n",
    "print(arr3, type(arr3), arr3.shape, arr3.dtype)\n",
    "\n",
    "# 以指定元素填充数组\n",
    "arr1 = np.full([2, 3], 1024)\n",
    "print(arr1, type(arr1), arr1.shape, arr1.dtype)\n",
    "\n",
    "# 对角线元素为1其他元素为0的数组（类似单位矩阵）\n",
    "arr1 = np.eye(3, dtype=int)\n",
    "arr2 = np.eye(3, 5, dtype=np.uint8)\n",
    "\n",
    "print(arr1, type(arr1), arr1.shape, arr1.dtype)\n",
    "print(arr2, type(arr2), arr2.shape, arr2.dtype)\n",
    "\n",
    "# 某个范围内的列表数组(左闭右开)\n",
    "arr1 = np.arange(10)\n",
    "arr2 = np.arange(10, 20)\n",
    "arr3 = np.arange(10, 20, 2)\n",
    "arr4 = np.arange(10, 20, 2, 'f4')\n",
    "print(arr1, type(arr1), arr1.shape, arr1.dtype)\n",
    "print(arr2, type(arr2), arr2.shape, arr2.dtype)\n",
    "print(arr3, type(arr3), arr3.shape, arr3.dtype)\n",
    "print(arr4, type(arr4), arr4.shape, arr4.dtype)"
   ],
   "metadata": {
    "collapsed": false,
    "ExecuteTime": {
     "end_time": "2024-01-28T09:19:36.321841Z",
     "start_time": "2024-01-28T09:19:36.203469Z"
    }
   },
   "id": "8d2b78d26bef0368",
   "execution_count": 178
  },
  {
   "cell_type": "markdown",
   "source": [
    "#### 特殊函数类型2\n",
    "以流形式创建动态数组：`numpy.frombuffer(buffer, dtype=float, count=-1, offset=0)`\n",
    "\n",
    "> buffer是字符串的时候，python3默认str是Unicode类型，所以要转成bytesstring在原str前加上b。\n",
    "\n",
    "以可迭代对象创建动态数组：`numpy.fromiter(iterable, dtype, count=-1)`\n",
    "\n",
    "等差数列的一维数组：`numpy.linspace(start, stop, num=50, endpoint=True, restep=False, dtype=None)`\n",
    "\n",
    "等比数列的一维数组：`numpy.logspace(start, stop, num=50, endpoint=True, base=10.0, dtype=None)`"
   ],
   "metadata": {
    "collapsed": false
   },
   "id": "7c7f7aee6dc57a17"
  },
  {
   "cell_type": "code",
   "outputs": [
    {
     "name": "stdout",
     "output_type": "stream",
     "text": [
      "[b'l' b'l' b'o' b' ' b'w'] <class 'numpy.ndarray'> (5,) |S1\n",
      "[b'ABC' b'DEF'] <class 'numpy.ndarray'> (2,) |S3\n",
      "[49 50 51 52 53 54 55 56 57] <class 'numpy.ndarray'> (9,) uint8\n",
      "[1. 2. 3. 4. 5. 6.] <class 'numpy.ndarray'> (6,) float32\n",
      "[1 2 3 4 5 6] <class 'numpy.ndarray'> (6,) int8\n",
      "[ 1  2  3  4  5  6  7  8  9 10] <class 'numpy.ndarray'> (10,) uint8\n",
      "[ 1.         1.4736842  1.9473684  2.4210527  2.8947368  3.368421\n",
      "  3.8421052  4.3157897  4.7894735  5.263158   5.736842   6.2105265\n",
      "  6.6842103  7.1578946  7.631579   8.105263   8.578947   9.052631\n",
      "  9.526316  10.       ] <class 'numpy.ndarray'> (20,) float32\n",
      "[   2    4    8   16   32   64  128  256  512 1024] <class 'numpy.ndarray'> (10,) int32\n"
     ]
    }
   ],
   "source": [
    "import numpy as np\n",
    "\n",
    "# 以流形式创建动态数组\n",
    "arr1 = np.frombuffer(b\"Hello world~!\", dtype='S1', count=5, offset=2)\n",
    "arr2 = np.frombuffer(b'ABCDEF', dtype='S3')\n",
    "arr3 = np.frombuffer(b'123456789', dtype=np.uint8)\n",
    "\n",
    "print(arr1, type(arr1), arr1.shape, arr1.dtype)\n",
    "print(arr2, type(arr2), arr2.shape, arr2.dtype)\n",
    "print(arr3, type(arr3), arr3.shape, arr3.dtype)\n",
    "\n",
    "# 以可迭代对象创建动态数组\n",
    "arr1 = np.fromiter(iter([1, 2, 3, 4, 5, 6]), dtype=np.float32)\n",
    "arr2 = np.fromiter(iter([1, 2, 3, 4, 5, 6]), dtype=np.int8)\n",
    "print(arr1, type(arr1), arr1.shape, arr1.dtype)\n",
    "print(arr2, type(arr2), arr2.shape, arr2.dtype)\n",
    "\n",
    "# 等差数列的一维数组\n",
    "\n",
    "arr1 = np.linspace(1, 10, 10, dtype=np.uint8)\n",
    "arr2 = np.linspace(1, 10, 20, dtype=np.float32)\n",
    "print(arr1, type(arr1), arr1.shape, arr1.dtype)\n",
    "print(arr2, type(arr2), arr2.shape, arr2.dtype)\n",
    "\n",
    "# 等比数列的一维数组\n",
    "arr1 = np.logspace(1, 10, 10, dtype='i4', base=2)\n",
    "print(arr1, type(arr1), arr1.shape, arr1.dtype)"
   ],
   "metadata": {
    "collapsed": false,
    "ExecuteTime": {
     "end_time": "2024-01-28T09:19:36.432859Z",
     "start_time": "2024-01-28T09:19:36.330568Z"
    }
   },
   "id": "239124c1b4d7f702",
   "execution_count": 179
  },
  {
   "cell_type": "markdown",
   "source": [
    "#### 随机数\n",
    "生成[0,1)之间的随机数：`numpy.random.rand(d0, d1, ..., dn)`\n",
    "生成[0,1)之间的随机数：`numpy.random.random(size=None)`\n",
    "生成随机整数：`numpy.random.randint(low, high=None, size=None, dtype=None)`\n",
    "返回标准正态分布N(0,1)的一个或一组样本：`numpy.random.randn(d0, d1, ..., dn)`\n",
    "生成高斯分布的概率密度随机数：`numpy.random.normal(loc=0.0, scale=1.0, size=None)`"
   ],
   "metadata": {
    "collapsed": false
   },
   "id": "77422863f1a43fc6"
  },
  {
   "cell_type": "code",
   "outputs": [
    {
     "name": "stdout",
     "output_type": "stream",
     "text": [
      "0.4467061619964898\n",
      "[7.93744669e-01 7.23233300e-01 1.06325496e-04]\n",
      "[[0.56373954 0.82853137]\n",
      " [0.00237099 0.31578816]\n",
      " [0.71153581 0.32637162]]\n",
      "[[[0.42255226 0.4188268  0.86855082 0.10833073]\n",
      "  [0.57361827 0.60220959 0.07127345 0.30465275]\n",
      "  [0.4713651  0.42877537 0.76396001 0.23942578]]\n",
      "\n",
      " [[0.59326935 0.21598771 0.32855583 0.06827275]\n",
      "  [0.72565378 0.61223991 0.11700494 0.6873665 ]\n",
      "  [0.14501862 0.96252832 0.77727822 0.90335003]]]\n",
      "0.7843792250906823\n",
      "[0.50868687 0.13197066 0.22981003 0.61674587 0.76894367]\n"
     ]
    }
   ],
   "source": [
    "import numpy as np\n",
    "\n",
    "# 生成0到1之间的随机数\n",
    "print(np.random.rand())\n",
    "# 生成0到1之间的随机数，有3个元素的一维数组\n",
    "print(np.random.rand(3))\n",
    "# 生成0到1之间的随机数，二维数组\n",
    "print(np.random.rand(3, 2))\n",
    "# 生成0到1之间的随机数，多维数组\n",
    "print(np.random.rand(2, 3, 4))\n",
    "\n",
    "# 生成[0,1)之间的随机数\n",
    "print(np.random.random())\n",
    "print(np.random.random(5))"
   ],
   "metadata": {
    "collapsed": false,
    "ExecuteTime": {
     "end_time": "2024-01-28T09:21:37.411509Z",
     "start_time": "2024-01-28T09:21:37.405264Z"
    }
   },
   "id": "3cc19acaad6c357e",
   "execution_count": 183
  },
  {
   "cell_type": "code",
   "outputs": [
    {
     "name": "stdout",
     "output_type": "stream",
     "text": [
      "8\n",
      "[8 8 0 6 1]\n"
     ]
    }
   ],
   "source": [
    "# 生成随机整数\n",
    "print(np.random.randint(10))\n",
    "print(np.random.randint(0, 10, 5))"
   ],
   "metadata": {
    "collapsed": false,
    "ExecuteTime": {
     "end_time": "2024-01-28T09:26:22.731620Z",
     "start_time": "2024-01-28T09:26:22.718495Z"
    }
   },
   "id": "769c186f02ca506",
   "execution_count": 197
  },
  {
   "cell_type": "code",
   "outputs": [
    {
     "name": "stdout",
     "output_type": "stream",
     "text": [
      "0.8810603641789418\n",
      "[ 0.35262675 -1.10266781]\n",
      "[[ 0.29848657 -0.38834993  0.36441861]\n",
      " [-1.02179129  0.50777643  1.83670195]]\n"
     ]
    }
   ],
   "source": [
    "# 返回标准正态分布N(0,1)的一个或一组样本\n",
    "print(np.random.randn())\n",
    "print(np.random.randn(2))\n",
    "print(np.random.randn(2, 3))"
   ],
   "metadata": {
    "collapsed": false,
    "ExecuteTime": {
     "end_time": "2024-01-28T09:28:51.072983Z",
     "start_time": "2024-01-28T09:28:51.061085Z"
    }
   },
   "id": "8b59925ea5b09d3d",
   "execution_count": 198
  },
  {
   "cell_type": "code",
   "outputs": [
    {
     "name": "stdout",
     "output_type": "stream",
     "text": [
      "-1.1460308867811968\n",
      "[0.88005893 2.6173731  2.19524246 2.84205078 3.4007643 ]\n"
     ]
    }
   ],
   "source": [
    "# 生成高斯分布的概率密度随机数\n",
    "print(np.random.normal())\n",
    "print(np.random.normal(loc=1, scale=2, size=5))"
   ],
   "metadata": {
    "collapsed": false,
    "ExecuteTime": {
     "end_time": "2024-01-28T09:33:23.384048Z",
     "start_time": "2024-01-28T09:33:23.372809Z"
    }
   },
   "id": "c4401f2811c579f0",
   "execution_count": 200
  },
  {
   "cell_type": "markdown",
   "source": [
    "### 2.3 numpy数组与python列表的对比"
   ],
   "metadata": {
    "collapsed": false
   },
   "id": "383cda97ca37aca5"
  },
  {
   "cell_type": "code",
   "outputs": [
    {
     "name": "stdout",
     "output_type": "stream",
     "text": [
      "耗时：0.1020209789276123\n",
      "5000740.93584\n",
      "耗时：0.008448123931884766\n",
      "5000740.93583952\n"
     ]
    }
   ],
   "source": [
    "import random\n",
    "import time\n",
    "import numpy as np\n",
    "\n",
    "li = []\n",
    "for i in range(1000_0000):\n",
    "    li.append(random.random())\n",
    "\n",
    "# python版本随机数求和\n",
    "t1 = time.time()\n",
    "ret = sum(li)\n",
    "t2 = time.time()\n",
    "print(f'耗时：{t2 - t1}')\n",
    "print(ret)\n",
    "\n",
    "# numpy版本随机数求和\n",
    "lix = np.array(li)\n",
    "t1 = time.time()\n",
    "retx = np.sum(lix)\n",
    "t2 = time.time()\n",
    "print(f'耗时：{t2 - t1}')\n",
    "print(retx)"
   ],
   "metadata": {
    "collapsed": false,
    "ExecuteTime": {
     "end_time": "2024-01-28T09:40:37.280451Z",
     "start_time": "2024-01-28T09:40:33.587539Z"
    }
   },
   "id": "7b67123e08e9d209",
   "execution_count": 207
  },
  {
   "cell_type": "markdown",
   "source": [
    "### 2.4 ndarray数组属性"
   ],
   "metadata": {
    "collapsed": false
   },
   "id": "a543884d73241076"
  },
  {
   "cell_type": "markdown",
   "source": [
    "维数称为秩(rank)\n",
    "轴（axis），维度（dimensions）\n",
    "- ndim 秩，即轴的数量或维度的数量\n",
    "- shape 维度\n",
    "- size 元素总数\n",
    "- dtype 元素的类型\n",
    "- itemsize 每个元素的大小，以字节为单位\n",
    "- flags 内存信息\n",
    "- real 实部\n",
    "- image 虚部\n",
    "- data 实际数组的缓冲区\n"
   ],
   "metadata": {
    "collapsed": false
   },
   "id": "120e90f3cafe4834"
  },
  {
   "cell_type": "code",
   "outputs": [
    {
     "name": "stdout",
     "output_type": "stream",
     "text": [
      "[ 0  1  2  3  4  5  6  7  8  9 10 11 12 13 14 15 16 17 18 19 20 21 22 23] 1 (24,)\n",
      "[[[ 0  1  2  3]\n",
      "  [ 4  5  6  7]\n",
      "  [ 8  9 10 11]]\n",
      "\n",
      " [[12 13 14 15]\n",
      "  [16 17 18 19]\n",
      "  [20 21 22 23]]] 3 (2, 3, 4)\n",
      "24 int64 8\n",
      "1\n"
     ]
    }
   ],
   "source": [
    "# dim, shape\n",
    "arr = np.arange(24)\n",
    "print(arr, arr.ndim, arr.shape)\n",
    "arrx = arr.reshape(2, 3, 4)\n",
    "print(arrx, arrx.ndim, arrx.shape)\n",
    "# size, dtype, itemsize\n",
    "print(arrx.size, arrx.dtype, arrx.itemsize)\n",
    "print(np.array([1, 2, 3], dtype='i1').itemsize)"
   ],
   "metadata": {
    "collapsed": false,
    "ExecuteTime": {
     "end_time": "2024-01-28T10:03:28.027412Z",
     "start_time": "2024-01-28T10:03:28.015925Z"
    }
   },
   "id": "6719f990bbd42f4a",
   "execution_count": 237
  },
  {
   "cell_type": "code",
   "outputs": [
    {
     "name": "stdout",
     "output_type": "stream",
     "text": [
      "  C_CONTIGUOUS : True\n",
      "  F_CONTIGUOUS : True\n",
      "  OWNDATA : True\n",
      "  WRITEABLE : True\n",
      "  ALIGNED : True\n",
      "  WRITEBACKIFCOPY : False\n"
     ]
    }
   ],
   "source": [
    "# flags\n",
    "'''\n",
    "  C_CONTIGUOUS : 数据在一个单一的C风格的连续段中\n",
    "  F_CONTIGUOUS : 数据在一个单一的Fortran风格的连续段中\n",
    "  OWNDATA : 数据拥有它所使用的内存或从另一个对象中借用它\n",
    "  WRITEABLE : 数据区域可以被写入，该值设制为False，则数据为只读\n",
    "  ALIGNED : 数据和所有元素都适当地对齐到硬件上\n",
    "  WRITEBACKIFCOPY : 是其他数组的副本，释放时原数组的内容将被更新\n",
    "'''\n",
    "arr = np.array([1, 2, 3], dtype='i1')\n",
    "print(arr.flags)\n",
    "\n",
    "# real\n",
    "# image\n",
    "# data"
   ],
   "metadata": {
    "collapsed": false,
    "ExecuteTime": {
     "end_time": "2024-01-28T10:04:48.691737Z",
     "start_time": "2024-01-28T10:04:48.684951Z"
    }
   },
   "id": "bd93bd3fc32a271a",
   "execution_count": 238
  },
  {
   "cell_type": "markdown",
   "source": [
    "## 三、元素操作"
   ],
   "metadata": {
    "collapsed": false
   },
   "id": "cc2d363441812a25"
  },
  {
   "cell_type": "markdown",
   "source": [
    "### 3.1 切片和索引"
   ],
   "metadata": {
    "collapsed": false
   },
   "id": "3518bf7ee0dd9d37"
  },
  {
   "cell_type": "code",
   "outputs": [
    {
     "name": "stdout",
     "output_type": "stream",
     "text": [
      "[0 1 2 3 4 5 6 7 8 9]\n",
      "1\n"
     ]
    }
   ],
   "source": [
    "import numpy as np\n",
    "\n",
    "arr = np.arange(10)\n",
    "print(arr)\n",
    "print(arr[1])"
   ],
   "metadata": {
    "collapsed": false,
    "ExecuteTime": {
     "end_time": "2024-01-29T07:06:53.405417Z",
     "start_time": "2024-01-29T07:06:53.397494Z"
    }
   },
   "id": "1109cae8ec392025",
   "execution_count": 248
  },
  {
   "cell_type": "code",
   "outputs": [
    {
     "name": "stdout",
     "output_type": "stream",
     "text": [
      "[2 4 6]\n",
      "[2 4 6]\n",
      "[2 3 4 5 6 7 8 9]\n",
      "[2 3 4 5 6]\n"
     ]
    }
   ],
   "source": [
    "s = slice(2, 7, 2)\n",
    "print(arr[s])\n",
    "print(arr[2:7:2])  # start : stop : step\n",
    "print(arr[2:])\n",
    "print(arr[2:7])"
   ],
   "metadata": {
    "collapsed": false,
    "ExecuteTime": {
     "end_time": "2024-01-29T07:12:28.293814Z",
     "start_time": "2024-01-29T07:12:28.285796Z"
    }
   },
   "id": "2417f093ae0ed373",
   "execution_count": 253
  },
  {
   "cell_type": "markdown",
   "source": [
    "#### 冒号“:”的解释\n",
    "- [index] 如果只放置一个参数，将返回与该索引相对应的单个元素。\n",
    "- [start:] 表示从该索引开始以后的所有项都被提取\n",
    "- [start: stop:] 表示从start（包含）到stop（不包含）的左闭右开区间内的索引对应的项目\n",
    "- 多维数组同样适用上述方法"
   ],
   "metadata": {
    "collapsed": false
   },
   "id": "5ccf52405182f0d3"
  },
  {
   "cell_type": "code",
   "outputs": [
    {
     "name": "stdout",
     "output_type": "stream",
     "text": [
      "[[ 0  1  2]\n",
      " [ 3  4  5]\n",
      " [ 6  7  8]\n",
      " [ 9 10 11]\n",
      " [12 13 14]]\n"
     ]
    }
   ],
   "source": [
    "import numpy as np\n",
    "\n",
    "arr = np.arange(15)\n",
    "arr.shape = (5, 3)\n",
    "print(arr)"
   ],
   "metadata": {
    "collapsed": false,
    "ExecuteTime": {
     "end_time": "2024-01-29T07:14:17.861779Z",
     "start_time": "2024-01-29T07:14:17.850742Z"
    }
   },
   "id": "9dce83ed73ab7999",
   "execution_count": 254
  },
  {
   "cell_type": "code",
   "outputs": [
    {
     "name": "stdout",
     "output_type": "stream",
     "text": [
      "[6 7 8] <class 'numpy.ndarray'>\n",
      "7 <class 'numpy.int64'>\n"
     ]
    }
   ],
   "source": [
    "print(arr[2], type(arr[2]))\n",
    "print(arr[2][1], type(arr[2][1]))"
   ],
   "metadata": {
    "collapsed": false,
    "ExecuteTime": {
     "end_time": "2024-01-29T07:16:07.234994Z",
     "start_time": "2024-01-29T07:16:07.228909Z"
    }
   },
   "id": "8f5b334e6b4485c5",
   "execution_count": 260
  },
  {
   "cell_type": "code",
   "outputs": [
    {
     "name": "stdout",
     "output_type": "stream",
     "text": [
      "[[ 6  7  8]\n",
      " [ 9 10 11]\n",
      " [12 13 14]]\n",
      "[[0 1 2]\n",
      " [3 4 5]]\n"
     ]
    }
   ],
   "source": [
    "print(arr[2:])\n",
    "print(arr[:2])"
   ],
   "metadata": {
    "collapsed": false,
    "ExecuteTime": {
     "end_time": "2024-01-29T07:15:36.256786Z",
     "start_time": "2024-01-29T07:15:36.242858Z"
    }
   },
   "id": "e6a8e81985cbc466",
   "execution_count": 258
  },
  {
   "cell_type": "markdown",
   "source": [
    "切片还可以包含省略号“...”，来使选择元组的长度和数组的维度相同。如果在行位置使用省略号，它将返回包含行中元素的ndarray"
   ],
   "metadata": {
    "collapsed": false
   },
   "id": "261588b426c7fa54"
  },
  {
   "cell_type": "code",
   "outputs": [
    {
     "name": "stdout",
     "output_type": "stream",
     "text": [
      "[[ 1  2  3]\n",
      " [ 4  5  6]\n",
      " [ 7  8  9]\n",
      " [10 11 12]\n",
      " [13 14 15]]\n"
     ]
    }
   ],
   "source": [
    "arr = np.arange(1, 16)\n",
    "arr.shape = (5, 3)\n",
    "print(arr)"
   ],
   "metadata": {
    "collapsed": false,
    "ExecuteTime": {
     "end_time": "2024-01-29T07:23:57.530570Z",
     "start_time": "2024-01-29T07:23:57.515334Z"
    }
   },
   "id": "8d428b59a476a346",
   "execution_count": 268
  },
  {
   "cell_type": "code",
   "outputs": [
    {
     "name": "stdout",
     "output_type": "stream",
     "text": [
      "[ 2  5  8 11 14]\n",
      "[[ 2  3]\n",
      " [ 5  6]\n",
      " [ 8  9]\n",
      " [11 12]\n",
      " [14 15]]\n"
     ]
    }
   ],
   "source": [
    "# 第2列元素\n",
    "print(arr[..., 1])\n",
    "# 第2列及剩下的所有元素\n",
    "print(arr[..., 1:])"
   ],
   "metadata": {
    "collapsed": false,
    "ExecuteTime": {
     "end_time": "2024-01-29T07:26:54.609956Z",
     "start_time": "2024-01-29T07:26:54.591117Z"
    }
   },
   "id": "90b950cd55215150",
   "execution_count": 273
  },
  {
   "cell_type": "code",
   "outputs": [
    {
     "name": "stdout",
     "output_type": "stream",
     "text": [
      "[4 5 6]\n",
      "[[ 4  5  6]\n",
      " [ 7  8  9]\n",
      " [10 11 12]\n",
      " [13 14 15]]\n"
     ]
    }
   ],
   "source": [
    "# 第2行元素\n",
    "print(arr[1, ...])\n",
    "# 第2行及剩下的所有元素\n",
    "print(arr[1:, ...])"
   ],
   "metadata": {
    "collapsed": false,
    "ExecuteTime": {
     "end_time": "2024-01-29T07:26:58.947092Z",
     "start_time": "2024-01-29T07:26:58.938055Z"
    }
   },
   "id": "91abbb326a373255",
   "execution_count": 274
  },
  {
   "cell_type": "markdown",
   "source": [
    "### 3.2 高级索引"
   ],
   "metadata": {
    "collapsed": false
   },
   "id": "9d6f4e1382f83cc0"
  },
  {
   "cell_type": "markdown",
   "source": [
    "#### 整数数组索引"
   ],
   "metadata": {
    "collapsed": false
   },
   "id": "b307e0fdfc1ec2b4"
  },
  {
   "cell_type": "markdown",
   "source": [
    "- 获取数组(0,0), (1,1), (2,1)位置处的索引"
   ],
   "metadata": {
    "collapsed": false
   },
   "id": "d2ed7dfb16213fea"
  },
  {
   "cell_type": "markdown",
   "source": [],
   "metadata": {
    "collapsed": false
   },
   "id": "c92751f5f91c16c2"
  },
  {
   "cell_type": "code",
   "outputs": [
    {
     "name": "stdout",
     "output_type": "stream",
     "text": [
      "[[1 2 3]\n",
      " [4 5 6]\n",
      " [7 8 9]]\n",
      "[1 5 7]\n"
     ]
    }
   ],
   "source": [
    "import numpy as np\n",
    "\n",
    "arr = np.arange(1, 10).reshape(3, 3)\n",
    "print(arr)\n",
    "print(arr[[0, 1, 2], [0, 1, 0]])"
   ],
   "metadata": {
    "collapsed": false,
    "ExecuteTime": {
     "end_time": "2024-01-29T08:16:47.871003Z",
     "start_time": "2024-01-29T08:16:47.866136Z"
    }
   },
   "id": "52a179ac2e2d7d4f",
   "execution_count": 282
  },
  {
   "cell_type": "markdown",
   "source": [
    "- 行索引是[0,0]和[3,3]，列索引是[0,2]和[0,2]"
   ],
   "metadata": {
    "collapsed": false
   },
   "id": "52b31276a2274cad"
  },
  {
   "cell_type": "code",
   "outputs": [
    {
     "name": "stdout",
     "output_type": "stream",
     "text": [
      "[[1 2 3]\n",
      " [4 5 6]\n",
      " [7 8 9]]\n",
      "[[1 3]\n",
      " [7 9]]\n",
      "[1 3 7 9]\n",
      "[[1]\n",
      " [3]\n",
      " [7]\n",
      " [9]]\n"
     ]
    }
   ],
   "source": [
    "import numpy as np\n",
    "\n",
    "arr = np.arange(1, 10).reshape(3, 3)\n",
    "print(arr)\n",
    "\n",
    "rows = np.array([[0, 0], [2, 2]])\n",
    "cols = np.array([[0, 2], [0, 2]])\n",
    "print(arr[rows, cols])\n",
    "print(arr[np.array([0, 0, 2, 2]), np.array([0, 2, 0, 2])])\n",
    "print(arr[np.array([[0], [0], [2], [2]]), np.array([[0], [2], [0], [2]])])"
   ],
   "metadata": {
    "collapsed": false,
    "ExecuteTime": {
     "end_time": "2024-01-29T08:29:33.042263Z",
     "start_time": "2024-01-29T08:29:32.995299Z"
    }
   },
   "id": "1804e42520fd3658",
   "execution_count": 304
  },
  {
   "cell_type": "markdown",
   "source": [
    "- 借助切片（:）或(...)与索引数组组合"
   ],
   "metadata": {
    "collapsed": false
   },
   "id": "4664d2e1906e0722"
  },
  {
   "cell_type": "code",
   "outputs": [
    {
     "name": "stdout",
     "output_type": "stream",
     "text": [
      "[[ 1  2  3  4  5]\n",
      " [ 6  7  8  9 10]\n",
      " [11 12 13 14 15]\n",
      " [16 17 18 19 20]\n",
      " [21 22 23 24 25]]\n",
      "[[ 7  8]\n",
      " [12 13]]\n",
      "[[ 7  8]\n",
      " [12 13]]\n",
      "[[ 2  3]\n",
      " [ 7  8]\n",
      " [12 13]\n",
      " [17 18]\n",
      " [22 23]]\n"
     ]
    }
   ],
   "source": [
    "import numpy as np\n",
    "\n",
    "arr = np.arange(1, 26).reshape(5, 5)\n",
    "print(arr)\n",
    "print(arr[1:3, 1:3])\n",
    "print(arr[1:3, [1, 2]])\n",
    "print(arr[..., 1:3])"
   ],
   "metadata": {
    "collapsed": false,
    "ExecuteTime": {
     "end_time": "2024-01-29T08:27:10.062477Z",
     "start_time": "2024-01-29T08:27:10.045952Z"
    }
   },
   "id": "7eeba8fbe727dba0",
   "execution_count": 299
  },
  {
   "cell_type": "markdown",
   "source": [
    "\n",
    "#### 布尔索引"
   ],
   "metadata": {
    "collapsed": false
   },
   "id": "702db2adfa110c8f"
  },
  {
   "cell_type": "markdown",
   "source": [
    "- 布尔索引通过布尔运算（比如：比较运算符）来获取符合指定条件的元素的数组"
   ],
   "metadata": {
    "collapsed": false
   },
   "id": "743782b74a25393f"
  },
  {
   "cell_type": "code",
   "outputs": [
    {
     "name": "stdout",
     "output_type": "stream",
     "text": [
      "[[1 2 3]\n",
      " [4 5 6]\n",
      " [7 8 9]]\n",
      "[6 7 8 9]\n"
     ]
    }
   ],
   "source": [
    "# 大于5的元素\n",
    "import numpy as np\n",
    "\n",
    "arr = np.arange(1, 10).reshape(3, 3)\n",
    "print(arr)\n",
    "print(arr[arr > 5])"
   ],
   "metadata": {
    "collapsed": false,
    "ExecuteTime": {
     "end_time": "2024-01-29T08:34:50.661630Z",
     "start_time": "2024-01-29T08:34:50.648372Z"
    }
   },
   "id": "7c064638e2c34e31",
   "execution_count": 306
  },
  {
   "cell_type": "code",
   "outputs": [
    {
     "name": "stdout",
     "output_type": "stream",
     "text": [
      "[nan  1.  2.  3. nan  5.]\n",
      "[1. 2. 3. 5.]\n"
     ]
    }
   ],
   "source": [
    "# 使用 ~ (取补运算符)来过滤NaN\n",
    "import numpy as np\n",
    "\n",
    "arr = np.array([np.nan, 1, 2, 3, np.nan, 5])\n",
    "print(arr)\n",
    "print(arr[~np.isnan(arr)])"
   ],
   "metadata": {
    "collapsed": false,
    "ExecuteTime": {
     "end_time": "2024-01-29T08:36:32.357923Z",
     "start_time": "2024-01-29T08:36:32.336427Z"
    }
   },
   "id": "6c2cdebfc73317c7",
   "execution_count": 308
  },
  {
   "cell_type": "markdown",
   "source": [
    "### 3.3 广播"
   ],
   "metadata": {
    "collapsed": false
   },
   "id": "8f4cfed3ac9edf72"
  },
  {
   "cell_type": "markdown",
   "source": [
    "是numpy对不同形状（shape）的数组进行数值计算的方式，对数组的算术运算通常在相应的元素上进行。\n",
    "\n",
    "如果两个数组`a`与`b`形状相同，即`a.shape==b.shape`那么`a+b`的结果就是`a`与`b`对应位置相加。要求维数相同，且各维度的长度相同。\n",
    "如果两个数组的维数不同，则一般元素到元素的操作是不可能的。然而，Numpy中仍然可以对形状不相似的数组进行操作，因为它具备广播功能。\n",
    "广播功能使得较小的数组会广播到较大数组的大小，以便使得它们的形状可兼容。\n",
    "\n",
    "**广播规则**：\n",
    "- 让所有输入数组向其中形状最长的数组看齐，形状中不足的部分都通过在前面加1补齐。\n",
    "- 输出数组的形状是输入数组形状的各个维度上的最大值。\n",
    "- 如果输入数组的某个维度和输出数组的对应维度的长度相同或者其长度为1时，这个数组能够进行计算，否则出错。\n",
    "- 当输入数组的某个维度的长度为1时，沿着此维度运算时都用此维度上的第一组值。\n",
    "\n",
    "**简单理解**：\n",
    "对两个数组，分别比较它们的每个维度，若其中一个数组没有当前维度则忽略，满足\n",
    "- 数组形状相同\n",
    "- 当前维度的值相同\n",
    "- 当前维度的值有一个是1\n",
    "若条件不满足，则抛出异常“ValueError: frames are not aligned”"
   ],
   "metadata": {
    "collapsed": false
   },
   "id": "716a5cfa77fe04b5"
  },
  {
   "cell_type": "markdown",
   "source": [
    "##### General Broadcasting Rules\n",
    "\n",
    "When operating on two arrays, NumPy compares their shapes element-wise. It starts with the trailing (i.e. rightmost) dimension and works its way left. Two dimensions are compatible when\n",
    "当对两个数组进行操作时，NumPy会按元素比较它们的形状。它从尾部（即最右侧）尺寸开始，然后向左移动。当\n",
    "\n",
    "- they are equal, or\n",
    "- 它们是相等的，或者\n",
    "\n",
    "- one of them is 1.\n",
    "- 其中一个是1。\n",
    "\n",
    "If these conditions are not met, a ValueError: operands could not be broadcast together exception is thrown, indicating that the arrays have incompatible shapes.\n",
    "如果不满足这些条件，将引发ValueError: operands could not be broadcast together (ValueError:操作数不能一起广播异常)，表明数组具有不兼容的形状。\n",
    "\n",
    "Input arrays do not need to have the same number of dimensions. The resulting array will have the same number of dimensions as the input array with the greatest number of dimensions, where the size of each dimension is the largest size of the corresponding dimension among the input arrays. Note that missing dimensions are assumed to have size one.\n",
    "输入数组不需要具有相同数量的维度。得到的数组将具有与具有最大维度数的输入数组相同的维度数，其中每个维度的大小是输入数组中对应维度的最大大小。请注意，缺失的尺寸假定为1号。"
   ],
   "metadata": {
    "collapsed": false
   },
   "id": "1a90d26dd5a2d12"
  },
  {
   "cell_type": "code",
   "outputs": [
    {
     "name": "stdout",
     "output_type": "stream",
     "text": [
      "[11 22 33]\n"
     ]
    }
   ],
   "source": [
    "# 形状相同\n",
    "import numpy as np\n",
    "\n",
    "a = np.array([1, 2, 3])\n",
    "b = np.array([10, 20, 30])\n",
    "c = a + b\n",
    "print(c)"
   ],
   "metadata": {
    "collapsed": false,
    "ExecuteTime": {
     "end_time": "2024-02-01T00:15:04.446692Z",
     "start_time": "2024-02-01T00:15:04.323733Z"
    }
   },
   "id": "45434a8a6389c7b",
   "execution_count": 309
  },
  {
   "cell_type": "code",
   "outputs": [
    {
     "name": "stdout",
     "output_type": "stream",
     "text": [
      "a =\n",
      " [[1 2 3]\n",
      " [4 5 6]\n",
      " [7 8 9]]\n",
      "b1 =\n",
      " [10]\n",
      "b2 =\n",
      " [10 20 30]\n",
      "b3 =\n",
      " [[10]\n",
      " [20]\n",
      " [30]]\n",
      "-\n",
      "a+b1 = \n",
      " [[11 12 13]\n",
      " [14 15 16]\n",
      " [17 18 19]]\n",
      "a+b2 =\n",
      " [[11 22 33]\n",
      " [14 25 36]\n",
      " [17 28 39]]\n",
      "a+b3 =\n",
      " [[11 12 13]\n",
      " [24 25 26]\n",
      " [37 38 39]]\n"
     ]
    }
   ],
   "source": [
    "# 形状不同\n",
    "import numpy as np\n",
    "\n",
    "a = np.arange(1, 10).reshape(3, 3)\n",
    "b1 = np.array([10, ])\n",
    "b2 = np.array([10, 20, 30])\n",
    "b3 = np.array([10, 20, 30]).reshape(3, 1)\n",
    "print('a =\\n', a)\n",
    "print('b1 =\\n', b1)\n",
    "print('b2 =\\n', b2)\n",
    "print('b3 =\\n', b3)\n",
    "print('-')\n",
    "print('a+b1 = \\n', a + b1)\n",
    "print('a+b2 =\\n', a + b2)\n",
    "print('a+b3 =\\n', a + b3)"
   ],
   "metadata": {
    "collapsed": false,
    "ExecuteTime": {
     "end_time": "2024-02-01T00:25:40.228574Z",
     "start_time": "2024-02-01T00:25:40.213826Z"
    }
   },
   "id": "9b25669521ac890a",
   "execution_count": 316
  },
  {
   "cell_type": "code",
   "outputs": [
    {
     "name": "stdout",
     "output_type": "stream",
     "text": [
      "a =\n",
      " [[1 2 3]\n",
      " [4 5 6]\n",
      " [7 8 9]]\n",
      "b2 =\n",
      " [10 20 30]\n",
      "bb2 =\n",
      " [[10 20 30]\n",
      " [10 20 30]\n",
      " [10 20 30]]\n",
      "a + bb2 =\n",
      " [[11 22 33]\n",
      " [14 25 36]\n",
      " [17 28 39]]\n"
     ]
    }
   ],
   "source": [
    "# 案例解释\n",
    "import numpy as np\n",
    "\n",
    "a = np.arange(1, 10).reshape(3, 3)\n",
    "b2 = np.array([10, 20, 30])\n",
    "bb2 = np.tile(b2, (3, 1))\n",
    "print('a =\\n', a)\n",
    "print('b2 =\\n', b2)\n",
    "print('bb2 =\\n', bb2)\n",
    "print(\"a + bb2 =\\n\", a + bb2)"
   ],
   "metadata": {
    "collapsed": false,
    "ExecuteTime": {
     "end_time": "2024-02-01T00:41:44.144021Z",
     "start_time": "2024-02-01T00:41:44.135081Z"
    }
   },
   "id": "662b8dede77754ba",
   "execution_count": 326
  },
  {
   "cell_type": "markdown",
   "source": [
    "### 3.4 迭代"
   ],
   "metadata": {
    "collapsed": false
   },
   "id": "69ebd531d41c53c5"
  },
  {
   "cell_type": "markdown",
   "source": [
    "#### numpy.nditer基本使用\n",
    "\n",
    "它是一个有效的多维迭代器对象，可以用在数组上进行迭代。数组的每个元素可使用 Python的标准Iterator接口来访问。\n",
    "\n",
    "不是使用标准C或Fortran顺序，选择的顺序是和数组内存是一致的，这样做是为了提升访问的效率，默认是行序优先（row-major order，或者说是 C-order）\n",
    "\n",
    "反映了默认情况下只需访问每个元素，而无需考虑特定顺序。\n",
    "\n",
    "可以通过迭代上述数组的转置来看这一点，并与以C顺序访问的数组转置的copy方式做对比。\n",
    "\n",
    "`a`和`a.T`的遍历顺序是一样的，也就是它们在内存中的存储顺序也是一样的，但`a.T.copy(order='c')`的遍历结果是不同的，那是因为它和前两种的存储方式是不一样的，默认是按行访问。"
   ],
   "metadata": {
    "collapsed": false
   },
   "id": "e820e2cc6db8144"
  },
  {
   "cell_type": "code",
   "outputs": [
    {
     "name": "stdout",
     "output_type": "stream",
     "text": [
      "a =\n",
      " [0 1 2 3 4 5]\n",
      "b =\n",
      " [[0 1 2]\n",
      " [3 4 5]]\n",
      "0,1,2,3,4,5,\n",
      "c =\n",
      " [[0 3]\n",
      " [1 4]\n",
      " [2 5]]\n",
      "0,1,2,3,4,5,\n",
      "d =\n",
      " [[0 3]\n",
      " [1 4]\n",
      " [2 5]]\n",
      "0,3,1,4,2,5,\n",
      "e =\n",
      " [[0 3]\n",
      " [1 4]\n",
      " [2 5]]\n",
      "0,3,1,4,2,5,\n",
      "f =\n",
      " [[0 3]\n",
      " [1 4]\n",
      " [2 5]]\n",
      "0,3,1,4,2,5,\n"
     ]
    }
   ],
   "source": [
    "import numpy as np\n",
    "\n",
    "a = np.arange(6)\n",
    "print('a =\\n', a)\n",
    "\n",
    "b = a.reshape(2, 3)\n",
    "print('b =\\n', b)\n",
    "for x in np.nditer(b):\n",
    "    print(x, end=',')\n",
    "print()\n",
    "\n",
    "c = b.T\n",
    "print('c =\\n', c)\n",
    "for x in np.nditer(c):\n",
    "    print(x, end=',')\n",
    "print()\n",
    "\n",
    "d = b.T.copy(order='C')\n",
    "print('d =\\n', d)\n",
    "for x in np.nditer(d):\n",
    "    print(x, end=',')\n",
    "print()\n",
    "\n",
    "e = np.array([[0, 3], [1, 4], [2, 5]])\n",
    "\n",
    "print('e =\\n', e)\n",
    "for x in np.nditer(e):\n",
    "    print(x, end=',')\n",
    "print()\n",
    "\n",
    "f = b.T.copy()\n",
    "print('f =\\n', f)\n",
    "for x in np.nditer(f):\n",
    "    print(x, end=',')\n",
    "print()"
   ],
   "metadata": {
    "collapsed": false,
    "ExecuteTime": {
     "end_time": "2024-02-01T01:03:46.504920Z",
     "start_time": "2024-02-01T01:03:46.475831Z"
    }
   },
   "id": "d8d35570b51e037",
   "execution_count": 336
  },
  {
   "cell_type": "markdown",
   "source": [
    "#### 控制遍历顺序\n",
    "\n",
    "- Fortran order 列序优先 `for x in np.nditer(a, order='F')`\n",
    "- C order 行序优先 `for x in np.nditer(a.T, order='C')`"
   ],
   "metadata": {
    "collapsed": false
   },
   "id": "efe0c6e0e94177a2"
  },
  {
   "cell_type": "code",
   "outputs": [
    {
     "name": "stdout",
     "output_type": "stream",
     "text": [
      "a = \n",
      " [[0 1 2]\n",
      " [3 4 5]]\n",
      "b = \n",
      " [[0 3]\n",
      " [1 4]\n",
      " [2 5]]\n",
      "c =\n",
      " [[0 3]\n",
      " [1 4]\n",
      " [2 5]]\n",
      "0, 3, 1, 4, 2, 5, \n",
      "d =\n",
      " [[0 3]\n",
      " [1 4]\n",
      " [2 5]]\n",
      "0, 1, 2, 3, 4, 5, \n"
     ]
    }
   ],
   "source": [
    "import numpy as np\n",
    "\n",
    "a = np.arange(6)\n",
    "a = a.reshape(2, 3)\n",
    "print('a = \\n', a)\n",
    "\n",
    "b = a.T\n",
    "print('b = \\n', b)\n",
    "\n",
    "# C order\n",
    "c = b.copy(order='C')\n",
    "print('c =\\n', c)\n",
    "for x in np.nditer(c):\n",
    "    print(x, end=', ')\n",
    "print()\n",
    "\n",
    "# Fortran order\n",
    "d = b.copy(order='F')\n",
    "print('d =\\n', d)\n",
    "for x in np.nditer(d):\n",
    "    print(x, end=', ')\n",
    "print()"
   ],
   "metadata": {
    "collapsed": false,
    "ExecuteTime": {
     "end_time": "2024-02-01T01:11:47.825879Z",
     "start_time": "2024-02-01T01:11:47.817630Z"
    }
   },
   "id": "59c4600ab9b2a61d",
   "execution_count": 342
  },
  {
   "cell_type": "markdown",
   "source": [
    "##### 显式设制\n",
    "\n",
    "强制nditer对象使用某种顺序"
   ],
   "metadata": {
    "collapsed": false
   },
   "id": "76789a61daf95456"
  },
  {
   "cell_type": "code",
   "outputs": [
    {
     "name": "stdout",
     "output_type": "stream",
     "text": [
      "a = \n",
      "[[1 2 3]\n",
      " [4 5 6]]\n",
      "C order ->\n",
      "1, 2, 3, 4, 5, 6, \n",
      "F order ->\n",
      "1, 4, 2, 5, 3, 6, \n"
     ]
    }
   ],
   "source": [
    "import numpy as np\n",
    "\n",
    "a = np.arange(1, 7).reshape(2, 3)\n",
    "print('a = ')\n",
    "print(a)\n",
    "\n",
    "# C order\n",
    "print('C order ->')\n",
    "for x in np.nditer(a, order='C'):\n",
    "    print(x, end=', ')\n",
    "print()\n",
    "\n",
    "# F order\n",
    "print('F order ->')\n",
    "for x in np.nditer(a, order='F'):\n",
    "    print(x, end=', ')\n",
    "print()"
   ],
   "metadata": {
    "collapsed": false,
    "ExecuteTime": {
     "end_time": "2024-02-02T13:09:33.968473Z",
     "start_time": "2024-02-02T13:09:33.955294Z"
    }
   },
   "id": "cfb5e94518662c0",
   "execution_count": 26
  },
  {
   "cell_type": "markdown",
   "source": [
    "##### 修改数组内容"
   ],
   "metadata": {
    "collapsed": false
   },
   "id": "5a9b50518844fef3"
  },
  {
   "cell_type": "code",
   "outputs": [
    {
     "name": "stdout",
     "output_type": "stream",
     "text": [
      "[10 20 30]\n"
     ]
    }
   ],
   "source": [
    "lx = np.array([1, 2, 3])\n",
    "for x in np.nditer(lx, op_flags=['readwrite']):\n",
    "    x[...] = x * 10\n",
    "print(lx)"
   ],
   "metadata": {
    "collapsed": false,
    "ExecuteTime": {
     "end_time": "2024-02-01T03:35:06.470274Z",
     "start_time": "2024-02-01T03:35:06.460829Z"
    }
   },
   "id": "88de52b8f37e0598",
   "execution_count": 366
  },
  {
   "cell_type": "markdown",
   "source": [
    "##### 外部循环\n",
    "`nditer`类的构造器拥有flags参数，它可以接受下列值：\n",
    "- c_index 可以跟踪C顺序的索引\n",
    "- f_index 可以跟踪Fortran顺序的索引\n",
    "- multi-index 每次迭代可以跟踪一种索引类型\n",
    "- external_loop 给出的值是具有多个值的一维数组，而不是零维数组"
   ],
   "metadata": {
    "collapsed": false
   },
   "id": "45d0b9e96c3866bc"
  },
  {
   "cell_type": "code",
   "outputs": [
    {
     "name": "stdout",
     "output_type": "stream",
     "text": [
      "a=\n",
      "[[1 2 3]\n",
      " [4 5 6]]\n",
      "\n",
      "c_index => \n",
      "1, 2, 3, 4, 5, 6, \n",
      "\n",
      "f_index => \n",
      "1, 2, 3, 4, 5, 6, \n",
      "\n",
      "multi_index => \n",
      "1, 2, 3, 4, 5, 6, \n",
      "\n",
      "external_loop => \n",
      "[1 2 3 4 5 6], \n",
      "\n",
      "external_loop C => \n",
      "[1 2 3 4 5 6], \n",
      "\n",
      "external_loop F => \n",
      "[1 4], [2 5], [3 6], "
     ]
    }
   ],
   "source": [
    "import numpy as np\n",
    "\n",
    "a = np.arange(1, 7).reshape(2, 3)\n",
    "print('a=')\n",
    "print(a)\n",
    "print('\\nc_index => ')\n",
    "for x in np.nditer(a, flags=['c_index']):\n",
    "    print(x, end=', ')\n",
    "\n",
    "print('\\n\\nf_index => ')\n",
    "for x in np.nditer(a, flags=['f_index']):\n",
    "    print(x, end=', ')\n",
    "\n",
    "print('\\n\\nmulti_index => ')\n",
    "for x in np.nditer(a, flags=['multi_index']):\n",
    "    print(x, end=', ')\n",
    "\n",
    "print('\\n\\nexternal_loop => ')\n",
    "for x in np.nditer(a, flags=['external_loop']):\n",
    "    print(x, end=', ')\n",
    "\n",
    "print('\\n\\nexternal_loop C => ')\n",
    "for x in np.nditer(a, flags=['external_loop'], order='C'):\n",
    "    print(x, end=', ')\n",
    "\n",
    "print('\\n\\nexternal_loop F => ')\n",
    "for x in np.nditer(a, flags=['external_loop'], order='F'):\n",
    "    print(x, end=', ')\n"
   ],
   "metadata": {
    "collapsed": false,
    "ExecuteTime": {
     "end_time": "2024-02-02T13:14:12.543741Z",
     "start_time": "2024-02-02T13:14:12.516771Z"
    }
   },
   "id": "60a7c8beedb2f05a",
   "execution_count": 28
  },
  {
   "cell_type": "markdown",
   "source": [
    "##### 广播迭代\n",
    "如果两个数组是可广播的，nditer组合对象能够同时迭代它们。假设数组a的维度是3x4，数组b的维度是1x4，则使用以下类型的迭代器（数组b被广播到数组a的大小）"
   ],
   "metadata": {
    "collapsed": false
   },
   "id": "12f7a43db07a4193"
  },
  {
   "cell_type": "code",
   "outputs": [
    {
     "name": "stdout",
     "output_type": "stream",
     "text": [
      "a =\n",
      "[[ 1  2  3  4]\n",
      " [ 5  6  7  8]\n",
      " [ 9 10 11 12]]\n",
      "b =\n",
      "[[1 2 3 4]]\n",
      "c =\n",
      "[[1]\n",
      " [2]\n",
      " [3]]\n",
      "d =\n",
      "[[1]]\n",
      "\n",
      "iter [a, b] C ->\n",
      "1:1, 2:2, 3:3, 4:4, 5:1, 6:2, 7:3, 8:4, 9:1, 10:2, 11:3, 12:4, \n",
      "iter [a, b] F ->\n",
      "1:1, 5:1, 9:1, 2:2, 6:2, 10:2, 3:3, 7:3, 11:3, 4:4, 8:4, 12:4, \n",
      "\n",
      " iter [a, c] C ->\n",
      "1:1, 2:1, 3:1, 4:1, 5:2, 6:2, 7:2, 8:2, 9:3, 10:3, 11:3, 12:3, \n",
      " iter [a, c] F ->\n",
      "1:1, 5:2, 9:3, 2:1, 6:2, 10:3, 3:1, 7:2, 11:3, 4:1, 8:2, 12:3, \n",
      "\n",
      " iter [a, d] C ->\n",
      "1:1, 2:1, 3:1, 4:1, 5:1, 6:1, 7:1, 8:1, 9:1, 10:1, 11:1, 12:1, \n",
      " iter [a, d] F ->\n",
      "1:1, 5:1, 9:1, 2:1, 6:1, 10:1, 3:1, 7:1, 11:1, 4:1, 8:1, 12:1, "
     ]
    }
   ],
   "source": [
    "import numpy as np\n",
    "\n",
    "a = np.arange(1, 13).reshape(3, 4)\n",
    "print('a =')\n",
    "print(a)\n",
    "\n",
    "b = np.arange(1, 5).reshape(1, 4)\n",
    "print('b =')\n",
    "print(b)\n",
    "\n",
    "c = np.arange(1, 4).reshape(3, 1)\n",
    "print('c =')\n",
    "print(c)\n",
    "\n",
    "d = np.arange(1, 2).reshape(1, 1)\n",
    "print('d =')\n",
    "print(d)\n",
    "print()\n",
    "\n",
    "print('iter [a, b] C ->')\n",
    "for x, y in np.nditer([a, b], order='C'):\n",
    "    print(f'{x}:{y}', end=', ')\n",
    "print()\n",
    "\n",
    "print('iter [a, b] F ->')\n",
    "for x, y in np.nditer([a, b], order='F'):\n",
    "    print(f'{x}:{y}', end=', ')\n",
    "print()\n",
    "\n",
    "print('\\n iter [a, c] C ->')\n",
    "for x, y in np.nditer([a, c]):\n",
    "    print(f'{x}:{y}', end=', ')\n",
    "\n",
    "print('\\n iter [a, c] F ->')\n",
    "for x, y in np.nditer([a, c], order='F'):\n",
    "    print(f'{x}:{y}', end=', ')\n",
    "print()\n",
    "\n",
    "print('\\n iter [a, d] C ->')\n",
    "for x, y in np.nditer([a, d]):\n",
    "    print(f'{x}:{y}', end=', ')\n",
    "\n",
    "print('\\n iter [a, d] F ->')\n",
    "for x, y in np.nditer([a, d], order='F'):\n",
    "    print(f'{x}:{y}', end=', ')"
   ],
   "metadata": {
    "collapsed": false,
    "ExecuteTime": {
     "end_time": "2024-02-02T13:24:07.952104Z",
     "start_time": "2024-02-02T13:24:07.920796Z"
    }
   },
   "id": "9835f00837ea43f9",
   "execution_count": 46
  },
  {
   "cell_type": "markdown",
   "source": [
    "## 四、数组操作"
   ],
   "metadata": {
    "collapsed": false
   },
   "id": "eebcd73795766756"
  },
  {
   "cell_type": "markdown",
   "source": [
    "### 4.1 修改数组形状"
   ],
   "metadata": {
    "collapsed": false
   },
   "id": "a1b809d0ff00d490"
  },
  {
   "cell_type": "markdown",
   "source": [
    "##### reshape\n",
    "\n",
    "原型：reshape(shape, order='c')\n",
    "作用：不改变数组的条件下修改形状\n",
    "参数：\n",
    "- shape 形状，整型的元组或列表\n",
    "- order 'C' 按行，'F' 按列，'A' 原顺序，'k' 元素在内存中的出现顺序"
   ],
   "metadata": {
    "collapsed": false
   },
   "id": "cfa6b1f46855a191"
  },
  {
   "cell_type": "code",
   "source": [
    "import numpy as np\n",
    "\n",
    "a = np.array([[1, 2], [3, 4], [5, 6]])\n",
    "print('a =')\n",
    "print(a)\n",
    "\n",
    "b = a.reshape(2, 3)\n",
    "print('b = ')\n",
    "print(b)\n",
    "\n",
    "c = a.reshape((2, 3), order='k')\n",
    "print('c =')\n",
    "print(c)\n",
    "\n",
    "print('original a =')\n",
    "print(a)"
   ],
   "metadata": {
    "collapsed": false,
    "ExecuteTime": {
     "end_time": "2024-09-08T13:35:07.961248Z",
     "start_time": "2024-09-08T13:35:07.561397Z"
    }
   },
   "id": "233833b02a9d3add",
   "outputs": [
    {
     "name": "stdout",
     "output_type": "stream",
     "text": [
      "a =\n",
      "[[1 2]\n",
      " [3 4]\n",
      " [5 6]]\n",
      "b = \n",
      "[[1 2 3]\n",
      " [4 5 6]]\n"
     ]
    },
    {
     "ename": "ValueError",
     "evalue": "order 'K' is not permitted for reshaping",
     "output_type": "error",
     "traceback": [
      "\u001B[0;31m---------------------------------------------------------------------------\u001B[0m",
      "\u001B[0;31mValueError\u001B[0m                                Traceback (most recent call last)",
      "Cell \u001B[0;32mIn[1], line 11\u001B[0m\n\u001B[1;32m      8\u001B[0m \u001B[38;5;28mprint\u001B[39m(\u001B[38;5;124m'\u001B[39m\u001B[38;5;124mb = \u001B[39m\u001B[38;5;124m'\u001B[39m)\n\u001B[1;32m      9\u001B[0m \u001B[38;5;28mprint\u001B[39m(b)\n\u001B[0;32m---> 11\u001B[0m c \u001B[38;5;241m=\u001B[39m \u001B[43ma\u001B[49m\u001B[38;5;241;43m.\u001B[39;49m\u001B[43mreshape\u001B[49m\u001B[43m(\u001B[49m\u001B[43m(\u001B[49m\u001B[38;5;241;43m2\u001B[39;49m\u001B[43m,\u001B[49m\u001B[43m \u001B[49m\u001B[38;5;241;43m3\u001B[39;49m\u001B[43m)\u001B[49m\u001B[43m,\u001B[49m\u001B[43m \u001B[49m\u001B[43morder\u001B[49m\u001B[38;5;241;43m=\u001B[39;49m\u001B[38;5;124;43m'\u001B[39;49m\u001B[38;5;124;43mk\u001B[39;49m\u001B[38;5;124;43m'\u001B[39;49m\u001B[43m)\u001B[49m\n\u001B[1;32m     12\u001B[0m \u001B[38;5;28mprint\u001B[39m(\u001B[38;5;124m'\u001B[39m\u001B[38;5;124mc =\u001B[39m\u001B[38;5;124m'\u001B[39m)\n\u001B[1;32m     13\u001B[0m \u001B[38;5;28mprint\u001B[39m(c)\n",
      "\u001B[0;31mValueError\u001B[0m: order 'K' is not permitted for reshaping"
     ]
    }
   ],
   "execution_count": 1
  },
  {
   "cell_type": "markdown",
   "source": [
    "#### flat 属性\n",
    "一个数组元素迭代器"
   ],
   "metadata": {
    "collapsed": false
   },
   "id": "de5522a3e385a2c1"
  },
  {
   "cell_type": "code",
   "outputs": [
    {
     "name": "stdout",
     "output_type": "stream",
     "text": [
      "a =\n",
      "[[1 2 3]\n",
      " [4 5 6]]\n",
      "1, 2, 3, 4, 5, 6, "
     ]
    }
   ],
   "source": [
    "import numpy as np\n",
    "\n",
    "a = np.arange(1, 7).reshape(2, 3)\n",
    "print('a =')\n",
    "print(a)\n",
    "\n",
    "for x in a.flat:\n",
    "    print(x, end=', ')"
   ],
   "metadata": {
    "collapsed": false,
    "ExecuteTime": {
     "end_time": "2024-02-05T14:59:35.350287Z",
     "start_time": "2024-02-05T14:59:35.327153Z"
    }
   },
   "id": "ef2e4c9a386b2468",
   "execution_count": 79
  },
  {
   "cell_type": "markdown",
   "source": [
    "#### flatten()\n",
    "\n",
    "原型：`flatten(order='C')`\n",
    "作用：展并数组并拷贝一份，顺序通常是“C风格”\n",
    "注意：修改返回的数组不会对原数组产生影响"
   ],
   "metadata": {
    "collapsed": false
   },
   "id": "afd09034a2f4c03b"
  },
  {
   "cell_type": "code",
   "outputs": [
    {
     "name": "stdout",
     "output_type": "stream",
     "text": [
      "a =\n",
      "[[1 2 3]\n",
      " [4 5 6]]\n",
      "b =\n",
      "[1 2 3 4 5 6]\n",
      "c =\n",
      "[1 4 2 5 3 6]\n",
      "b = (updated)\n",
      "[100   2   3   4   5   6]\n",
      "a = (after b is updated)\n",
      "[[1 2 3]\n",
      " [4 5 6]]\n"
     ]
    }
   ],
   "source": [
    "import numpy as np\n",
    "\n",
    "a = np.arange(1, 7).reshape(2, 3)\n",
    "print('a =')\n",
    "print(a)\n",
    "\n",
    "b = a.flatten()\n",
    "print('b =')\n",
    "print(b)\n",
    "\n",
    "c = a.flatten('F')\n",
    "print('c =')\n",
    "print(c)\n",
    "\n",
    "b[0] = 100\n",
    "print('b = (updated)')\n",
    "print(b)\n",
    "\n",
    "print('a = (after b is updated)')\n",
    "print(a)"
   ],
   "metadata": {
    "collapsed": false,
    "ExecuteTime": {
     "end_time": "2024-02-05T15:08:53.926031Z",
     "start_time": "2024-02-05T15:08:53.903483Z"
    }
   },
   "id": "ebe34ec205176f5b",
   "execution_count": 82
  },
  {
   "cell_type": "markdown",
   "source": [
    "#### ravel()\n",
    "\n",
    "原型：numpy.ravel(order='C')\n",
    "作用：展平的数组元素，顺序通常是“C风格”，返回的是数组视图（view，类似C++的引用）\n",
    "注意：修改返回的数组会影响原数组，这个规则对于“F风格”的情况不适用。"
   ],
   "metadata": {
    "collapsed": false
   },
   "id": "18e7d2cd9e210f72"
  },
  {
   "cell_type": "code",
   "outputs": [
    {
     "name": "stdout",
     "output_type": "stream",
     "text": [
      "a =\n",
      "[[1 2 3]\n",
      " [4 5 6]]\n",
      "b =\n",
      "[1 2 3 4 5 6]\n",
      "b = (updated)\n",
      "[100   2   3   4   5   6]\n",
      "a = (after b is updated)\n",
      "[[100   2   3]\n",
      " [  4   5   6]]\n",
      "c =\n",
      "[100   4   2   5   3   6]\n",
      "c = (updated)\n",
      "[100 200   2   5   3   6]\n",
      "a = (after b & c is updated)\n",
      "[[100   2   3]\n",
      " [  4   5   6]]\n"
     ]
    }
   ],
   "source": [
    "import numpy as np\n",
    "\n",
    "a = np.arange(1, 7).reshape(2, 3)\n",
    "print('a =')\n",
    "print(a)\n",
    "\n",
    "b = a.ravel()\n",
    "print('b =')\n",
    "print(b)\n",
    "\n",
    "b[0] = 100\n",
    "print('b = (updated)')\n",
    "print(b)\n",
    "\n",
    "print('a = (after b is updated)')\n",
    "print(a)\n",
    "\n",
    "c = a.ravel(order='F')\n",
    "print('c =')\n",
    "print(c)\n",
    "\n",
    "c[1] = 200\n",
    "print('c = (updated)')\n",
    "print(c)\n",
    "\n",
    "print('a = (after b & c is updated)')\n",
    "print(a)"
   ],
   "metadata": {
    "collapsed": false,
    "ExecuteTime": {
     "end_time": "2024-02-05T16:02:20.639900Z",
     "start_time": "2024-02-05T16:02:20.625485Z"
    }
   },
   "id": "3e42c0cd378f5aa5",
   "execution_count": 11
  },
  {
   "cell_type": "markdown",
   "source": [
    "### 4.2 翻转数组"
   ],
   "metadata": {
    "collapsed": false
   },
   "id": "f6321a2a0cbf4d1e"
  },
  {
   "cell_type": "markdown",
   "source": [
    "#### transpose()\n",
    "\n",
    "原型：numpy.transpose(a, axes=None)\n",
    "作用：对换数组的维度\n",
    "注意：修改会影响原数组\n",
    "参数：\n",
    "- a 要操作的数组\n",
    "- axes 整数列表，对应维度，通常所有维度都会对换"
   ],
   "metadata": {
    "collapsed": false
   },
   "id": "554f71957c2cc6ae"
  },
  {
   "cell_type": "code",
   "outputs": [
    {
     "name": "stdout",
     "output_type": "stream",
     "text": [
      "a =\n",
      " [[1 2 3]\n",
      " [4 5 6]]\n",
      "b =\n",
      " [[1 4]\n",
      " [2 5]\n",
      " [3 6]]\n",
      "b =\n",
      " [[100   4]\n",
      " [  2   5]\n",
      " [  3   6]]\n",
      "a =\n",
      " [[100   2   3]\n",
      " [  4   5   6]]\n"
     ]
    }
   ],
   "source": [
    "import numpy as np\n",
    "\n",
    "a = np.arange(1, 7).reshape(2, 3)\n",
    "print('a =\\n', a)\n",
    "\n",
    "b = np.transpose(a)\n",
    "print('b =\\n', b)\n",
    "\n",
    "b[0][0] = 100\n",
    "print('b =\\n', b)\n",
    "print('a =\\n', a)"
   ],
   "metadata": {
    "collapsed": false,
    "ExecuteTime": {
     "end_time": "2024-02-05T16:15:48.773741Z",
     "start_time": "2024-02-05T16:15:48.751151Z"
    }
   },
   "id": "cdb1443a0e3cfa0",
   "execution_count": 17
  },
  {
   "cell_type": "markdown",
   "source": [
    "#### ndarray.T\n",
    "类似 numpy.transpose()"
   ],
   "metadata": {
    "collapsed": false
   },
   "id": "2e3d0603a29734d3"
  },
  {
   "cell_type": "code",
   "outputs": [
    {
     "name": "stdout",
     "output_type": "stream",
     "text": [
      "a =\n",
      " [[1 2 3]\n",
      " [4 5 6]]\n",
      "b =\n",
      " [[1 4]\n",
      " [2 5]\n",
      " [3 6]]\n",
      "b =\n",
      " [[100   4]\n",
      " [  2   5]\n",
      " [  3   6]]\n",
      "a =\n",
      " [[100   2   3]\n",
      " [  4   5   6]]\n"
     ]
    }
   ],
   "source": [
    "import numpy as np\n",
    "\n",
    "a = np.arange(1, 7).reshape(2, 3)\n",
    "print('a =\\n', a)\n",
    "\n",
    "b = a.T\n",
    "print('b =\\n', b)\n",
    "\n",
    "b[0][0] = 100\n",
    "print('b =\\n', b)\n",
    "print('a =\\n', a)"
   ],
   "metadata": {
    "collapsed": false,
    "ExecuteTime": {
     "end_time": "2024-02-05T16:17:11.881489Z",
     "start_time": "2024-02-05T16:17:11.789373Z"
    }
   },
   "id": "62d46db8fc9c9a72",
   "execution_count": 18
  },
  {
   "cell_type": "markdown",
   "source": [
    "#### rollaxis()\n",
    "原型：numpy.rollaxis(a, axis, start=0)\n",
    "作用：向后滚动特定的轴到一个特定位置\n",
    "参数：\n",
    "- a 要操作的数组\n",
    "- axis 要向后滚动的轴，其他轴的相对位置不会改变\n",
    "- start 会滚动到特定位置。默认为0，表示完整的滚动。"
   ],
   "metadata": {
    "collapsed": false
   },
   "id": "d54cf370b8284270"
  },
  {
   "cell_type": "code",
   "outputs": [
    {
     "name": "stdout",
     "output_type": "stream",
     "text": [
      "a: (2, 3) =\n",
      "[[0 1 2]\n",
      " [3 4 5]]\n",
      "\n",
      "b: (3, 2) =\n",
      "[[0 3]\n",
      " [1 4]\n",
      " [2 5]]\n",
      "\n",
      "a: (2, 3) =\n",
      "[[100   1   2]\n",
      " [  3   4   5]]\n"
     ]
    }
   ],
   "source": [
    "# 2个维度的案例\n",
    "import numpy as np\n",
    "\n",
    "a = np.arange(6).reshape(2, 3)\n",
    "print(f'a: {a.shape} =\\n{a}\\n')\n",
    "\n",
    "b = np.rollaxis(a, 1)\n",
    "print(f'b: {b.shape} =\\n{b}\\n')\n",
    "\n",
    "b[0][0] = 100\n",
    "print(f'a: {a.shape} =\\n{a}\\n')"
   ],
   "metadata": {
    "collapsed": false,
    "ExecuteTime": {
     "end_time": "2024-02-05T16:38:37.668234Z",
     "start_time": "2024-02-05T16:38:37.651094Z"
    }
   },
   "id": "6f8d115142586e73",
   "execution_count": 51
  },
  {
   "cell_type": "code",
   "outputs": [
    {
     "name": "stdout",
     "output_type": "stream",
     "text": [
      "a: (2, 3, 4) =\n",
      "[[[ 0  1  2  3]\n",
      "  [ 4  5  6  7]\n",
      "  [ 8  9 10 11]]\n",
      "\n",
      " [[12 13 14 15]\n",
      "  [16 17 18 19]\n",
      "  [20 21 22 23]]]\n",
      "\n",
      "b: (4, 2, 3) =\n",
      "[[[ 0  4  8]\n",
      "  [12 16 20]]\n",
      "\n",
      " [[ 1  5  9]\n",
      "  [13 17 21]]\n",
      "\n",
      " [[ 2  6 10]\n",
      "  [14 18 22]]\n",
      "\n",
      " [[ 3  7 11]\n",
      "  [15 19 23]]]\n",
      "\n",
      "c: (2, 4, 3) =\n",
      "[[[ 0  4  8]\n",
      "  [ 1  5  9]\n",
      "  [ 2  6 10]\n",
      "  [ 3  7 11]]\n",
      "\n",
      " [[12 16 20]\n",
      "  [13 17 21]\n",
      "  [14 18 22]\n",
      "  [15 19 23]]]\n"
     ]
    }
   ],
   "source": [
    "# 3个维度的案例\n",
    "import numpy as np\n",
    "\n",
    "a = np.arange(24).reshape(2, 3, 4)\n",
    "print(f'a: {a.shape} =\\n{a}\\n')\n",
    "\n",
    "# 将轴2滚动到轴0\n",
    "b = np.rollaxis(a, 2)\n",
    "print(f'b: {b.shape} =\\n{b}\\n')\n",
    "\n",
    "c = np.rollaxis(a, 2, start=1)\n",
    "print(f'c: {c.shape} =\\n{c}\\n')"
   ],
   "metadata": {
    "collapsed": false,
    "ExecuteTime": {
     "end_time": "2024-02-05T16:43:43.386739Z",
     "start_time": "2024-02-05T16:43:43.367411Z"
    }
   },
   "id": "6dda8495d09e50ed",
   "execution_count": 55
  },
  {
   "cell_type": "markdown",
   "source": [
    "#### swapaxes()\n",
    "\n",
    "原型：numpy.swapaxes(a, axis1, axis2)\n",
    "作用：交换数组的两个轴\n",
    "参数：\n",
    "- a 要操作的数组\n",
    "- axis1 对应第一个轴的整数\n",
    "- axis2 对应第二个轴的整数"
   ],
   "metadata": {
    "collapsed": false
   },
   "id": "8c80caaf419dc5"
  },
  {
   "cell_type": "code",
   "outputs": [
    {
     "name": "stdout",
     "output_type": "stream",
     "text": [
      "a: (2, 3, 4) =\n",
      "[[[ 0  1  2  3]\n",
      "  [ 4  5  6  7]\n",
      "  [ 8  9 10 11]]\n",
      "\n",
      " [[12 13 14 15]\n",
      "  [16 17 18 19]\n",
      "  [20 21 22 23]]]\n",
      "\n",
      "b: (2, 4, 3) =\n",
      "[[[ 0  4  8]\n",
      "  [ 1  5  9]\n",
      "  [ 2  6 10]\n",
      "  [ 3  7 11]]\n",
      "\n",
      " [[12 16 20]\n",
      "  [13 17 21]\n",
      "  [14 18 22]\n",
      "  [15 19 23]]]\n",
      "\n",
      "b: (2, 4, 3) =\n",
      "[[[100   4   8]\n",
      "  [  1   5   9]\n",
      "  [  2   6  10]\n",
      "  [  3   7  11]]\n",
      "\n",
      " [[ 12  16  20]\n",
      "  [ 13  17  21]\n",
      "  [ 14  18  22]\n",
      "  [ 15  19  23]]]\n",
      "\n",
      "a: (2, 3, 4) =\n",
      "[[[100   1   2   3]\n",
      "  [  4   5   6   7]\n",
      "  [  8   9  10  11]]\n",
      "\n",
      " [[ 12  13  14  15]\n",
      "  [ 16  17  18  19]\n",
      "  [ 20  21  22  23]]]\n"
     ]
    }
   ],
   "source": [
    "import numpy as np\n",
    "\n",
    "a = np.arange(24).reshape(2, 3, 4)\n",
    "print(f'a: {a.shape} =\\n{a}\\n')\n",
    "\n",
    "b = np.swapaxes(a, 1, 2)\n",
    "print(f'b: {b.shape} =\\n{b}\\n')\n",
    "\n",
    "b[0][0][0] = 100\n",
    "print(f'b: {b.shape} =\\n{b}\\n')\n",
    "print(f'a: {a.shape} =\\n{a}\\n')"
   ],
   "metadata": {
    "collapsed": false,
    "ExecuteTime": {
     "end_time": "2024-02-05T16:49:08.973846Z",
     "start_time": "2024-02-05T16:49:08.952300Z"
    }
   },
   "id": "4549185e237532b3",
   "execution_count": 60
  },
  {
   "cell_type": "markdown",
   "source": [
    "### 4.3 修改数组维度"
   ],
   "metadata": {
    "collapsed": false
   },
   "id": "5ce63d1ac264cf74"
  },
  {
   "cell_type": "markdown",
   "source": [
    "#### 1 `broadcast()`\n",
    "\n",
    "用于模拟广播的对象，它返回一个对象，该对象封装了将一个数组广播到另一个数组的结果。"
   ],
   "metadata": {
    "collapsed": false
   },
   "id": "59a06c9a48e41013"
  },
  {
   "cell_type": "code",
   "outputs": [
    {
     "name": "stdout",
     "output_type": "stream",
     "text": [
      "x =\n",
      "[[1]\n",
      " [2]\n",
      " [3]]\n",
      "\n",
      "y =\n",
      "[4 5 6]\n",
      "\n",
      "b =\n",
      "<numpy.broadcast object at 0x7fb28ca70220>\n",
      "\n",
      "<class 'numpy.flatiter'> <class 'numpy.flatiter'>\n",
      "1 4\n",
      "1 5\n",
      "b.shape = (3, 3)\n",
      "\n",
      "c = \n",
      "[[5. 6. 7.]\n",
      " [6. 7. 8.]\n",
      " [7. 8. 9.]]\n",
      "\n",
      "x + y = (manualy)\n",
      "\n",
      "[[5 6 7]\n",
      " [6 7 8]\n",
      " [7 8 9]]\n"
     ]
    }
   ],
   "source": [
    "import numpy as np\n",
    "\n",
    "x = np.array([[1], [2], [3]])\n",
    "y = np.array([4, 5, 6])\n",
    "print(f'x =\\n{x}\\n')\n",
    "print(f'y =\\n{y}\\n')\n",
    "\n",
    "b = np.broadcast(x, y)\n",
    "print(f'b =\\n{b}\\n')\n",
    "\n",
    "r, c = b.iters\n",
    "print(type(r), type(c))\n",
    "print(next(r), next(c))\n",
    "print(next(r), next(c))\n",
    "# print(next(r), next(c))\n",
    "# print(next(r), next(c))\n",
    "# print(next(r), next(c))\n",
    "# print(next(r), next(c))\n",
    "# print(next(r), next(c))\n",
    "# print(next(r), next(c))\n",
    "# print(next(r), next(c))\n",
    "\n",
    "\n",
    "b = np.broadcast(x, y)\n",
    "print(f'b.shape = {b.shape}\\n')\n",
    "c = np.empty(b.shape)\n",
    "c.flat = [u + v for (u, v) in b]\n",
    "print(f'c = \\n{c}\\n')\n",
    "print(f'x + y = (manualy)\\n')\n",
    "print(x + y)"
   ],
   "metadata": {
    "collapsed": false,
    "ExecuteTime": {
     "end_time": "2024-02-06T01:39:28.239009Z",
     "start_time": "2024-02-06T01:39:28.048016Z"
    }
   },
   "id": "2e66eab0765659b0",
   "execution_count": 90
  },
  {
   "cell_type": "markdown",
   "source": [
    "#### 2 `broadcast_to()`\n",
    "\n",
    "原型：nupy.broadcast_to(array, shape, subok=False)\n",
    "作用：将数组广播到新形状。它在原始数组上返回只读视图。它通常不连续。如果新形状不符合NumPy的广播机制，该函数可能会抛出ValueError。\n",
    "参数：\n",
    "- array 待修改的数组\n",
    "- shape 修改后的形状"
   ],
   "metadata": {
    "collapsed": false
   },
   "id": "bab41a1507782f34"
  },
  {
   "cell_type": "code",
   "outputs": [
    {
     "name": "stdout",
     "output_type": "stream",
     "text": [
      "a =\n",
      "[[0 1 2]]\n",
      "\n",
      "b = \n",
      "[[0 1 2]\n",
      " [0 1 2]]\n"
     ]
    }
   ],
   "source": [
    "import numpy as np\n",
    "\n",
    "a = np.arange(3).reshape(1, 3)\n",
    "print(f'a =\\n{a}\\n')\n",
    "\n",
    "b = np.broadcast_to(a, (2, 3))\n",
    "print(f'b = \\n{b}\\n')"
   ],
   "metadata": {
    "collapsed": false,
    "ExecuteTime": {
     "end_time": "2024-02-06T01:48:29.374286Z",
     "start_time": "2024-02-06T01:48:29.339286Z"
    }
   },
   "id": "7660fbde76eb2c30",
   "execution_count": 97
  },
  {
   "cell_type": "markdown",
   "source": [
    "#### 3 `expand_dims()`\n",
    "\n",
    "原型：numpy.expand_dims(arr, axis=None)\n",
    "作用：通过在指定位置插入新的轴来扩展数组形状\n",
    "参数：\n",
    "- arr 输入数组\n",
    "- axis 新轴插入的位置"
   ],
   "metadata": {
    "collapsed": false
   },
   "id": "91513ca05d0434de"
  },
  {
   "cell_type": "code",
   "outputs": [
    {
     "name": "stdout",
     "output_type": "stream",
     "text": [
      "x: (2, 3)/2 =\n",
      "[[0 1 2]\n",
      " [3 4 5]]\n",
      "\n",
      "y: (2, 3, 1)/3 =\n",
      "[[[0]\n",
      "  [1]\n",
      "  [2]]\n",
      "\n",
      " [[3]\n",
      "  [4]\n",
      "  [5]]]\n",
      "x: (2, 3)/2 =\n",
      "[[0 1 2]\n",
      " [3 4 5]]\n"
     ]
    }
   ],
   "source": [
    "import numpy as np\n",
    "\n",
    "x = np.arange(6).reshape(2, 3)\n",
    "print(f'x: {x.shape}/{x.ndim} =\\n{x}\\n')\n",
    "\n",
    "y = np.expand_dims(x, 2)\n",
    "print(f'y: {y.shape}/{y.ndim} =\\n{y}')"
   ],
   "metadata": {
    "collapsed": false,
    "ExecuteTime": {
     "end_time": "2024-02-06T02:02:21.924847Z",
     "start_time": "2024-02-06T02:02:21.893516Z"
    }
   },
   "id": "90e5ce66c63178d8",
   "execution_count": 13
  },
  {
   "cell_type": "markdown",
   "source": [
    "#### 4 squeeze()\n",
    "\n",
    "原型：numpy.squeeze(arr, axis)\n",
    "作用：从给定数组的形状中删除一维的条目\n",
    "参数：\n",
    "- arr 输入数组\n",
    "- axis 删除轴的位置\n",
    "\n",
    "注意：只删除长度为1的维度，否则会报错"
   ],
   "metadata": {
    "collapsed": false
   },
   "id": "6d2da534d759cffc"
  },
  {
   "cell_type": "code",
   "outputs": [
    {
     "name": "stdout",
     "output_type": "stream",
     "text": [
      "x: (1, 1, 2, 1, 1, 3, 4, 1)/8 =\n",
      "[[[[[[[[ 1]\n",
      "       [ 2]\n",
      "       [ 3]\n",
      "       [ 4]]\n",
      "\n",
      "      [[ 5]\n",
      "       [ 6]\n",
      "       [ 7]\n",
      "       [ 8]]\n",
      "\n",
      "      [[ 9]\n",
      "       [10]\n",
      "       [11]\n",
      "       [12]]]]]\n",
      "\n",
      "\n",
      "\n",
      "\n",
      "   [[[[[13]\n",
      "       [14]\n",
      "       [15]\n",
      "       [16]]\n",
      "\n",
      "      [[17]\n",
      "       [18]\n",
      "       [19]\n",
      "       [20]]\n",
      "\n",
      "      [[21]\n",
      "       [22]\n",
      "       [23]\n",
      "       [24]]]]]]]]\n",
      "\n",
      "y: (2, 3, 4)/3 =\n",
      "[[[ 1  2  3  4]\n",
      "  [ 5  6  7  8]\n",
      "  [ 9 10 11 12]]\n",
      "\n",
      " [[13 14 15 16]\n",
      "  [17 18 19 20]\n",
      "  [21 22 23 24]]]\n",
      "\n",
      "z: (1, 1, 2, 1, 1, 3, 4)/7 =\n",
      "[[[[[[[ 1  2  3  4]\n",
      "      [ 5  6  7  8]\n",
      "      [ 9 10 11 12]]]]\n",
      "\n",
      "\n",
      "\n",
      "   [[[[13 14 15 16]\n",
      "      [17 18 19 20]\n",
      "      [21 22 23 24]]]]]]]\n"
     ]
    }
   ],
   "source": [
    "import numpy as np\n",
    "\n",
    "x = np.arange(1, 25).reshape(1, 1, 2, 1, 1, 3, 4, 1)\n",
    "print(f'x: {x.shape}/{x.ndim} =\\n{x}\\n')\n",
    "\n",
    "y = np.squeeze(x)\n",
    "print(f'y: {y.shape}/{y.ndim} =\\n{y}\\n')\n",
    "\n",
    "z = np.squeeze(x, axis=7)\n",
    "print(f'z: {z.shape}/{z.ndim} =\\n{z}')"
   ],
   "metadata": {
    "collapsed": false,
    "ExecuteTime": {
     "end_time": "2024-02-06T02:17:11.669748Z",
     "start_time": "2024-02-06T02:17:11.534629Z"
    }
   },
   "id": "5aea17903e5b8f3e",
   "execution_count": 26
  },
  {
   "cell_type": "markdown",
   "source": [
    "### 4.4 连接数组"
   ],
   "metadata": {
    "collapsed": false
   },
   "id": "86a04594d0693627"
  },
  {
   "cell_type": "markdown",
   "source": [
    "#### 1 concatenate()\n",
    "\n",
    "原型：numpy.concatenate((a1, a2, ...), axis)\n",
    "作用：沿指定轴连接相同形状的两个或多个数组\n",
    "参数：\n",
    "- (a1, a2, ...) 相同类型的数组\n",
    "- axis 指定的轴，沿着该轴连接数组，默认为0"
   ],
   "metadata": {
    "collapsed": false
   },
   "id": "46c760907d3a19a7"
  },
  {
   "cell_type": "code",
   "outputs": [
    {
     "name": "stdout",
     "output_type": "stream",
     "text": [
      "a1 =\n",
      "[[1 2 3]\n",
      " [4 5 6]]\n",
      "a2 =\n",
      "[[7 8 9]]\n",
      "a3 =\n",
      "[[11 12 13]\n",
      " [14 15 16]]\n",
      "\n",
      "a12 = \n",
      "[[1 2 3]\n",
      " [4 5 6]\n",
      " [7 8 9]]\n",
      "\n",
      "a13 = \n",
      "[[ 1  2  3 11 12 13]\n",
      " [ 4  5  6 14 15 16]]\n"
     ]
    }
   ],
   "source": [
    "import numpy as np\n",
    "\n",
    "a1 = np.arange(1, 7).reshape(2, 3)\n",
    "a2 = np.arange(7, 10).reshape(1, 3)\n",
    "a3 = np.arange(11, 17).reshape(2, 3)\n",
    "\n",
    "print(f'a1 =\\n{a1}')\n",
    "print(f'a2 =\\n{a2}')\n",
    "print(f'a3 =\\n{a3}\\n')\n",
    "\n",
    "a12 = np.concatenate((a1, a2))\n",
    "print(f'a12 = \\n{a12}\\n')\n",
    "\n",
    "a13 = np.concatenate((a1, a3), axis=1)\n",
    "print(f'a13 = \\n{a13}')"
   ],
   "metadata": {
    "collapsed": false,
    "ExecuteTime": {
     "end_time": "2024-02-06T02:28:45.629915Z",
     "start_time": "2024-02-06T02:28:45.574758Z"
    }
   },
   "id": "a0e979d3668a65b1",
   "execution_count": 37
  },
  {
   "cell_type": "markdown",
   "source": [
    "#### 2 stack()\n",
    "原型：numpy.stack(arrays, axis)\n",
    "作用：沿着新轴连接数组序列\n",
    "参数：\n",
    "- 相同形状的数组序列\n",
    "- 数组中的轴，输入数组沿着它来堆叠"
   ],
   "metadata": {
    "collapsed": false
   },
   "id": "918aeeac1e6e6822"
  },
  {
   "cell_type": "code",
   "outputs": [
    {
     "name": "stdout",
     "output_type": "stream",
     "text": [
      "a1: (2, 2)/2 =\n",
      "[[11 12]\n",
      " [13 14]]\n",
      "a2: (2, 2)/2 =\n",
      "[[21 22]\n",
      " [23 24]]\n",
      "a3: (2, 2)/2 =\n",
      "[[31 32]\n",
      " [33 34]]\n",
      "\n",
      "x0: (3, 2, 2)/3 =\n",
      "[[[11 12]\n",
      "  [13 14]]\n",
      "\n",
      " [[21 22]\n",
      "  [23 24]]\n",
      "\n",
      " [[31 32]\n",
      "  [33 34]]]\n",
      "\n",
      "x1: (2, 3, 2)/3 =\n",
      "[[[11 12]\n",
      "  [21 22]\n",
      "  [31 32]]\n",
      "\n",
      " [[13 14]\n",
      "  [23 24]\n",
      "  [33 34]]]\n",
      "\n",
      "x2: (2, 2, 3)/3 =\n",
      "[[[11 21 31]\n",
      "  [12 22 32]]\n",
      "\n",
      " [[13 23 33]\n",
      "  [14 24 34]]]\n"
     ]
    }
   ],
   "source": [
    "import numpy as np\n",
    "\n",
    "a1 = np.arange(11, 15).reshape(2, 2)\n",
    "a2 = np.arange(21, 25).reshape(2, 2)\n",
    "a3 = np.arange(31, 35).reshape(2, 2)\n",
    "print(f'a1: {a1.shape}/{a1.ndim} =\\n{a1}')\n",
    "print(f'a2: {a2.shape}/{a2.ndim} =\\n{a2}')\n",
    "print(f'a3: {a3.shape}/{a3.ndim} =\\n{a3}\\n')\n",
    "\n",
    "x0 = np.stack((a1, a2, a3), 0)\n",
    "print(f'x0: {x0.shape}/{x0.ndim} =\\n{x0}\\n')\n",
    "\n",
    "x1 = np.stack((a1, a2, a3), 1)\n",
    "print(f'x1: {x1.shape}/{x1.ndim} =\\n{x1}\\n')\n",
    "\n",
    "x2 = np.stack((a1, a2, a3), 2)\n",
    "print(f'x2: {x2.shape}/{x2.ndim} =\\n{x2}')"
   ],
   "metadata": {
    "collapsed": false,
    "ExecuteTime": {
     "end_time": "2024-02-06T04:20:46.416110Z",
     "start_time": "2024-02-06T04:20:46.292457Z"
    }
   },
   "id": "e7c37d9e15b182c0",
   "execution_count": 59
  },
  {
   "cell_type": "markdown",
   "source": [
    "#### 3 hstack() 和 vstack()\n",
    "\n",
    "是 numpy.stack() 的变体，通过水平或垂直堆叠来生成数组。"
   ],
   "metadata": {
    "collapsed": false
   },
   "id": "ae11cb106422b46d"
  },
  {
   "cell_type": "code",
   "outputs": [
    {
     "name": "stdout",
     "output_type": "stream",
     "text": [
      "a1: (2, 2)/2 =\n",
      "[[11 12]\n",
      " [13 14]]\n",
      "a2: (2, 2)/2 =\n",
      "[[21 22]\n",
      " [23 24]]\n",
      "\n",
      "x0: (2, 4)/2 =\n",
      "[[11 12 21 22]\n",
      " [13 14 23 24]]\n",
      "\n",
      "x1: (4, 2)/2 =\n",
      "[[11 12]\n",
      " [13 14]\n",
      " [21 22]\n",
      " [23 24]]\n"
     ]
    }
   ],
   "source": [
    "import numpy as np\n",
    "\n",
    "a1 = np.arange(11, 15).reshape(2, 2)\n",
    "a2 = np.arange(21, 25).reshape(2, 2)\n",
    "print(f'a1: {a1.shape}/{a1.ndim} =\\n{a1}')\n",
    "print(f'a2: {a2.shape}/{a2.ndim} =\\n{a2}\\n')\n",
    "\n",
    "x0 = np.hstack((a1, a2))\n",
    "print(f'x0: {x0.shape}/{x0.ndim} =\\n{x0}\\n')\n",
    "\n",
    "x1 = np.vstack((a1, a2))\n",
    "print(f'x1: {x1.shape}/{x1.ndim} =\\n{x1}\\n')"
   ],
   "metadata": {
    "collapsed": false,
    "ExecuteTime": {
     "end_time": "2024-02-06T04:42:27.633135Z",
     "start_time": "2024-02-06T04:42:27.525949Z"
    }
   },
   "id": "71e2a866778bd848",
   "execution_count": 69
  },
  {
   "cell_type": "markdown",
   "source": [
    "### 4.5 分割数组"
   ],
   "metadata": {
    "collapsed": false
   },
   "id": "afaa54125cb29a46"
  },
  {
   "cell_type": "markdown",
   "source": [
    "#### 1 split()\n",
    "\n",
    "原型：numpy.split(ary, indices_or_sections, axis=0)\n",
    "作用：沿指定的轴将数组分割为子数组\n",
    "参数：\n",
    "- ary 被分割的数组\n",
    "- indices_or_sections 如果是一个整数，用该整数平均切分；如果是一个数组，为沿轴切分的位置（左开右闭）\n",
    "- axis 沿哪个维度进行切分，默认为0，横行切分"
   ],
   "metadata": {
    "collapsed": false
   },
   "id": "bdabb6022b143dbd"
  },
  {
   "cell_type": "code",
   "outputs": [
    {
     "name": "stdout",
     "output_type": "stream",
     "text": [
      "a = [ 1  2  3  4  5  6  7  8  9 10]\n",
      "\n",
      "sub-array[0] = [1 2 3 4 5]\n",
      "sub-array[1] = [ 6  7  8  9 10]\n",
      "\n",
      "sub-array[0] = [1 2]\n",
      "sub-array[1] = [3 4 5]\n",
      "sub-array[2] = [ 6  7  8  9 10]\n"
     ]
    }
   ],
   "source": [
    "import numpy as np\n",
    "\n",
    "a = np.arange(1, 11)\n",
    "print(f'a = {a}')\n",
    "\n",
    "print()\n",
    "b = np.split(a, 2)\n",
    "for i, x in enumerate(b):\n",
    "    print(f'sub-array[{i}] =', x)\n",
    "\n",
    "print()\n",
    "b = np.split(a, [2, 5])\n",
    "for i, x in enumerate(b):\n",
    "    print(f'sub-array[{i}] =', x)"
   ],
   "metadata": {
    "collapsed": false,
    "ExecuteTime": {
     "end_time": "2024-02-06T05:17:23.322344Z",
     "start_time": "2024-02-06T05:17:23.220318Z"
    }
   },
   "id": "ac0ae113c82b334",
   "execution_count": 121
  },
  {
   "cell_type": "code",
   "outputs": [
    {
     "name": "stdout",
     "output_type": "stream",
     "text": [
      "a: (2, 3, 6)/3 =\n",
      "[[[ 1  2  3  4  5  6]\n",
      "  [ 7  8  9 10 11 12]\n",
      "  [13 14 15 16 17 18]]\n",
      "\n",
      " [[19 20 21 22 23 24]\n",
      "  [25 26 27 28 29 30]\n",
      "  [31 32 33 34 35 36]]]\n",
      "\n",
      "split by axis 2 divided 2\n",
      "\n",
      "sub-array[0]: (2, 3, 3)/3=\n",
      "[[[ 1  2  3]\n",
      "  [ 7  8  9]\n",
      "  [13 14 15]]\n",
      "\n",
      " [[19 20 21]\n",
      "  [25 26 27]\n",
      "  [31 32 33]]]\n",
      "sub-array[1]: (2, 3, 3)/3=\n",
      "[[[ 4  5  6]\n",
      "  [10 11 12]\n",
      "  [16 17 18]]\n",
      "\n",
      " [[22 23 24]\n",
      "  [28 29 30]\n",
      "  [34 35 36]]]\n",
      "\n",
      "split by axis 2 divided by array\n",
      "\n",
      "sub-array[0]: (2, 3, 1)/3=\n",
      "[[[ 1]\n",
      "  [ 7]\n",
      "  [13]]\n",
      "\n",
      " [[19]\n",
      "  [25]\n",
      "  [31]]]\n",
      "sub-array[1]: (2, 3, 1)/3=\n",
      "[[[ 2]\n",
      "  [ 8]\n",
      "  [14]]\n",
      "\n",
      " [[20]\n",
      "  [26]\n",
      "  [32]]]\n",
      "sub-array[2]: (2, 3, 3)/3=\n",
      "[[[ 3  4  5]\n",
      "  [ 9 10 11]\n",
      "  [15 16 17]]\n",
      "\n",
      " [[21 22 23]\n",
      "  [27 28 29]\n",
      "  [33 34 35]]]\n",
      "sub-array[3]: (2, 3, 1)/3=\n",
      "[[[ 6]\n",
      "  [12]\n",
      "  [18]]\n",
      "\n",
      " [[24]\n",
      "  [30]\n",
      "  [36]]]\n"
     ]
    }
   ],
   "source": [
    "import numpy as np\n",
    "\n",
    "a = np.arange(1, 37).reshape(2, 3, 6)\n",
    "print(f'a: {a.shape}/{a.ndim} =\\n{a}\\n')\n",
    "\n",
    "print(f'split by axis 2 divided 2\\n')\n",
    "b = np.split(a, 2, 2)\n",
    "for i, x in enumerate(b):\n",
    "    print(f'sub-array[{i}]: {x.shape}/{x.ndim}=')\n",
    "    print(x)\n",
    "print()\n",
    "\n",
    "print(f'split by axis 2 divided by array\\n')\n",
    "b = np.split(a, [1, 2, 5], 2)\n",
    "for i, x in enumerate(b):\n",
    "    print(f'sub-array[{i}]: {x.shape}/{x.ndim}=')\n",
    "    print(x)\n",
    "print()"
   ],
   "metadata": {
    "collapsed": false,
    "ExecuteTime": {
     "end_time": "2024-02-06T05:11:08.442959Z",
     "start_time": "2024-02-06T05:11:08.412010Z"
    }
   },
   "id": "a65ea7129bc16cb7",
   "execution_count": 113
  },
  {
   "cell_type": "markdown",
   "source": [
    "#### 2 hsplit()\n",
    "\n",
    "split() 的变体，水平分割数组，通过指定要返回的相同形状的数组数量来拆分数组。"
   ],
   "metadata": {
    "collapsed": false
   },
   "id": "1287c2ea360e056"
  },
  {
   "cell_type": "code",
   "outputs": [
    {
     "name": "stdout",
     "output_type": "stream",
     "text": [
      "a = \n",
      "[[ 1  2  3  4  5  6]\n",
      " [ 7  8  9 10 11 12]]\n",
      "sub-array[0] =\n",
      "[[1 2 3]\n",
      " [7 8 9]]\n",
      "sub-array[1] =\n",
      "[[ 4  5  6]\n",
      " [10 11 12]]\n"
     ]
    }
   ],
   "source": [
    "import numpy as np\n",
    "\n",
    "a = np.arange(1, 13).reshape(2, 6)\n",
    "print(f'a = \\n{a}')\n",
    "\n",
    "b = np.hsplit(a, 2)\n",
    "for i, x in enumerate(b):\n",
    "    print(f'sub-array[{i}] =\\n{x}')"
   ],
   "metadata": {
    "collapsed": false,
    "ExecuteTime": {
     "end_time": "2024-02-06T05:16:45.790162Z",
     "start_time": "2024-02-06T05:16:45.737409Z"
    }
   },
   "id": "56a4554aa15b2f59",
   "execution_count": 119
  },
  {
   "cell_type": "markdown",
   "source": [
    "#### 3 vsplit()\n",
    "\n",
    "split() 的变体，垂直分割数组，用法同 hsplit()"
   ],
   "metadata": {
    "collapsed": false
   },
   "id": "88ddb3d0ee4a2494"
  },
  {
   "cell_type": "code",
   "outputs": [
    {
     "name": "stdout",
     "output_type": "stream",
     "text": [
      "a = \n",
      "[[ 1  2  3  4  5  6]\n",
      " [ 7  8  9 10 11 12]]\n",
      "sub-array[0] =\n",
      "[[1 2 3 4 5 6]]\n",
      "sub-array[1] =\n",
      "[[ 7  8  9 10 11 12]]\n"
     ]
    }
   ],
   "source": [
    "import numpy as np\n",
    "\n",
    "a = np.arange(1, 13).reshape(2, 6)\n",
    "print(f'a = \\n{a}')\n",
    "\n",
    "b = np.vsplit(a, 2)\n",
    "for i, x in enumerate(b):\n",
    "    print(f'sub-array[{i}] =\\n{x}')"
   ],
   "metadata": {
    "collapsed": false,
    "ExecuteTime": {
     "end_time": "2024-02-06T05:18:25.196624Z",
     "start_time": "2024-02-06T05:18:25.082704Z"
    }
   },
   "id": "1726c35b4c97cc29",
   "execution_count": 122
  },
  {
   "cell_type": "markdown",
   "source": [
    "### 4.6 数组元素的添加与删除"
   ],
   "metadata": {
    "collapsed": false
   },
   "id": "c54a41061d535153"
  },
  {
   "cell_type": "markdown",
   "source": [
    "#### 1 resize()\n",
    "\n",
    "原型：numpy.resize(arr, shape)\n",
    "作用：返回指定大小的新数组\n",
    "参数：\n",
    "- arr 要修改大小的数组\n",
    "- shape 返回数组的新形状"
   ],
   "metadata": {
    "collapsed": false
   },
   "id": "92e5aa2871167530"
  },
  {
   "cell_type": "code",
   "source": [
    "import numpy as np\n",
    "\n",
    "a = np.arange(1, 7).reshape(2, 3)\n",
    "print(f'a =\\n{a}')\n",
    "\n",
    "b = np.resize(a, (3, 2))\n",
    "print(f'b =\\n{b}')\n",
    "print(f'a =\\n{a}')\n",
    "\n",
    "c = np.resize(a, (3, 3))\n",
    "print(f'c =\\n{c}')\n",
    "c = np.resize(a, (3, 5))\n",
    "print(f'c =\\n{c}')"
   ],
   "metadata": {
    "collapsed": false,
    "ExecuteTime": {
     "end_time": "2024-09-08T13:45:08.723204Z",
     "start_time": "2024-09-08T13:45:08.717189Z"
    }
   },
   "id": "acf6d05e57f0a624",
   "outputs": [
    {
     "name": "stdout",
     "output_type": "stream",
     "text": [
      "a =\n",
      "[[1 2 3]\n",
      " [4 5 6]]\n",
      "b =\n",
      "[[1 2]\n",
      " [3 4]\n",
      " [5 6]]\n",
      "a =\n",
      "[[1 2 3]\n",
      " [4 5 6]]\n",
      "c =\n",
      "[[1 2 3]\n",
      " [4 5 6]\n",
      " [1 2 3]]\n",
      "c =\n",
      "[[1 2 3 4 5]\n",
      " [6 1 2 3 4]\n",
      " [5 6 1 2 3]]\n"
     ]
    }
   ],
   "execution_count": 9
  },
  {
   "cell_type": "markdown",
   "source": [
    "#### 2 append()\n",
    "\n",
    "原型：numpy.append(arr, values, axis=None)\n",
    "作用：\n",
    "- 在数组的末尾添加值\n",
    "- 追加操作会分配整个数组，并把原来的数组复制到新数组中\n",
    "- 输入数组的维度必须匹配，否则报 ValueError\n",
    "参数：\n",
    "- arr 输入数组\n",
    "- values 要向arr添加的值，需要和arr形状相同（除了要添加的轴）\n",
    "- axis 默认为None，横行加成，返回总是为一维数组。当axis有定义是，分别为0或1的时候。为0时，列数要相同。为1时，行数要相同，数组加在右边。"
   ],
   "metadata": {
    "collapsed": false
   },
   "id": "f22e9e4510f7998e"
  },
  {
   "cell_type": "code",
   "outputs": [
    {
     "name": "stdout",
     "output_type": "stream",
     "text": [
      "x =\n",
      "[[1 2 3]\n",
      " [4 5 6]]\n",
      "z0 =\n",
      "[ 1  2  3  4  5  6 10 20 30]\n",
      "z1 =\n",
      "[[ 1  2  3]\n",
      " [ 4  5  6]\n",
      " [10 20 30]]\n",
      "z1 =\n",
      "[[ 1  2  3 10 20 30]\n",
      " [ 4  5  6 40 50 60]]\n"
     ]
    }
   ],
   "source": [
    "import numpy as np\n",
    "\n",
    "x = np.arange(1, 7).reshape(2, 3)\n",
    "print(f'x =\\n{x}')\n",
    "\n",
    "z0 = np.append(x, [10, 20, 30])\n",
    "print(f'z0 =\\n{z0}')\n",
    "\n",
    "z1 = np.append(x, [[10, 20, 30]], axis=0)\n",
    "print(f'z1 =\\n{z1}')\n",
    "z2 = np.append(x, [[10, 20, 30], [40, 50, 60]], axis=1)\n",
    "print(f'z1 =\\n{z2}')"
   ],
   "metadata": {
    "collapsed": false,
    "ExecuteTime": {
     "end_time": "2024-02-06T11:00:26.789011Z",
     "start_time": "2024-02-06T11:00:26.764580Z"
    }
   },
   "id": "21799975b8ca1233",
   "execution_count": 146
  },
  {
   "cell_type": "markdown",
   "source": [
    "#### 3 insert()\n",
    "\n",
    "原型：numpy.insert(arr, obj, values, axis)\n",
    "作用：在指定索引前，沿指定轴在输入数组中插入值。\n",
    "注意：如果值的类型转换为要插入，则它与输入数组不同。插入没有原地的，会返回一个新数组。如果未提供轴，则输入数组会被展开。\n",
    "参数：\n",
    "- arr 输入数组\n",
    "- obj 在其之前插入值的索引\n",
    "- values 要插入的值\n",
    "- axis 沿着它输入的轴，如果未提供，则输入数组会被展开"
   ],
   "metadata": {
    "collapsed": false
   },
   "id": "a946c8bbc400c133"
  },
  {
   "cell_type": "code",
   "outputs": [
    {
     "name": "stdout",
     "output_type": "stream",
     "text": [
      "x =\n",
      "[[1 2 3]\n",
      " [4 5 6]]\n",
      "z0 =\n",
      "[ 1  2  3 11 13  4  5  6]\n",
      "z1 =\n",
      "[[ 1  2  3]\n",
      " [11 12 13]\n",
      " [ 4  5  6]]\n",
      "z2 =\n",
      "[[ 1 10  2 10  3]\n",
      " [ 4 20  5 20  6]]\n",
      "z3 =\n",
      "[[  1 100   2 100   3]\n",
      " [  4 100   5 100   6]]\n"
     ]
    }
   ],
   "source": [
    "import numpy as np\n",
    "\n",
    "x = np.arange(1, 7).reshape(2, 3)\n",
    "print(f'x =\\n{x}')\n",
    "\n",
    "z0 = np.insert(x, 3, [11, 13])\n",
    "print(f'z0 =\\n{z0}')\n",
    "\n",
    "z1 = np.insert(x, 1, [11, 12, 13], axis=0)\n",
    "print(f'z1 =\\n{z1}')\n",
    "\n",
    "z2 = np.insert(x, (1, 2), [[10], [20]], axis=1)\n",
    "print(f'z2 =\\n{z2}')\n",
    "\n",
    "# 发生广播行为\n",
    "z3 = np.insert(x, (1, 2), [100], axis=1)\n",
    "print(f'z3 =\\n{z3}')"
   ],
   "metadata": {
    "collapsed": false,
    "ExecuteTime": {
     "end_time": "2024-02-06T12:19:24.545197Z",
     "start_time": "2024-02-06T12:19:24.455171Z"
    }
   },
   "id": "b23a609e08593da0",
   "execution_count": 170
  },
  {
   "cell_type": "markdown",
   "source": [
    "#### 4 delete()\n",
    "\n",
    "原型：numpy.delete(arr, obj, axis)\n",
    "作用：返回从输入数组中删除指定子数组之后的新数组。与 insert() 函数的情况一样，如果未提供轴参数，则输入数组将展开。\n",
    "参数：\n",
    "- arr 输入数组\n",
    "- obj 要删除的子数组的索引。可以是切片、整数或整数数组\n",
    "- axis 沿指定数组删除。如果未提供，则输入数组会被展开。"
   ],
   "metadata": {
    "collapsed": false
   },
   "id": "d9bed5941f12aa20"
  },
  {
   "cell_type": "code",
   "outputs": [
    {
     "name": "stdout",
     "output_type": "stream",
     "text": [
      "x =\n",
      "[[10 11 12 13]\n",
      " [14 15 16 17]\n",
      " [18 19 20 21]]\n",
      "\n",
      "y =\n",
      "[10 11 12 13 15 16 17 18 19 20]\n",
      "\n",
      "z =\n",
      "[[10 11 12 13]\n",
      " [18 19 20 21]]\n",
      "\n",
      "zz =\n",
      "[[10 11 13]\n",
      " [14 15 17]\n",
      " [18 19 21]]\n"
     ]
    }
   ],
   "source": [
    "import numpy as np\n",
    "\n",
    "x = np.arange(10, 22).reshape(3, 4)\n",
    "print(f'x =\\n{x}\\n')\n",
    "\n",
    "y = np.delete(x, [4, 11])\n",
    "print(f'y =\\n{y}\\n')\n",
    "\n",
    "z = np.delete(x, 1, axis=0)\n",
    "print(f'z =\\n{z}\\n')\n",
    "\n",
    "zz = np.delete(x, 2, axis=1)\n",
    "print(f'zz =\\n{zz}')"
   ],
   "metadata": {
    "collapsed": false,
    "ExecuteTime": {
     "end_time": "2024-02-06T12:27:48.280395Z",
     "start_time": "2024-02-06T12:27:48.181554Z"
    }
   },
   "id": "6e2a631720125fbc",
   "execution_count": 176
  },
  {
   "cell_type": "markdown",
   "source": [
    "#### 5 unique()\n",
    "\n",
    "原型：numpy.unique(arr, return_index, return_inverse, return_counts)\n",
    "作用：去除数组中的重复元素，并以排序后的数组返回\n",
    "参数：\n",
    "- arr 输入数组，如果不是一维数组则会展开\n",
    "- return_index 如果为True，  则返回新列表在旧列表中的位置（下标），并以列表形式存储\n",
    "- return_inverse 如果为True，则返回旧列表在新列表中的位置（下标），并以列表形式存储\n",
    "- return_counts 如果为True，则返回去重数组中的元素在原数组中的出现次数"
   ],
   "metadata": {
    "collapsed": false
   },
   "id": "2f01053954845f03"
  },
  {
   "cell_type": "code",
   "outputs": [
    {
     "name": "stdout",
     "output_type": "stream",
     "text": [
      "x = [1 5 3 2 3 3 4 5]\n",
      "a = [1 2 3 4 5]\n",
      "b = [1 2 3 4 5]\n",
      "idx:[0 3 2 6 1]\n",
      "ivs:[0 4 2 1 2 2 3 4]\n",
      "cnt:[1 1 3 1 2]\n"
     ]
    }
   ],
   "source": [
    "import numpy as np\n",
    "\n",
    "x = np.array([1, 5, 3, 2, 3, 3, 4, 5])\n",
    "\n",
    "print(f'x = {x}')\n",
    "\n",
    "a = np.unique(x)\n",
    "print(f'a = {a}')\n",
    "\n",
    "b = np.unique(x, return_index=True, return_inverse=True, return_counts=True)\n",
    "print(f'b = {b[0]}\\nidx:{b[1]}\\nivs:{b[2]}\\ncnt:{b[3]}')"
   ],
   "metadata": {
    "collapsed": false,
    "ExecuteTime": {
     "end_time": "2024-02-06T13:23:15.374372Z",
     "start_time": "2024-02-06T13:23:15.262582Z"
    }
   },
   "id": "6427b5a4b8d6f9e7",
   "execution_count": 202
  },
  {
   "cell_type": "markdown",
   "source": [
    "## 五、函数"
   ],
   "metadata": {
    "collapsed": false
   },
   "id": "4da62d90d01918e4"
  },
  {
   "cell_type": "markdown",
   "source": [
    "### 5.1 字符串函数\n",
    "\n",
    "字符串函数用于对dtype为numpy.string_或numpy.unicode_的数组执行向量化字符串操作\n",
    "基于python内置库中的标准字符串函数，在字符数组类（numpy.char）中定义"
   ],
   "metadata": {
    "collapsed": false
   },
   "id": "7799cb2a0b9785c1"
  },
  {
   "cell_type": "markdown",
   "source": [
    "#### add()\n",
    "对两个数组的元素进行字符串连接"
   ],
   "metadata": {
    "collapsed": false
   },
   "id": "2a5714bc90c8d5e6"
  },
  {
   "cell_type": "code",
   "outputs": [
    {
     "name": "stdout",
     "output_type": "stream",
     "text": [
      "['sunck good']\n",
      "['sunck good' 'kaige nice']\n"
     ]
    }
   ],
   "source": [
    "import numpy as np\n",
    "\n",
    "print(np.char.add(['sunck'], [' good']))\n",
    "print(np.char.add(['sunck', 'kaige'], [' good', ' nice']))"
   ],
   "metadata": {
    "collapsed": false,
    "ExecuteTime": {
     "end_time": "2024-02-06T13:31:11.515871Z",
     "start_time": "2024-02-06T13:31:11.477921Z"
    }
   },
   "id": "d0e9ad1d98f9f100",
   "execution_count": 209
  },
  {
   "cell_type": "markdown",
   "source": [
    "#### multiply()\n",
    "多重连接字符串"
   ],
   "metadata": {
    "collapsed": false
   },
   "id": "566cf829af85eca2"
  },
  {
   "cell_type": "code",
   "outputs": [
    {
     "name": "stdout",
     "output_type": "stream",
     "text": [
      "Hello Hello Hello \n"
     ]
    }
   ],
   "source": [
    "import numpy as np\n",
    "\n",
    "print(np.char.multiply(\"Hello \", 3))"
   ],
   "metadata": {
    "collapsed": false,
    "ExecuteTime": {
     "end_time": "2024-02-06T13:32:39.712455Z",
     "start_time": "2024-02-06T13:32:39.668589Z"
    }
   },
   "id": "a01727ffc0f2994f",
   "execution_count": 217
  },
  {
   "cell_type": "markdown",
   "source": [
    "#### center()\n",
    "\n",
    "将字符串居中，并使用指定字符在左侧和右侧进行填充"
   ],
   "metadata": {
    "collapsed": false
   },
   "id": "509ae9d934ba931f"
  },
  {
   "cell_type": "code",
   "outputs": [
    {
     "name": "stdout",
     "output_type": "stream",
     "text": [
      "['***nice***' '***good***']\n"
     ]
    }
   ],
   "source": [
    "import numpy as np\n",
    "\n",
    "print(np.char.center(['nice', 'good'], 10, fillchar='*'))"
   ],
   "metadata": {
    "collapsed": false,
    "ExecuteTime": {
     "end_time": "2024-02-06T13:34:33.704426Z",
     "start_time": "2024-02-06T13:34:33.520001Z"
    }
   },
   "id": "818526e038d3bf8e",
   "execution_count": 219
  },
  {
   "cell_type": "markdown",
   "source": [
    "#### capitalize()\n",
    "将字符串第一个字母转换为大写"
   ],
   "metadata": {
    "collapsed": false
   },
   "id": "6fd20d39f474eb23"
  },
  {
   "cell_type": "code",
   "outputs": [
    {
     "name": "stdout",
     "output_type": "stream",
     "text": [
      "['Hello world!' 'Tom is a good man.']\n"
     ]
    }
   ],
   "source": [
    "import numpy as np\n",
    "\n",
    "print(np.char.capitalize(['hello world!', 'tom is a good man.']))"
   ],
   "metadata": {
    "collapsed": false,
    "ExecuteTime": {
     "end_time": "2024-02-06T13:37:03.188386Z",
     "start_time": "2024-02-06T13:37:03.145981Z"
    }
   },
   "id": "1cb10664916cf4f8",
   "execution_count": 220
  },
  {
   "cell_type": "markdown",
   "source": [
    "#### title()\n",
    "将字符串的每个单词的第一个字母转换为大写。"
   ],
   "metadata": {
    "collapsed": false
   },
   "id": "259717b81db4494a"
  },
  {
   "cell_type": "code",
   "outputs": [
    {
     "name": "stdout",
     "output_type": "stream",
     "text": [
      "['Hello World!' 'Tom Is A Good Man.']\n"
     ]
    }
   ],
   "source": [
    "import numpy as np\n",
    "\n",
    "print(np.char.title(['hello world!', 'tom is a good man.']))"
   ],
   "metadata": {
    "collapsed": false,
    "ExecuteTime": {
     "end_time": "2024-02-06T13:38:24.508337Z",
     "start_time": "2024-02-06T13:38:24.461304Z"
    }
   },
   "id": "6b7be4d1deab0395",
   "execution_count": 221
  },
  {
   "cell_type": "markdown",
   "source": [
    "#### lower()\n",
    "\n",
    "数组元素转化为小写"
   ],
   "metadata": {
    "collapsed": false
   },
   "id": "a4291eb4bfe9a27c"
  },
  {
   "cell_type": "code",
   "outputs": [
    {
     "name": "stdout",
     "output_type": "stream",
     "text": [
      "['hello world!' 'tom is a good man.']\n"
     ]
    }
   ],
   "source": [
    "import numpy as np\n",
    "\n",
    "print(np.char.lower(['Hello world!', 'Tom is a GOOD man.']))"
   ],
   "metadata": {
    "collapsed": false,
    "ExecuteTime": {
     "end_time": "2024-02-07T05:09:34.526353Z",
     "start_time": "2024-02-07T05:09:34.458243Z"
    }
   },
   "id": "7a620ad1efa59c07",
   "execution_count": 222
  },
  {
   "cell_type": "markdown",
   "source": [
    "#### upper()\n",
    "\n",
    "数组元素转化为大写"
   ],
   "metadata": {
    "collapsed": false
   },
   "id": "b1ead38d8d6b6597"
  },
  {
   "cell_type": "code",
   "outputs": [
    {
     "name": "stdout",
     "output_type": "stream",
     "text": [
      "['HELLO WORLD!' 'TOM IS A GOOD MAN.']\n"
     ]
    }
   ],
   "source": [
    "import numpy as np\n",
    "\n",
    "print(np.char.upper(['Hello world!', 'Tom is a GOOD man.']))"
   ],
   "metadata": {
    "collapsed": false,
    "ExecuteTime": {
     "end_time": "2024-02-07T05:09:46.749002Z",
     "start_time": "2024-02-07T05:09:46.660226Z"
    }
   },
   "id": "e8322f0cbfa07345",
   "execution_count": 223
  },
  {
   "cell_type": "markdown",
   "source": [
    "#### split()\n",
    "\n",
    "根据指定分割符对字符串进行分割，并返回数组列表。"
   ],
   "metadata": {
    "collapsed": false
   },
   "id": "48210943304e5792"
  },
  {
   "cell_type": "code",
   "outputs": [
    {
     "name": "stdout",
     "output_type": "stream",
     "text": [
      "[list(['Hello', 'world!']) list(['Tom', 'is', 'a', 'GOOD', 'man.'])]\n"
     ]
    }
   ],
   "source": [
    "import numpy as np\n",
    "\n",
    "print(np.char.split(['Hello world!', 'Tom is a GOOD man.']))"
   ],
   "metadata": {
    "collapsed": false,
    "ExecuteTime": {
     "end_time": "2024-02-07T05:12:04.338684Z",
     "start_time": "2024-02-07T05:12:04.297710Z"
    }
   },
   "id": "6100dbc1d887e66a",
   "execution_count": 224
  },
  {
   "cell_type": "markdown",
   "source": [
    "#### splitlines()\n",
    "返回元素中的行列表，以换行符分割。"
   ],
   "metadata": {
    "collapsed": false
   },
   "id": "1522050a3341e4fe"
  },
  {
   "cell_type": "code",
   "outputs": [
    {
     "name": "stdout",
     "output_type": "stream",
     "text": [
      "[list(['Hello world!']) list(['Tom is a', 'GOOD', 'man.'])]\n"
     ]
    }
   ],
   "source": [
    "import numpy as np\n",
    "\n",
    "print(np.char.splitlines(['Hello world!', 'Tom is a\\nGOOD\\nman.']))"
   ],
   "metadata": {
    "collapsed": false,
    "ExecuteTime": {
     "end_time": "2024-02-07T05:13:16.897118Z",
     "start_time": "2024-02-07T05:13:16.854560Z"
    }
   },
   "id": "fe59c4e4697960c",
   "execution_count": 226
  },
  {
   "cell_type": "markdown",
   "source": [
    "#### strip()\n",
    "移除元素开头或结尾处的特定字符或空格。"
   ],
   "metadata": {
    "collapsed": false
   },
   "id": "c5099b521d8211de"
  },
  {
   "cell_type": "code",
   "outputs": [
    {
     "name": "stdout",
     "output_type": "stream",
     "text": [
      "['Hello * World~! * ']\n",
      "['Hello * World~!']\n",
      "['Hello world!' 'Tom is a GOOD man.']\n"
     ]
    }
   ],
   "source": [
    "import numpy as np\n",
    "\n",
    "print(np.char.strip(['***Hello * World~! * **'], \"*\"))\n",
    "print(np.char.strip(['***Hello * World~! * **'], \"* \"))\n",
    "print(np.char.strip(['   Hello world!', 'Tom is a GOOD man.    ']))"
   ],
   "metadata": {
    "collapsed": false,
    "ExecuteTime": {
     "end_time": "2024-02-07T05:19:04.847142Z",
     "start_time": "2024-02-07T05:19:04.739799Z"
    }
   },
   "id": "a10a0cc129e3a0f8",
   "execution_count": 242
  },
  {
   "cell_type": "markdown",
   "source": [
    "#### join()\n",
    "通过分割符来连接数组中的元素。"
   ],
   "metadata": {
    "collapsed": false
   },
   "id": "8ba3f6637042a2e4"
  },
  {
   "cell_type": "code",
   "outputs": [
    {
     "name": "stdout",
     "output_type": "stream",
     "text": [
      "['H-e-l-l-o' 'W-o-r-l-d']\n",
      "[['H-e-l-l-o' 'W:o:r:l:d']\n",
      " ['n-i-c-e' 'g:o:o:d']]\n"
     ]
    }
   ],
   "source": [
    "import numpy as np\n",
    "\n",
    "print(np.char.join('-', ['Hello', 'World']))\n",
    "print(np.char.join(['-', ':'], [['Hello', 'World'], ['nice', 'good']]))"
   ],
   "metadata": {
    "collapsed": false,
    "ExecuteTime": {
     "end_time": "2024-02-07T05:22:58.677105Z",
     "start_time": "2024-02-07T05:22:58.553695Z"
    }
   },
   "id": "fd8f243dc09c129c",
   "execution_count": 245
  },
  {
   "cell_type": "markdown",
   "source": [
    "#### replace()\n",
    "使用新字符串替换字符串中的所有子字符串。"
   ],
   "metadata": {
    "collapsed": false
   },
   "id": "1e6e6ba24ba7b40b"
  },
  {
   "cell_type": "code",
   "outputs": [
    {
     "name": "stdout",
     "output_type": "stream",
     "text": [
      "['Tom is a good cat.' 'Jerry is a good mouse.']\n"
     ]
    }
   ],
   "source": [
    "import numpy as np\n",
    "\n",
    "print(np.char.replace(['Tom is a nice cat.', 'Jerry is a nice mouse.'], 'nice', 'good'))"
   ],
   "metadata": {
    "collapsed": false,
    "ExecuteTime": {
     "end_time": "2024-02-07T05:26:22.527169Z",
     "start_time": "2024-02-07T05:26:22.468314Z"
    }
   },
   "id": "2f70b4bb72fe0054",
   "execution_count": 247
  },
  {
   "cell_type": "markdown",
   "source": [
    "#### encode()\n",
    "编码，数组元素依次调用 str.encode()"
   ],
   "metadata": {
    "collapsed": false
   },
   "id": "af6b2da37508049f"
  },
  {
   "cell_type": "code",
   "outputs": [
    {
     "name": "stdout",
     "output_type": "stream",
     "text": [
      "[b'Tom' b'Jerry']\n"
     ]
    }
   ],
   "source": [
    "import numpy as np\n",
    "\n",
    "print(np.char.encode(['Tom', 'Jerry'], 'utf-8'))"
   ],
   "metadata": {
    "collapsed": false,
    "ExecuteTime": {
     "end_time": "2024-02-07T05:28:37.796307Z",
     "start_time": "2024-02-07T05:28:37.742996Z"
    }
   },
   "id": "f1377a7e8fa25084",
   "execution_count": 248
  },
  {
   "cell_type": "markdown",
   "source": [
    "#### decode()\n",
    "解码，数组元素依次调用 str.decode()"
   ],
   "metadata": {
    "collapsed": false
   },
   "id": "f8e2bea337e57746"
  },
  {
   "cell_type": "code",
   "outputs": [
    {
     "name": "stdout",
     "output_type": "stream",
     "text": [
      "['Tom' 'Jerry']\n"
     ]
    }
   ],
   "source": [
    "import numpy as np\n",
    "\n",
    "a = np.char.encode(['Tom', 'Jerry'], 'utf-8')\n",
    "print(np.char.decode(a, 'utf-8'))"
   ],
   "metadata": {
    "collapsed": false,
    "ExecuteTime": {
     "end_time": "2024-02-07T05:29:14.456971Z",
     "start_time": "2024-02-07T05:29:14.355250Z"
    }
   },
   "id": "328d631da4e9ab77",
   "execution_count": 249
  },
  {
   "cell_type": "markdown",
   "source": [
    "### 5.2 数学函数"
   ],
   "metadata": {
    "collapsed": false
   },
   "id": "f778d4de1eec5ba7"
  },
  {
   "cell_type": "markdown",
   "source": [
    "#### 标准三角函数 sin(), cos(), tan()"
   ],
   "metadata": {
    "collapsed": false
   },
   "id": "5a8773bde4d94cce"
  },
  {
   "cell_type": "code",
   "outputs": [
    {
     "name": "stdout",
     "output_type": "stream",
     "text": [
      "[0.         0.5        0.70710678 0.8660254  1.        ]\n",
      "[1.00000000e+00 8.66025404e-01 7.07106781e-01 5.00000000e-01\n",
      " 6.12323400e-17]\n",
      "[0.00000000e+00 5.77350269e-01 1.00000000e+00 1.73205081e+00\n",
      " 1.63312394e+16]\n"
     ]
    }
   ],
   "source": [
    "import numpy as np\n",
    "\n",
    "a = np.array([0, 30, 45, 60, 90])\n",
    "print(np.sin(a * np.pi / 180))\n",
    "print(np.cos(a * np.pi / 180))\n",
    "print(np.tan(a * np.pi / 180))"
   ],
   "metadata": {
    "collapsed": false,
    "ExecuteTime": {
     "end_time": "2024-02-07T05:36:05.988439Z",
     "start_time": "2024-02-07T05:36:05.934297Z"
    }
   },
   "id": "7dcd5d8d517f479e",
   "execution_count": 252
  },
  {
   "cell_type": "markdown",
   "source": [
    "#### 反三角函数 arcsin(), arccos(), arctan()"
   ],
   "metadata": {
    "collapsed": false
   },
   "id": "dbaef58d50684d71"
  },
  {
   "cell_type": "code",
   "outputs": [
    {
     "name": "stdout",
     "output_type": "stream",
     "text": [
      "[0.         0.52359878 0.78539816 1.04719755 1.57079633]\n",
      "[ 0. 30. 45. 60. 90.]\n",
      "[0.         0.52359878 0.78539816 1.04719755 1.57079633]\n",
      "[ 0. 30. 45. 60. 90.]\n",
      "[0.         0.52359878 0.78539816 1.04719755 1.57079633]\n",
      "[ 0. 30. 45. 60. 90.]\n"
     ]
    }
   ],
   "source": [
    "import numpy as np\n",
    "\n",
    "a = np.array([0, 30, 45, 60, 90])\n",
    "\n",
    "fsin = np.sin(a * np.pi / 180)\n",
    "afsin = np.arcsin(fsin)\n",
    "dfsin = np.degrees(afsin)\n",
    "print(afsin)\n",
    "print(dfsin)\n",
    "\n",
    "fcos = np.cos(a * np.pi / 180)\n",
    "afcos = np.arccos(fcos)\n",
    "dfcos = np.degrees(afcos)\n",
    "print(afcos)\n",
    "print(dfcos)\n",
    "\n",
    "ftan = np.tan(a * np.pi / 180)\n",
    "aftan = np.arctan(ftan)\n",
    "dftan = np.degrees(aftan)\n",
    "print(aftan)\n",
    "print(dftan)"
   ],
   "metadata": {
    "collapsed": false,
    "ExecuteTime": {
     "end_time": "2024-02-07T05:48:36.216785Z",
     "start_time": "2024-02-07T05:48:36.086574Z"
    }
   },
   "id": "155cc13ed947cd2e",
   "execution_count": 257
  },
  {
   "metadata": {
    "ExecuteTime": {
     "end_time": "2024-04-17T14:58:13.182678Z",
     "start_time": "2024-04-17T14:58:13.175737Z"
    }
   },
   "cell_type": "code",
   "source": [
    "# 以上代码的简化\n",
    "import numpy as np\n",
    "\n",
    "\n",
    "def test_fun(np_fun, np_arc_fun, angles):\n",
    "    fun = np_fun(angles * np.pi / 180)\n",
    "    afun = np_arc_fun(fun)\n",
    "    dfun = np.degrees(afun)\n",
    "    print(afun)\n",
    "    print(dfun)\n",
    "\n",
    "\n",
    "a = np.array([0, 30, 45, 60, 90])\n",
    "test_fun(np.sin, np.arcsin, a)\n",
    "test_fun(np.cos, np.arccos, a)\n",
    "test_fun(np.tan, np.arctan, a)"
   ],
   "id": "59670ecfcc227f7c",
   "outputs": [
    {
     "name": "stdout",
     "output_type": "stream",
     "text": [
      "[0.         0.52359878 0.78539816 1.04719755 1.57079633]\n",
      "[ 0. 30. 45. 60. 90.]\n",
      "[0.         0.52359878 0.78539816 1.04719755 1.57079633]\n",
      "[ 0. 30. 45. 60. 90.]\n",
      "[0.         0.52359878 0.78539816 1.04719755 1.57079633]\n",
      "[ 0. 30. 45. 60. 90.]\n"
     ]
    }
   ],
   "execution_count": 3
  },
  {
   "metadata": {},
   "cell_type": "markdown",
   "source": "#### 弧度和角度转换函数 degrees(), red2deg(), radians, deg2rad()",
   "id": "63738c89c9cf62fe"
  },
  {
   "cell_type": "code",
   "outputs": [
    {
     "name": "stdout",
     "output_type": "stream",
     "text": [
      "[0.         0.52359878 0.78539816 1.04719755 1.57079633]\n",
      "[ 0. 30. 45. 60. 90.]\n",
      "[ 0. 30. 45. 60. 90.]\n",
      "\n",
      "[0, 30, 45, 60, 90]\n",
      "[0.         0.00913852 0.01370778 0.01827705 0.02741557]\n",
      "[0.         0.52359878 0.78539816 1.04719755 1.57079633]\n",
      "[0.         0.00913852 0.01370778 0.01827705 0.02741557]\n",
      "[0.         0.52359878 0.78539816 1.04719755 1.57079633]\n"
     ]
    }
   ],
   "source": [
    "#### 弧度制转换为角度制 degrees() rad2deg()\n",
    "import numpy as np\n",
    "\n",
    "angles_radian = np.array([0, 1 / 6, 1 / 4, 1 / 3, 1 / 2]) * np.pi\n",
    "print(angles_radian)\n",
    "print(np.degrees(angles_radian))\n",
    "print(np.rad2deg(angles_radian))\n",
    "\n",
    "print()\n",
    "\n",
    "#### 角度制转换为弧度制 radians() deg2rad()\n",
    "import numpy as np\n",
    "\n",
    "angles_degree = [0, 30, 45, 60, 90]\n",
    "print(angles_degree)\n",
    "print(np.radians(angles_radian))\n",
    "print(np.radians(angles_radian) / np.pi * 180)\n",
    "print(np.deg2rad(angles_radian))\n",
    "print(np.deg2rad(angles_radian) / np.pi * 180)"
   ],
   "metadata": {
    "collapsed": false,
    "ExecuteTime": {
     "end_time": "2024-02-07T06:02:24.293077Z",
     "start_time": "2024-02-07T06:02:24.026100Z"
    }
   },
   "id": "deac4e0712bc3dd5",
   "execution_count": 273
  },
  {
   "metadata": {},
   "cell_type": "markdown",
   "source": [
    "#### 四舍五入函数 around()\n",
    "作用：返回指定数字的四舍五入值\n",
    "原型：`numpy.around(a, decimals=0)`\n",
    "- a 数组\n",
    "- decimals 舍入的小数位数，默认值为0，如果为负，整数将四舍五入到小数点左侧的位置"
   ],
   "id": "c654e0fab4c610da"
  },
  {
   "metadata": {
    "ExecuteTime": {
     "end_time": "2024-04-17T15:10:50.401178Z",
     "start_time": "2024-04-17T15:10:50.388794Z"
    }
   },
   "cell_type": "code",
   "source": [
    "import numpy as np\n",
    "\n",
    "x = np.array([1.0, 1.5, 3.456, 1234, 0.12345, 345.34, ])\n",
    "print(f'x =\\n{x}')\n",
    "print(np.around(x))\n",
    "print(np.around(x, decimals=1))\n",
    "print(np.around(x, decimals=-1))"
   ],
   "id": "fa80ebb65da82443",
   "outputs": [
    {
     "name": "stdout",
     "output_type": "stream",
     "text": [
      "x =\n",
      "[1.0000e+00 1.5000e+00 3.4560e+00 1.2340e+03 1.2345e-01 3.4534e+02]\n",
      "[1.000e+00 2.000e+00 3.000e+00 1.234e+03 0.000e+00 3.450e+02]\n",
      "[1.000e+00 1.500e+00 3.500e+00 1.234e+03 1.000e-01 3.453e+02]\n",
      "[   0.    0.    0. 1230.    0.  350.]\n"
     ]
    }
   ],
   "execution_count": 4
  },
  {
   "metadata": {},
   "cell_type": "markdown",
   "source": [
    "#### 向下取整 floor()\n",
    "作用：向下取整，返回不大于输入值的最大整数，即标量x的下限是最大的值，使得i<=x。\n",
    "注意在python中，向下取整总是从0舍入。"
   ],
   "id": "8d8a86dd71f5808b"
  },
  {
   "metadata": {
    "ExecuteTime": {
     "end_time": "2024-04-17T15:19:15.285861Z",
     "start_time": "2024-04-17T15:19:15.281454Z"
    }
   },
   "cell_type": "code",
   "source": [
    "import numpy as np\n",
    "\n",
    "x = np.array([-1.7, 1.5, -0.2, 0.6, 10])\n",
    "print(f'x =\\n{x}')\n",
    "print(np.floor(x))"
   ],
   "id": "658e193b85709c9",
   "outputs": [
    {
     "name": "stdout",
     "output_type": "stream",
     "text": [
      "x =\n",
      "[-1.7  1.5 -0.2  0.6 10. ]\n",
      "[-2.  1. -1.  0. 10.]\n"
     ]
    }
   ],
   "execution_count": 5
  },
  {
   "metadata": {},
   "cell_type": "markdown",
   "source": [
    "#### 向上取整 ceil()\n",
    "作用：向上取整，返回输入值的上限。即，标量x的上限是最小的整数，使得i>=x"
   ],
   "id": "73e9e7449df8a46e"
  },
  {
   "metadata": {
    "ExecuteTime": {
     "end_time": "2024-04-17T15:21:24.152489Z",
     "start_time": "2024-04-17T15:21:24.148590Z"
    }
   },
   "cell_type": "code",
   "source": [
    "import numpy as np\n",
    "\n",
    "x = np.array([-1.7, 1.5, -0.2, 0.6, 10])\n",
    "print(f'x =\\n{x}')\n",
    "print(np.ceil(x))"
   ],
   "id": "71135b4d099c6766",
   "outputs": [
    {
     "name": "stdout",
     "output_type": "stream",
     "text": [
      "x =\n",
      "[-1.7  1.5 -0.2  0.6 10. ]\n",
      "[-1.  2. -0.  1. 10.]\n"
     ]
    }
   ],
   "execution_count": 6
  },
  {
   "cell_type": "markdown",
   "source": [
    "### 5.3 算术函数"
   ],
   "metadata": {
    "collapsed": false
   },
   "id": "8fc4325bac5a0178"
  },
  {
   "metadata": {},
   "cell_type": "markdown",
   "source": [
    "#### `add()`, `subtract()`, `multiply()`, `divide()`\n",
    "作用：加减乘除四则运算，支持广播运算"
   ],
   "id": "89e1cb459ed8f643"
  },
  {
   "metadata": {
    "ExecuteTime": {
     "end_time": "2024-08-19T14:42:45.277141Z",
     "start_time": "2024-08-19T14:42:45.270164Z"
    }
   },
   "cell_type": "code",
   "source": [
    "import numpy as np\n",
    "\n",
    "x = np.arange(6, dtype='f').reshape(2, 3)\n",
    "print(f'x =\\n{x}')\n",
    "y = np.array([10, 10, 10])\n",
    "print(f'y =\\n{y}')\n",
    "\n",
    "print(\"和：\\n\", np.add(x, y), x + y)\n",
    "print(\"差：\\n\", np.subtract(x, y), x - y)\n",
    "print(\"积：\\n\", np.multiply(x, y), x * y)\n",
    "print(\"商：\\n\", np.divide(x, y), x / y)"
   ],
   "id": "f5a6b912e355f754",
   "outputs": [
    {
     "name": "stdout",
     "output_type": "stream",
     "text": [
      "x =\n",
      "[[0. 1. 2.]\n",
      " [3. 4. 5.]]\n",
      "y =\n",
      "[10 10 10]\n",
      "和：\n",
      " [[10. 11. 12.]\n",
      " [13. 14. 15.]] [[10. 11. 12.]\n",
      " [13. 14. 15.]]\n",
      "差：\n",
      " [[-10.  -9.  -8.]\n",
      " [ -7.  -6.  -5.]] [[-10.  -9.  -8.]\n",
      " [ -7.  -6.  -5.]]\n",
      "积：\n",
      " [[ 0. 10. 20.]\n",
      " [30. 40. 50.]] [[ 0. 10. 20.]\n",
      " [30. 40. 50.]]\n",
      "商：\n",
      " [[0.  0.1 0.2]\n",
      " [0.3 0.4 0.5]] [[0.  0.1 0.2]\n",
      " [0.3 0.4 0.5]]\n"
     ]
    }
   ],
   "execution_count": 6
  },
  {
   "metadata": {},
   "cell_type": "markdown",
   "source": [
    "#### `reciprocal()`\n",
    "作用：返回参数逐个元素的倒数"
   ],
   "id": "ec6de387636a920"
  },
  {
   "metadata": {
    "ExecuteTime": {
     "end_time": "2024-08-19T14:46:42.608202Z",
     "start_time": "2024-08-19T14:46:42.604228Z"
    }
   },
   "cell_type": "code",
   "source": [
    "import numpy as np\n",
    "\n",
    "x = np.array([0.1, 0.5, 1, 5, 10])\n",
    "print(f'x =\\n{x}')\n",
    "print(np.reciprocal(x))\n",
    "print(1 / x)"
   ],
   "id": "a5c8225917e6a954",
   "outputs": [
    {
     "name": "stdout",
     "output_type": "stream",
     "text": [
      "x =\n",
      "[ 0.1  0.5  1.   5.  10. ]\n",
      "[10.   2.   1.   0.2  0.1]\n",
      "[10.   2.   1.   0.2  0.1]\n"
     ]
    }
   ],
   "execution_count": 7
  },
  {
   "metadata": {},
   "cell_type": "markdown",
   "source": [
    "#### `power()`\n",
    "作用：将第一个输入数组中的元素作为底数，计算它与第二个输入数组中的元素的幂。"
   ],
   "id": "512804251e902f7b"
  },
  {
   "metadata": {
    "ExecuteTime": {
     "end_time": "2024-08-19T14:50:19.496427Z",
     "start_time": "2024-08-19T14:50:19.492619Z"
    }
   },
   "cell_type": "code",
   "source": [
    "import numpy as np\n",
    "\n",
    "x = np.array([10, 10, 10])\n",
    "print(f'x ={x}')\n",
    "y = np.arange(6, dtype='i').reshape(2, 3)\n",
    "print(f'y={y}')\n",
    "print(np.power(x, y))"
   ],
   "id": "418b98b67b2556d0",
   "outputs": [
    {
     "name": "stdout",
     "output_type": "stream",
     "text": [
      "x =[10 10 10]\n",
      "y=[[0 1 2]\n",
      " [3 4 5]]\n",
      "[[     1     10    100]\n",
      " [  1000  10000 100000]]\n"
     ]
    }
   ],
   "execution_count": 11
  },
  {
   "metadata": {},
   "cell_type": "markdown",
   "source": [
    "#### `mod()`, `remainder()`\n",
    "作用：计算输入数组中相应元素相除后的余数\n",
    "取模运算"
   ],
   "id": "9d1ee9fe91e0f59d"
  },
  {
   "metadata": {
    "ExecuteTime": {
     "end_time": "2024-08-19T14:54:14.997933Z",
     "start_time": "2024-08-19T14:54:14.993505Z"
    }
   },
   "cell_type": "code",
   "source": [
    "import numpy as np\n",
    "\n",
    "x = np.array([10, 10, 10])\n",
    "print(f'x ={x}')\n",
    "y = np.arange(6, dtype='i').reshape(2, 3) + 1\n",
    "print(f'y={y}')\n",
    "\n",
    "print(np.mod(x, y))\n",
    "print(np.remainder(x, y))"
   ],
   "id": "eedc710fdb31047e",
   "outputs": [
    {
     "name": "stdout",
     "output_type": "stream",
     "text": [
      "x =[10 10 10]\n",
      "y=[[1 2 3]\n",
      " [4 5 6]]\n",
      "[[0 0 1]\n",
      " [2 0 4]]\n",
      "[[0 0 1]\n",
      " [2 0 4]]\n"
     ]
    }
   ],
   "execution_count": 13
  },
  {
   "cell_type": "markdown",
   "source": [
    "### 5.4 统计函数"
   ],
   "metadata": {
    "collapsed": false
   },
   "id": "f0b423b1c9d7cdbd"
  },
  {
   "metadata": {},
   "cell_type": "markdown",
   "source": [
    "#### `amax()`, `amin()`\n",
    "作用：计算数组中的元素沿着指定轴的最大值、最小值\n",
    "第二个参数`axis`：表示轴。0 列，1 行"
   ],
   "id": "bdd44f203e78f1c5"
  },
  {
   "metadata": {
    "ExecuteTime": {
     "end_time": "2024-08-24T05:16:03.843418Z",
     "start_time": "2024-08-24T05:15:55.438076Z"
    }
   },
   "cell_type": "code",
   "source": [
    "import numpy as np\n",
    "\n",
    "x = np.random.randint(1, 11, 6).reshape(2, 3)\n",
    "print(f'x ={x}')\n",
    "\n",
    "print(np.amax(x, axis=0))\n",
    "print(np.amax(x, 1))\n",
    "\n",
    "print(np.amin(x, 0))\n",
    "print(np.amin(x, 1))"
   ],
   "id": "72cc16358b4dcad8",
   "outputs": [
    {
     "name": "stdout",
     "output_type": "stream",
     "text": [
      "x =[[ 8  9  9]\n",
      " [ 9 10 10]]\n",
      "[ 9 10 10]\n",
      "[ 9 10]\n",
      "[8 9 9]\n",
      "[8 9]\n"
     ]
    }
   ],
   "execution_count": 1
  },
  {
   "metadata": {},
   "cell_type": "markdown",
   "source": [
    "#### `ptp()`\n",
    "\n",
    "作用：计算数组中元素最大值与最小值（最大值-最小值）。\n",
    "\n",
    "参数：第二个参数表示轴，0 列，1 行，没有第二个参数时表示同时整个数组，即同时包含行与列。"
   ],
   "id": "ed809a8dd192dd8"
  },
  {
   "metadata": {
    "ExecuteTime": {
     "end_time": "2024-08-19T15:10:41.228779Z",
     "start_time": "2024-08-19T15:10:41.214723Z"
    }
   },
   "cell_type": "code",
   "source": [
    "import numpy as np\n",
    "\n",
    "x = np.random.randint(1, 11, 6).reshape(2, 3)\n",
    "print(f'x ={x}')\n",
    "print(np.ptp(x))\n",
    "# print(np.ptp(x, axis=0))\n",
    "# print(np.ptp(x, axis=1))\n",
    "print(np.ptp(x, 0))\n",
    "print(np.ptp(x, 1))"
   ],
   "id": "c658a43a2771130",
   "outputs": [
    {
     "name": "stdout",
     "output_type": "stream",
     "text": [
      "x =[[ 7 10  7]\n",
      " [ 1  1  4]]\n",
      "9\n",
      "[6 9 3]\n",
      "[3 3]\n"
     ]
    }
   ],
   "execution_count": 19
  },
  {
   "metadata": {},
   "cell_type": "markdown",
   "source": [
    "#### `percentile()`\n",
    "\n",
    "原型：`numpy.percentile(a, p, axis)`\n",
    "\n",
    "作用：百分位数是统计中使用的度量，表示小于这个值的观察值的百分比。\n",
    "\n",
    "| 参数   | 说明                |\n",
    "|------|-------------------|\n",
    "| a    | 输入数组              |\n",
    "| p    | 要计算的百分位数，在0~100之间 |\n",
    "| axis | 沿着它计算百分位数的轴       |\n",
    "\n",
    "说明：第p个百分位数是这样一个值，它使得至少有p%的数据项小于或等于这个值，且至少有（100-p）% 的数据项大于或等于这个值\n",
    "\n",
    "例子：高等院校的入学考试成绩经常以百分位数的形式报告。比如，假设某个考生在入学考试中的语文部分的原始分数为54分。相对于参加同一考试的其他学生来说，他的成绩如何并不容易知道。但是如果原始分数54分恰好对应的是第70百分位数，我们就能知道大约70%的学生的考分比他低，而约30%的学生考分比他高。这里的P=70"
   ],
   "id": "50a29fc905525125"
  },
  {
   "metadata": {
    "ExecuteTime": {
     "end_time": "2024-08-19T15:36:12.902653Z",
     "start_time": "2024-08-19T15:36:12.896883Z"
    }
   },
   "cell_type": "code",
   "source": [
    "import numpy as np\n",
    "\n",
    "x = np.arange(6, dtype='f').reshape(2, 3) + 1\n",
    "print(f'x ={x}')\n",
    "\n",
    "print(np.percentile(x, 50))\n",
    "print(np.percentile(x, 50, axis=0))\n",
    "print(np.percentile(x, 50, 1))"
   ],
   "id": "1b7e3b5e15c78157",
   "outputs": [
    {
     "name": "stdout",
     "output_type": "stream",
     "text": [
      "x =[[1. 2. 3.]\n",
      " [4. 5. 6.]]\n",
      "3.5\n",
      "[2.5 3.5 4.5]\n",
      "[2. 5.]\n"
     ]
    }
   ],
   "execution_count": 21
  },
  {
   "metadata": {},
   "cell_type": "markdown",
   "source": [
    "#### `median()`\n",
    "\n",
    "作用：计算数组中元素的中位数。如果提供了轴，则沿着轴进行计算。"
   ],
   "id": "e80d47a86ec44c0d"
  },
  {
   "metadata": {
    "ExecuteTime": {
     "end_time": "2024-08-19T15:40:02.629492Z",
     "start_time": "2024-08-19T15:40:02.624654Z"
    }
   },
   "cell_type": "code",
   "source": [
    "import numpy as np\n",
    "\n",
    "x = np.random.randint(1, 11, 6).reshape(2, 3)\n",
    "print(f'x ={x}')\n",
    "\n",
    "print(np.median(x))\n",
    "print(np.median(x, axis=0))\n",
    "print(np.median(x, 1))"
   ],
   "id": "18fa0d33b24fc8c7",
   "outputs": [
    {
     "name": "stdout",
     "output_type": "stream",
     "text": [
      "x =[[ 1 10  3]\n",
      " [ 3  5  9]]\n",
      "4.0\n",
      "[2.  7.5 6. ]\n",
      "[3. 5.]\n"
     ]
    }
   ],
   "execution_count": 22
  },
  {
   "metadata": {},
   "cell_type": "markdown",
   "source": [
    "#### `mean()`\n",
    "\n",
    "作用：计算数组中元素的算数平均值。如果提供了轴，则沿着轴进行计算。"
   ],
   "id": "584f1be0be0b2c40"
  },
  {
   "metadata": {
    "ExecuteTime": {
     "end_time": "2024-08-24T05:30:35.909149Z",
     "start_time": "2024-08-24T05:30:35.897974Z"
    }
   },
   "cell_type": "code",
   "source": [
    "import numpy as np\n",
    "\n",
    "x = np.arange(1, 7).reshape(2, 3)\n",
    "print(f'x ={x}')\n",
    "\n",
    "print(np.mean(x))\n",
    "print(np.mean(x, axis=0))\n",
    "print(np.mean(x, 1))"
   ],
   "id": "7381ecb1c586830e",
   "outputs": [
    {
     "name": "stdout",
     "output_type": "stream",
     "text": [
      "x =[[1 2 3]\n",
      " [4 5 6]]\n",
      "3.5\n",
      "[2.5 3.5 4.5]\n",
      "[2. 5.]\n"
     ]
    }
   ],
   "execution_count": 8
  },
  {
   "metadata": {},
   "cell_type": "code",
   "source": [
    "# 一维数组\n",
    "import numpy as np\n",
    "\n",
    "x = np.array([1, 2, 3, 4])\n",
    "w = np.array([4, 3, 2, 1])\n",
    "\n",
    "print(f'x = {x}')\n",
    "print(f'w = {w}')"
   ],
   "id": "ee39892eb76bf9",
   "outputs": [],
   "execution_count": null
  },
  {
   "metadata": {},
   "cell_type": "markdown",
   "source": [
    "#### `average()`\n",
    "\n",
    "作用：根据在另一个数组中给出的各自的权重计算数组中元素的加权平均值，可以接受一个轴参数。如果没有指定轴，则数组会被展开。\n",
    "\n",
    "- 加权平均值：将各数值乘以相应的权数，然后加总求和得到总体值，再除以总的单位数\n",
    "\n",
    "  例如：考虑数组［1,2,3,4］和相应的权重［4,3.2,1］，通过将相应元素的乘积相加，并将和除以权重的和，来计算加权平均值。\n",
    "  加权平均值=（14+23+32+41）/（4+3+2+1）\n",
    "\n",
    "- 如果参数`returned`设为`true`，则返回值包含权重的和"
   ],
   "id": "4b14aed6339c06b8"
  },
  {
   "metadata": {
    "ExecuteTime": {
     "end_time": "2024-08-24T05:42:33.874245Z",
     "start_time": "2024-08-24T05:42:33.866056Z"
    }
   },
   "cell_type": "code",
   "source": [
    "# 一维数组\n",
    "import numpy as np\n",
    "\n",
    "x = np.array([1, 2, 3, 4])\n",
    "w = np.array([4, 3, 2, 1])\n",
    "\n",
    "print(f'x = {x}')\n",
    "print(f'w = {w}')\n",
    "print(np.average(x))\n",
    "print(np.average(x, weights=w))\n",
    "print(np.average(x, weights=w, returned=True))"
   ],
   "id": "b82130828d383b2d",
   "outputs": [
    {
     "name": "stdout",
     "output_type": "stream",
     "text": [
      "x = [1 2 3 4]\n",
      "w = [4 3 2 1]\n",
      "2.5\n",
      "2.0\n",
      "(2.0, 10.0)\n"
     ]
    }
   ],
   "execution_count": 9
  },
  {
   "metadata": {
    "ExecuteTime": {
     "end_time": "2024-08-24T05:52:03.367962Z",
     "start_time": "2024-08-24T05:52:03.360765Z"
    }
   },
   "cell_type": "code",
   "source": [
    "# 多维数组\n",
    "import numpy as np\n",
    "\n",
    "x = np.arange(1, 7).reshape(2, 3)\n",
    "w = np.array([1, 2, 3])\n",
    "print(f'x = {x}')\n",
    "print(f'w = {w}')\n",
    "print(np.average(x, axis=1, weights=w))\n",
    "print(np.dot(x[0, :], w) / np.sum(w), np.dot(x[1, :], w) / np.sum(w))"
   ],
   "id": "5ae8e9965273c05f",
   "outputs": [
    {
     "name": "stdout",
     "output_type": "stream",
     "text": [
      "x = [[1 2 3]\n",
      " [4 5 6]]\n",
      "w = [1 2 3]\n",
      "[2.33333333 5.33333333]\n",
      "2.3333333333333335 5.333333333333333\n"
     ]
    }
   ],
   "execution_count": 23
  },
  {
   "metadata": {},
   "cell_type": "markdown",
   "source": [
    "#### 标准差`std()`\n",
    "\n",
    "标准差是一组数据平均值分散程度的一种度量\n",
    "\n",
    "标准差是方养的算术平方根\n",
    "\n",
    "公式: `std = sqrt (mean ((x - x.mean ()) **2))`\n",
    "\n",
    "说明：如果数组是［1，2，3，4］，则其平均值为2.5。因此，差的平方是［2.25,0.25,0.25,2.25］，并且其平均值的平方根除以 4，即sqrt（5/4），结果为\n",
    "1.1180339887498949\n"
   ],
   "id": "9d4f07c4396d1bb7"
  },
  {
   "metadata": {
    "ExecuteTime": {
     "end_time": "2024-08-24T06:02:45.824246Z",
     "start_time": "2024-08-24T06:02:45.817388Z"
    }
   },
   "cell_type": "code",
   "source": [
    "import numpy as np\n",
    "\n",
    "x = np.array([1, 2, 3, 4])\n",
    "print(np.std(x))\n",
    "print(np.sqrt(np.mean((x - np.mean(x)) ** 2)))"
   ],
   "id": "8af1ffe8b579f4df",
   "outputs": [
    {
     "name": "stdout",
     "output_type": "stream",
     "text": [
      "1.118033988749895\n",
      "1.118033988749895\n"
     ]
    }
   ],
   "execution_count": 28
  },
  {
   "metadata": {},
   "cell_type": "markdown",
   "source": [
    "#### 方差`var()`\n",
    "\n",
    "统计中的方差（样本方差）是每个样本值与全体样本值的平均数之差的平方值的平均数，即 mean（（×- x.mean（）** 2）。换句话说，标准差是方差的平方根\n",
    "\n"
   ],
   "id": "c2e1311b8d613dd4"
  },
  {
   "metadata": {
    "ExecuteTime": {
     "end_time": "2024-08-24T06:03:36.305480Z",
     "start_time": "2024-08-24T06:03:36.298295Z"
    }
   },
   "cell_type": "code",
   "source": [
    "import numpy as np\n",
    "\n",
    "x = np.array([1, 2, 3, 4])\n",
    "print(np.var(x))\n",
    "print(np.mean((x - np.mean(x)) ** 2))"
   ],
   "id": "d6db1949d82b60c5",
   "outputs": [
    {
     "name": "stdout",
     "output_type": "stream",
     "text": [
      "1.25\n",
      "1.25\n"
     ]
    }
   ],
   "execution_count": 29
  },
  {
   "cell_type": "markdown",
   "source": [
    "### 5.5 排序函数"
   ],
   "metadata": {
    "collapsed": false
   },
   "id": "7be2c2f440d4b9e2"
  },
  {
   "metadata": {},
   "cell_type": "markdown",
   "source": [
    "| 名称   | name        | 速度     | 最坏情况           | 工作空间           | 稳定性  |\n",
    "|------|-------------|--------|----------------|----------------|------|\n",
    "| 快速排序 | `quicksort` | 1      | $O(n^2)$       | 0              | 否    |\n",
    "| 归并排序 | `mergesort` | 2      | $O(n*\\log{n})$ | $-\\frac{n}{2}$ | 是    |\n",
    "| 堆排序  | `heapsort`  | 3      | $O(n*\\log{n})$ | 0              | 否    |"
   ],
   "id": "491d6d448cac92f0"
  },
  {
   "metadata": {},
   "cell_type": "markdown",
   "source": [
    "#### `sort()`\n",
    "\n",
    "原型：`sort(a, axis, kind, order)`\n",
    "\n",
    "功能：返回输入数组的排序副本\n",
    "\n",
    "- `a`：要排序的数组\n",
    "- `axis`：沿着排序的轴，`axis=0`按列，`axis=1`按行。若没有则会展开，并沿着最后的轴排序\n",
    "- `kind`：排序算法，默认为`quicksort`\n",
    "- `order`：如果数组包含字段，则是要排序的字段\n"
   ],
   "id": "b51da0828974546a"
  },
  {
   "metadata": {
    "ExecuteTime": {
     "end_time": "2024-08-24T06:52:42.511930Z",
     "start_time": "2024-08-24T06:52:42.506564Z"
    }
   },
   "cell_type": "code",
   "source": [
    "import numpy as np\n",
    "\n",
    "x = np.random.randint(1, 11, 12).reshape(3, 4)\n",
    "print(x)\n",
    "print(np.sort(x))\n",
    "# print(f'x = {x}')\n",
    "print(np.sort(x, axis=0))"
   ],
   "id": "1542fb7e2e0de530",
   "outputs": [
    {
     "name": "stdout",
     "output_type": "stream",
     "text": [
      "[[ 2  7  4 10]\n",
      " [ 7  9  6  2]\n",
      " [ 2  2  7  3]]\n",
      "[[ 2  4  7 10]\n",
      " [ 2  6  7  9]\n",
      " [ 2  2  3  7]]\n",
      "[[ 2  2  4  2]\n",
      " [ 2  7  6  3]\n",
      " [ 7  9  7 10]]\n"
     ]
    }
   ],
   "execution_count": 37
  },
  {
   "metadata": {
    "ExecuteTime": {
     "end_time": "2024-08-24T06:59:38.981881Z",
     "start_time": "2024-08-24T06:59:38.977133Z"
    }
   },
   "cell_type": "code",
   "source": [
    "import numpy as np\n",
    "\n",
    "dt = np.dtype([('name', 'S10'), ('age', int)])\n",
    "y = np.array([('sunwukong', 600), ('shahesheng', 100), ('zhubajie', 300), ('tangseng', 1000)], dtype=dt)\n",
    "print(y)\n",
    "print(np.sort(y, order='age'))"
   ],
   "id": "6aa693d367088266",
   "outputs": [
    {
     "name": "stdout",
     "output_type": "stream",
     "text": [
      "[(b'sunwukong',  600) (b'shahesheng',  100) (b'zhubajie',  300)\n",
      " (b'tangseng', 1000)]\n",
      "[(b'shahesheng',  100) (b'zhubajie',  300) (b'sunwukong',  600)\n",
      " (b'tangseng', 1000)]\n"
     ]
    }
   ],
   "execution_count": 47
  },
  {
   "metadata": {},
   "cell_type": "markdown",
   "source": [
    "#### `argsort()`\n",
    "\n",
    "作用：对输入数组沿给定轴执行间接排序，并使用指定排序类型返回数据的索引数组。这个索引数组用于构造排序后的数组。"
   ],
   "id": "9be2d69820fc5d54"
  },
  {
   "metadata": {
    "ExecuteTime": {
     "end_time": "2024-08-24T07:06:19.309773Z",
     "start_time": "2024-08-24T07:06:19.301532Z"
    }
   },
   "cell_type": "code",
   "source": [
    "import numpy as np\n",
    "\n",
    "x = np.array([3, 8, 6])\n",
    "print(x)\n",
    "index_x = np.argsort(x)\n",
    "print(index_x)\n",
    "print(x[index_x])\n",
    "print([x[idx] for idx in index_x])"
   ],
   "id": "b1a8ec5535d21b8a",
   "outputs": [
    {
     "name": "stdout",
     "output_type": "stream",
     "text": [
      "[3 8 6]\n",
      "[0 2 1]\n",
      "[3 6 8]\n",
      "[3, 6, 8]\n"
     ]
    }
   ],
   "execution_count": 53
  },
  {
   "metadata": {
    "ExecuteTime": {
     "end_time": "2024-08-24T09:16:38.017282Z",
     "start_time": "2024-08-24T09:16:38.011664Z"
    }
   },
   "cell_type": "code",
   "source": [
    "import numpy as np\n",
    "\n",
    "a = [1, 5, 1, 4, 3, 4, 4]\n",
    "b = [9, 4, 0, 4, 0, 2, 1]\n",
    "\n",
    "print([(i, a[i], b[i]) for i in np.argsort(a)])\n",
    "clist = [i for i in zip(a, b)]\n",
    "print(clist)\n",
    "c = np.array(clist, dtype=np.dtype([('x', int), ('y', int)]))\n",
    "print(c)\n",
    "print(np.argsort(c))\n",
    "print(np.argsort(c, order=('x', 'y')))"
   ],
   "id": "9390fae9d2de61f9",
   "outputs": [
    {
     "name": "stdout",
     "output_type": "stream",
     "text": [
      "[(0, 1, 9), (2, 1, 0), (4, 3, 0), (3, 4, 4), (5, 4, 2), (6, 4, 1), (1, 5, 4)]\n",
      "[(1, 9), (5, 4), (1, 0), (4, 4), (3, 0), (4, 2), (4, 1)]\n",
      "[(1, 9) (5, 4) (1, 0) (4, 4) (3, 0) (4, 2) (4, 1)]\n",
      "[2 0 4 6 5 3 1]\n",
      "[2 0 4 6 5 3 1]\n"
     ]
    }
   ],
   "execution_count": 92
  },
  {
   "metadata": {},
   "cell_type": "markdown",
   "source": [
    "#### `lexsort()`\n",
    "\n",
    "作用：使用键序列执行间接排序。键可以看作是电子表格中的一列。该函数返回一个索引数组，使用它可以获得排序数据。\n",
    "\n",
    "注意：最后一个键恰好是 sort 的主键\n",
    "\n",
    "- 多级排序，以最后一列为主，剩余的也是以剩余的最后一列为主\n",
    "- 多级排序是指对一个数组或矩阵进行多次排序操作，每次排序操作都依据不同的排序key进行排序。在numpy中可以使用多个key来实现多级排序。\n",
    "- numpy中的lexsort()函数用于将指定多个数组的元素根据指定排序key进行排序并返回排序后的索引值。其中lex的含义是lexical sort(字典排序)。\n",
    "- 当输入一个矩阵时，默认排序最后一行的数据，前面的行都是辅助行。\n",
    "\n",
    "参考：https://blog.csdn.net/Flag_ing/article/details/124185378"
   ],
   "id": "5a9b0aa9257b7089"
  },
  {
   "metadata": {
    "ExecuteTime": {
     "end_time": "2024-09-07T01:48:17.238205Z",
     "start_time": "2024-09-07T01:48:17.233931Z"
    }
   },
   "cell_type": "code",
   "source": [
    "import numpy as np\n",
    "\n",
    "name = ['tangseng', 'sunwukong', 'zhubajie', 'shawujing']\n",
    "scores_maths = [10, 9, 9, 9]\n",
    "scores_english = [10, 9, 9, 8]\n",
    "scores_chinese = [10, 8, 9, 9]\n",
    "indices = np.lexsort((scores_chinese, scores_english, scores_maths))\n",
    "print(indices)\n",
    "# indices = indices[::-1]\n",
    "# print(indices)\n",
    "for idx in indices:\n",
    "    print(name[idx], scores_maths[idx], scores_english[idx], scores_chinese[idx])"
   ],
   "id": "46a3ae77d173781b",
   "outputs": [
    {
     "name": "stdout",
     "output_type": "stream",
     "text": [
      "[3 1 2 0]\n",
      "shawujing 9 8 9\n",
      "sunwukong 9 9 8\n",
      "zhubajie 9 9 9\n",
      "tangseng 10 10 10\n"
     ]
    }
   ],
   "execution_count": 81
  },
  {
   "metadata": {
    "ExecuteTime": {
     "end_time": "2024-09-07T02:00:47.973124Z",
     "start_time": "2024-09-07T02:00:47.968522Z"
    }
   },
   "cell_type": "code",
   "source": [
    "import numpy as np\n",
    "\n",
    "a = [5, 3, 6]\n",
    "b = [5, 3, 3]\n",
    "print(f'a = {a}')\n",
    "print(f'b = {b}')\n",
    "idx = np.lexsort((a, b))\n",
    "print(idx)\n",
    "print([f'{a[i]}-{b[i]}' for i in idx])\n",
    "\n",
    "c = np.asarray([a, b])\n",
    "print(f'c = {c}')\n",
    "idy = np.lexsort(c)\n",
    "print(idy)\n",
    "# print(c[0, :], c[1, :])\n",
    "\n",
    "np.testing.assert_equal(idx, idy)"
   ],
   "id": "60bb4765d53eb48c",
   "outputs": [
    {
     "name": "stdout",
     "output_type": "stream",
     "text": [
      "a = [5, 3, 6]\n",
      "b = [5, 3, 3]\n",
      "[1 2 0]\n",
      "['3-3', '6-3', '5-5']\n",
      "c = [[5 3 6]\n",
      " [5 3 3]]\n",
      "[1 2 0]\n"
     ]
    }
   ],
   "execution_count": 108
  },
  {
   "metadata": {
    "ExecuteTime": {
     "end_time": "2024-09-07T01:54:12.309422Z",
     "start_time": "2024-09-07T01:54:12.303002Z"
    }
   },
   "cell_type": "code",
   "source": [
    "import numpy as np\n",
    "\n",
    "a = np.array([[3, 3, 5],\n",
    "              [3, 6, 9],\n",
    "              [6, 8, 5]])\n",
    "print('*' * 10, 'a')\n",
    "print(a)\n",
    "print(np.lexsort(a))\n",
    "# print(np.lexsort(a, axis=0))\n",
    "# print(np.lexsort((a[:, 0], a[:, 1], a[:, 2])))\n",
    "print(np.lexsort((a[0, :], a[1, :], a[2, :])))\n",
    "\n",
    "b = np.array([[3, 3, 8],\n",
    "              [6, 9, 7],\n",
    "              [3, 3, 5]])\n",
    "print('*' * 10, 'b')\n",
    "print(b)\n",
    "print(np.lexsort(b))\n",
    "# print(np.lexsort(b, axis=0))\n",
    "print(np.lexsort((b[0, :], b[1, :], b[2, :])))"
   ],
   "id": "b6bb9e0f983621c4",
   "outputs": [
    {
     "name": "stdout",
     "output_type": "stream",
     "text": [
      "********** a\n",
      "[[3 3 5]\n",
      " [3 6 9]\n",
      " [6 8 5]]\n",
      "[2 0 1]\n",
      "[2 0 1]\n",
      "********** b\n",
      "[[3 3 8]\n",
      " [6 9 7]\n",
      " [3 3 5]]\n",
      "[0 1 2]\n",
      "[0 1 2]\n"
     ]
    }
   ],
   "execution_count": 87
  },
  {
   "metadata": {
    "ExecuteTime": {
     "end_time": "2024-09-07T01:46:00.723031Z",
     "start_time": "2024-09-07T01:46:00.718137Z"
    }
   },
   "cell_type": "code",
   "source": [
    "import numpy as np\n",
    "\n",
    "c = np.array([[3, 3, 8],\n",
    "              [6, 9, 7],\n",
    "              [3, 3, 5]])\n",
    "\n",
    "print(c)\n",
    "ind_1 = np.lexsort(c)\n",
    "ind_2 = np.lexsort((c[0, :], c[1, :], c[2, :]))\n",
    "print(ind_1)\n",
    "print(ind_2)\n",
    "np.testing.assert_equal(ind_1, ind_2)"
   ],
   "id": "bb70abd3a41da448",
   "outputs": [
    {
     "name": "stdout",
     "output_type": "stream",
     "text": [
      "[[3 3 8]\n",
      " [6 9 7]\n",
      " [3 3 5]]\n",
      "[0 1 2]\n",
      "[0 1 2]\n"
     ]
    }
   ],
   "execution_count": 74
  },
  {
   "metadata": {},
   "cell_type": "markdown",
   "source": [
    "#### `msort(a)`\n",
    "\n",
    "已经删除\n",
    "\n",
    "作用：数组按第一个轴排序，返回排序后的数组副本\n",
    "\n",
    "说明：np.msort（a） 相等于 np.sort（a, axis=0）\n",
    "\n",
    "numpy 1.24.0 Deprecated\n",
    "\n",
    "The numpy.msort function is deprecated. Use np.sort(a, axis=0) instead. 参考 https://github.com/numpy/numpy/pull/22456\n",
    "\n",
    "numpy 1.24.3 Removed\n",
    "\n",
    "TYP: Remove some stray type-check-only imports of msort 参考 https://github.com/numpy/numpy/pull/23345"
   ],
   "id": "eebe7e6eac36b1f0"
  },
  {
   "metadata": {},
   "cell_type": "markdown",
   "source": [
    "#### `sort_complex(a)`\n",
    "\n",
    "作用：对复数按照先实部后虚部的顺序进行排序。"
   ],
   "id": "56a55287a5c86d19"
  },
  {
   "metadata": {
    "ExecuteTime": {
     "end_time": "2024-08-24T16:22:23.362464Z",
     "start_time": "2024-08-24T16:22:23.357995Z"
    }
   },
   "cell_type": "code",
   "source": [
    "import numpy as np\n",
    "\n",
    "real_part = [3, 3, 6, 8, 6, 8]\n",
    "imag_part = [3, 1, 8, 6, 5, 9]\n",
    "c = [rp + ip * 1j for rp, ip in zip(real_part, imag_part)]\n",
    "c_sort = np.sort_complex(c)\n",
    "\n",
    "print(real_part)\n",
    "print(imag_part)\n",
    "print(c)\n",
    "print(c_sort.tolist())\n",
    "print(c[0].real, c[0].imag)"
   ],
   "id": "b100e9aeeba35e2a",
   "outputs": [
    {
     "name": "stdout",
     "output_type": "stream",
     "text": [
      "[3, 3, 6, 8, 6, 8]\n",
      "[3, 1, 8, 6, 5, 9]\n",
      "[(3+3j), (3+1j), (6+8j), (8+6j), (6+5j), (8+9j)]\n",
      "[(3+1j), (3+3j), (6+5j), (6+8j), (8+6j), (8+9j)]\n",
      "3.0 3.0\n"
     ]
    }
   ],
   "execution_count": 85
  },
  {
   "metadata": {},
   "cell_type": "markdown",
   "source": [
    "#### `partition(a, kth[, axis, kind, order])`\n",
    "\n",
    "指定一个数，对数组进行分区"
   ],
   "id": "f572f0833743b168"
  },
  {
   "metadata": {
    "ExecuteTime": {
     "end_time": "2024-08-30T08:57:45.712817Z",
     "start_time": "2024-08-30T08:57:45.707627Z"
    }
   },
   "cell_type": "code",
   "source": [
    "import numpy as np\n",
    "\n",
    "a = np.array([5, 3, 1, 4, 8, 2, 7, 6, 9])\n",
    "\n",
    "# 将数组 a 中所有元素（包括重复元素）从小到大排列，3 表示的是排序数组索引为 3 的数字，比该数字小的排在该数字前面，比该数字大的排在该数字的后面\n",
    "ap1 = np.partition(a, 3)\n",
    "ap2 = np.partition(a, (3, 6))\n",
    "\n",
    "print(a)\n",
    "print(ap1)\n",
    "print(ap2)"
   ],
   "id": "c6c5ead1b137dfde",
   "outputs": [
    {
     "name": "stdout",
     "output_type": "stream",
     "text": [
      "[5 3 1 4 8 2 7 6 9]\n",
      "[1 2 3 4 5 6 7 8 9]\n",
      "[1 2 3 4 5 6 7 8 9]\n"
     ]
    }
   ],
   "execution_count": 3
  },
  {
   "metadata": {},
   "cell_type": "markdown",
   "source": [
    "#### argpartition(a, kth[, axis, kind, order])\n",
    "\n",
    "可以通过关键字 kind 指定算法沿着指定轴对数组进行分区"
   ],
   "id": "948e3b6f2d042e33"
  },
  {
   "metadata": {
    "ExecuteTime": {
     "end_time": "2024-08-30T09:10:00.392957Z",
     "start_time": "2024-08-30T09:10:00.387546Z"
    }
   },
   "cell_type": "code",
   "source": [
    "import numpy as np\n",
    "\n",
    "arr = np.array([46, 57, 23, 39, 1, 10, 0, 120])\n",
    "print(arr)\n",
    "print(np.sort(arr))\n",
    "isort = np.argpartition(arr, 2)\n",
    "print(isort)\n",
    "print(arr[isort])\n",
    "isort = np.argpartition(arr, -2)\n",
    "print(isort)\n",
    "print(arr[isort])"
   ],
   "id": "79591d3235386481",
   "outputs": [
    {
     "name": "stdout",
     "output_type": "stream",
     "text": [
      "[ 46  57  23  39   1  10   0 120]\n",
      "[  0   1  10  23  39  46  57 120]\n",
      "[6 4 5 2 3 0 1 7]\n",
      "[  0   1  10  23  39  46  57 120]\n",
      "[6 4 5 2 3 0 1 7]\n",
      "[  0   1  10  23  39  46  57 120]\n"
     ]
    }
   ],
   "execution_count": 13
  },
  {
   "metadata": {},
   "cell_type": "code",
   "outputs": [],
   "execution_count": null,
   "source": "",
   "id": "23f6d0f4db30827d"
  },
  {
   "cell_type": "markdown",
   "source": [
    "### 5.6 搜索函数"
   ],
   "metadata": {
    "collapsed": false
   },
   "id": "48c4566e11c580f6"
  },
  {
   "metadata": {},
   "cell_type": "markdown",
   "source": [
    "#### max(), min()\n",
    "\n",
    "沿指定轴返回最大值或最小值。"
   ],
   "id": "5f1285be961a3882"
  },
  {
   "metadata": {
    "ExecuteTime": {
     "end_time": "2024-08-30T09:18:35.668980Z",
     "start_time": "2024-08-30T09:18:35.665538Z"
    }
   },
   "cell_type": "code",
   "source": [
    "import numpy as np\n",
    "\n",
    "x = np.array([30, 10, 15, 13, 38, 80])\n",
    "print(x)\n",
    "print(np.max(x), np.min(x))"
   ],
   "id": "4dfb2bce11ef833a",
   "outputs": [
    {
     "name": "stdout",
     "output_type": "stream",
     "text": [
      "[30 10 15 13 38 80]\n",
      "80 10\n"
     ]
    }
   ],
   "execution_count": 23
  },
  {
   "metadata": {
    "ExecuteTime": {
     "end_time": "2024-08-30T09:21:39.638580Z",
     "start_time": "2024-08-30T09:21:39.634131Z"
    }
   },
   "cell_type": "code",
   "source": [
    "import numpy as np\n",
    "\n",
    "x = np.array([30, 10, 15, 13, 38, 80])\n",
    "x = x.reshape(2, 3)\n",
    "print(x)\n",
    "print(np.max(x), np.min(x))\n",
    "print(np.max(x, axis=0), np.max(x, axis=1))\n",
    "print(np.min(x, axis=0), np.min(x, axis=1))"
   ],
   "id": "fe7cf78655b466c9",
   "outputs": [
    {
     "name": "stdout",
     "output_type": "stream",
     "text": [
      "[[30 10 15]\n",
      " [13 38 80]]\n",
      "80 10\n",
      "[30 38 80] [30 80]\n",
      "[13 10 15] [10 13]\n"
     ]
    }
   ],
   "execution_count": 29
  },
  {
   "metadata": {},
   "cell_type": "markdown",
   "source": [
    "#### argmax(), argmin()\n",
    "\n",
    "沿给定轴返回最大和最小元素的索引"
   ],
   "id": "a281db7a308646c0"
  },
  {
   "metadata": {
    "ExecuteTime": {
     "end_time": "2024-08-30T09:21:50.833496Z",
     "start_time": "2024-08-30T09:21:50.828220Z"
    }
   },
   "cell_type": "code",
   "source": [
    "import numpy as np\n",
    "\n",
    "x = np.array([30, 10, 15, 13, 38, 80])\n",
    "x = x.reshape(2, 3)\n",
    "print(x)\n",
    "print(np.argmax(x), np.argmin(x))\n",
    "print(np.argmax(x, axis=0), np.argmax(x, axis=1))\n",
    "print(np.argmin(x, axis=0), np.argmin(x, axis=1))"
   ],
   "id": "2091b38128e1c638",
   "outputs": [
    {
     "name": "stdout",
     "output_type": "stream",
     "text": [
      "[[30 10 15]\n",
      " [13 38 80]]\n",
      "5 1\n",
      "[0 1 1] [0 2]\n",
      "[1 0 0] [1 0]\n"
     ]
    }
   ],
   "execution_count": 30
  },
  {
   "metadata": {},
   "cell_type": "markdown",
   "source": [
    "#### nonzero()\n",
    "\n",
    "函数返回输入数组中非零元素的索引"
   ],
   "id": "8279ccb575f4bb7f"
  },
  {
   "metadata": {
    "ExecuteTime": {
     "end_time": "2024-08-30T09:28:53.417940Z",
     "start_time": "2024-08-30T09:28:53.413306Z"
    }
   },
   "cell_type": "code",
   "source": [
    "import numpy as np\n",
    "\n",
    "x = np.array([[30, 40, 0], [0, 20, 10], [50, 0, 60]])\n",
    "print(x)\n",
    "idxs = np.nonzero(x)\n",
    "print(idxs)\n",
    "idxs_x = idxs[0]\n",
    "idxs_y = idxs[1]\n",
    "\n",
    "print(x[idxs_x[1]][idxs_y[1]])"
   ],
   "id": "56ecc820b79fd044",
   "outputs": [
    {
     "name": "stdout",
     "output_type": "stream",
     "text": [
      "[[30 40  0]\n",
      " [ 0 20 10]\n",
      " [50  0 60]]\n",
      "(array([0, 0, 1, 1, 2, 2]), array([0, 1, 1, 2, 0, 2]))\n",
      "40\n"
     ]
    }
   ],
   "execution_count": 43
  },
  {
   "metadata": {},
   "cell_type": "markdown",
   "source": [
    "#### where()\n",
    "\n",
    "返回输入数组中满足给定条件的元素的索引"
   ],
   "id": "70ef07126e0497f5"
  },
  {
   "metadata": {
    "ExecuteTime": {
     "end_time": "2024-08-30T09:31:13.514843Z",
     "start_time": "2024-08-30T09:31:13.507007Z"
    }
   },
   "cell_type": "code",
   "source": [
    "import numpy as np\n",
    "\n",
    "x = np.arange(9.).reshape(3, 3)\n",
    "print('我们的数组是：')\n",
    "print(x)\n",
    "print('大于 3 的元素的索引：')\n",
    "y = np.where(x > 3)\n",
    "print(y)\n",
    "print('使用这些索引来获取满足条件的元素：')\n",
    "print(x[y])"
   ],
   "id": "503437a088d8546a",
   "outputs": [
    {
     "name": "stdout",
     "output_type": "stream",
     "text": [
      "我们的数组是：\n",
      "[[0. 1. 2.]\n",
      " [3. 4. 5.]\n",
      " [6. 7. 8.]]\n",
      "大于 3 的元素的索引：\n",
      "(array([1, 1, 2, 2, 2]), array([1, 2, 0, 1, 2]))\n",
      "使用这些索引来获取满足条件的元素：\n",
      "[4. 5. 6. 7. 8.]\n"
     ]
    }
   ],
   "execution_count": 44
  },
  {
   "metadata": {},
   "cell_type": "markdown",
   "source": [
    "#### extract()\n",
    "\n",
    "根据某个条件从数组中抽取元素，返回满条件的元素"
   ],
   "id": "8d0176c38a0f0e85"
  },
  {
   "metadata": {
    "ExecuteTime": {
     "end_time": "2024-08-30T09:34:53.699705Z",
     "start_time": "2024-08-30T09:34:53.694618Z"
    }
   },
   "cell_type": "code",
   "source": [
    "import numpy as np\n",
    "\n",
    "x = np.arange(9.).reshape(3, 3)\n",
    "print('我们的数组是：')\n",
    "print(x)\n",
    "# 定义条件, 选择偶数元素\n",
    "condition = np.mod(x, 2) == 0\n",
    "print('按元素的条件值：')\n",
    "print(condition)\n",
    "print('使用条件提取元素：')\n",
    "print(np.extract(condition, x))"
   ],
   "id": "48b6af1b7bec9d54",
   "outputs": [
    {
     "name": "stdout",
     "output_type": "stream",
     "text": [
      "我们的数组是：\n",
      "[[0. 1. 2.]\n",
      " [3. 4. 5.]\n",
      " [6. 7. 8.]]\n",
      "按元素的条件值：\n",
      "[[ True False  True]\n",
      " [False  True False]\n",
      " [ True False  True]]\n",
      "使用条件提取元素：\n",
      "[0. 2. 4. 6. 8.]\n"
     ]
    }
   ],
   "execution_count": 48
  },
  {
   "cell_type": "markdown",
   "source": [
    "## 六、拷贝"
   ],
   "metadata": {
    "collapsed": false
   },
   "id": "e362e3fb6d815b8a"
  },
  {
   "cell_type": "markdown",
   "source": [
    "### 6.1 赋值"
   ],
   "metadata": {
    "collapsed": false
   },
   "id": "571483db68fc99da"
  },
  {
   "metadata": {},
   "cell_type": "markdown",
   "source": [
    "简单的赋值不会创建数组对象的副本。相反，它使用原始数组的相同id0来访问它。idl返回 Python 对象的通用标识符，类似于C中的指针。\n",
    "\n",
    "一个数组的任何变化都反映在另一个数组上。例如，一个数组的形状改变也会改变另一个数组的形状。"
   ],
   "id": "f01a9945f7bd6602"
  },
  {
   "metadata": {
    "ExecuteTime": {
     "end_time": "2024-09-06T07:38:27.613590Z",
     "start_time": "2024-09-06T07:38:27.608147Z"
    }
   },
   "cell_type": "code",
   "source": [
    "import numpy as np\n",
    "\n",
    "x = np.arange(1, 7).reshape(2, 3)\n",
    "print(f'x = \\n {x}')\n",
    "print(f'id(x) = {id(x)}')\n",
    "y = x\n",
    "print(f'y = \\n {y}')\n",
    "print(f'id(y) = {id(y)}')\n",
    "\n",
    "y.shape = (3, 2)\n",
    "\n",
    "print(f'x = \\n {x}')\n",
    "print(f'id(x) = {id(x)}')\n",
    "\n",
    "print(f'y = \\n {y}')\n",
    "print(f'id(y) = {id(y)}')"
   ],
   "id": "9d985246c4f9ef5d",
   "outputs": [
    {
     "name": "stdout",
     "output_type": "stream",
     "text": [
      "x = \n",
      " [[1 2 3]\n",
      " [4 5 6]]\n",
      "id(x) = 4568592048\n",
      "y = \n",
      " [[1 2 3]\n",
      " [4 5 6]]\n",
      "id(y) = 4568592048\n",
      "x = \n",
      " [[1 2]\n",
      " [3 4]\n",
      " [5 6]]\n",
      "id(x) = 4568592048\n",
      "y = \n",
      " [[1 2]\n",
      " [3 4]\n",
      " [5 6]]\n",
      "id(y) = 4568592048\n"
     ]
    }
   ],
   "execution_count": 9
  },
  {
   "cell_type": "markdown",
   "source": "### 6.2 视图",
   "metadata": {
    "collapsed": false
   },
   "id": "16b028efe73d3dca"
  },
  {
   "metadata": {},
   "cell_type": "markdown",
   "source": [
    "又可称为浅拷贝，是数据的一个别称或引用，通过该别称或引用亦便可访问、操作原有数据，但原有数据不会产生拷贝。对视图进行修改，它会影响到原始数据，物理内存在同一位\n",
    "置。\n",
    "\n",
    "发生情况1：numpy的切片操作返回原数据的视图，修改数据会影响到原始数组"
   ],
   "id": "64246b7abfaede02"
  },
  {
   "metadata": {
    "ExecuteTime": {
     "end_time": "2024-09-06T07:47:54.615041Z",
     "start_time": "2024-09-06T07:47:54.610218Z"
    }
   },
   "cell_type": "code",
   "source": [
    "import numpy as np\n",
    "\n",
    "x = np.arange(1, 7)\n",
    "print(f'x = {x}')\n",
    "y = x[3:]\n",
    "print(f'y = {y}')\n",
    "\n",
    "y[1] = 100\n",
    "print(f'x = {x}')\n",
    "print(f'y = {y}')\n",
    "\n",
    "print(id(x), id(y), id(x[0:]))"
   ],
   "id": "c5e186aed934f880",
   "outputs": [
    {
     "name": "stdout",
     "output_type": "stream",
     "text": [
      "x = [1 2 3 4 5 6]\n",
      "y = [4 5 6]\n",
      "x = [  1   2   3   4 100   6]\n",
      "y = [  4 100   6]\n",
      "4568592048 4567187344 4563199888\n"
     ]
    }
   ],
   "execution_count": 20
  },
  {
   "metadata": {},
   "cell_type": "markdown",
   "source": [
    "发生情况2：调用 ndarray 的 view（）函数产生一个视图\n",
    "\n",
    "创建一个新的数组对象，该方法创建的新数组的维数更改不会更改原始数据的维数"
   ],
   "id": "23275b02ac0b6b31"
  },
  {
   "metadata": {
    "ExecuteTime": {
     "end_time": "2024-09-06T08:07:54.964586Z",
     "start_time": "2024-09-06T08:07:54.959044Z"
    }
   },
   "cell_type": "code",
   "source": [
    "import numpy as np\n",
    "\n",
    "x = np.arange(1, 7).reshape(2, 3)\n",
    "print(f'x = \\n{x}')\n",
    "y = x.view()\n",
    "print(f'y = \\n{y}')\n",
    "print(f'id(x) = {id(x)}, id(y) = {id(y)}')\n",
    "\n",
    "y[1][0] = 100\n",
    "print(f'x = \\n{x}')\n",
    "print(f'y = \\n{y}')\n",
    "print(f'id(x) = {id(x)}, id(y) = {id(y)}')\n",
    "\n",
    "y.shape = (3, 2)\n",
    "print(f'x = \\n{x}')\n",
    "print(f'y = \\n{y}')\n",
    "print(f'id(x) = {id(x)}, id(y) = {id(y)}')"
   ],
   "id": "87dec606e89beec1",
   "outputs": [
    {
     "name": "stdout",
     "output_type": "stream",
     "text": [
      "x = \n",
      "[[1 2 3]\n",
      " [4 5 6]]\n",
      "y = \n",
      "[[1 2 3]\n",
      " [4 5 6]]\n",
      "id(x) = 4567187344, id(y) = 4565945680\n",
      "x = \n",
      "[[  1   2   3]\n",
      " [100   5   6]]\n",
      "y = \n",
      "[[  1   2   3]\n",
      " [100   5   6]]\n",
      "id(x) = 4567187344, id(y) = 4565945680\n",
      "x = \n",
      "[[  1   2   3]\n",
      " [100   5   6]]\n",
      "y = \n",
      "[[  1   2]\n",
      " [  3 100]\n",
      " [  5   6]]\n",
      "id(x) = 4567187344, id(y) = 4565945680\n"
     ]
    }
   ],
   "execution_count": 24
  },
  {
   "cell_type": "markdown",
   "source": [
    "### 6.3 副本"
   ],
   "metadata": {
    "collapsed": false
   },
   "id": "25a89085de277fb6"
  },
  {
   "metadata": {},
   "cell_type": "markdown",
   "source": [
    "又可称为深拷贝，是一个数据的完整的拷贝，如果我们对副本进行修改，它不会影响到原始数据，物理内存不在同一位置\n",
    "\n",
    "发生情况1：调用 ndarray 的 copy（）函数产生一个副本\n",
    "\n",
    "作用：创建一个副本\n",
    "\n",
    "说明：对副本数据进行修改，不会影响到原始数据，它们物理内存不在同一位置"
   ],
   "id": "c7208f2171887d76"
  },
  {
   "metadata": {
    "ExecuteTime": {
     "end_time": "2024-09-06T08:30:37.495367Z",
     "start_time": "2024-09-06T08:30:37.490790Z"
    }
   },
   "cell_type": "code",
   "source": [
    "import numpy as np\n",
    "\n",
    "x = np.arange(1, 7).reshape(2, 3)\n",
    "print(f'x = \\n{x}')\n",
    "print(f'id(x) = {id(x)}')\n",
    "\n",
    "y = x.copy()\n",
    "print(f'y = \\n{y}')\n",
    "print(f'id(y) = {id(y)}')\n",
    "\n",
    "y[0][0] = 100\n",
    "print(f'x = \\n{x}')\n",
    "print(f'y = \\n{y}')\n",
    "print(f'id(x) = {id(x)}, id(y) = {id(y)}')"
   ],
   "id": "ae3617406a5be2cb",
   "outputs": [
    {
     "name": "stdout",
     "output_type": "stream",
     "text": [
      "x = \n",
      "[[1 2 3]\n",
      " [4 5 6]]\n",
      "id(x) = 4579375216\n",
      "y = \n",
      "[[1 2 3]\n",
      " [4 5 6]]\n",
      "id(y) = 4579373392\n",
      "x = \n",
      "[[1 2 3]\n",
      " [4 5 6]]\n",
      "y = \n",
      "[[100   2   3]\n",
      " [  4   5   6]]\n",
      "id(x) = 4579375216, id(y) = 4579373392\n"
     ]
    }
   ],
   "execution_count": 31
  },
  {
   "metadata": {},
   "cell_type": "markdown",
   "source": "发生情况2：序列的切片操作，调用deepCopy()函数",
   "id": "210500023673cb22"
  },
  {
   "metadata": {
    "ExecuteTime": {
     "end_time": "2024-09-06T08:38:38.750556Z",
     "start_time": "2024-09-06T08:38:38.745599Z"
    }
   },
   "cell_type": "code",
   "source": [
    "\n",
    "\n",
    "# x = np.arange(1, 7)\n",
    "x = [1, 2, 3, 4, 5, 6]\n",
    "\n",
    "print(f'x = {x}')\n",
    "print(f'id(x) = {id(x)}')\n",
    "\n",
    "y = x[3:]\n",
    "print(f'y = {y}')\n",
    "print(f'id(y) = {id(y)}')\n",
    "\n",
    "y[-1] = 100\n",
    "\n",
    "print(f'x = {x}')\n",
    "print(f'y = {y}')\n",
    "print(f'id(x) = {id(x)}, id(y) = {id(y)}')"
   ],
   "id": "2f1324f73d297a92",
   "outputs": [
    {
     "name": "stdout",
     "output_type": "stream",
     "text": [
      "x = [1, 2, 3, 4, 5, 6]\n",
      "id(x) = 4578797824\n",
      "y = [4, 5, 6]\n",
      "id(y) = 4578994176\n",
      "x = [1, 2, 3, 4, 5, 6]\n",
      "y = [4, 5, 100]\n",
      "id(x) = 4578797824, id(y) = 4578994176\n"
     ]
    }
   ],
   "execution_count": 38
  },
  {
   "metadata": {
    "ExecuteTime": {
     "end_time": "2024-09-06T08:41:07.569210Z",
     "start_time": "2024-09-06T08:41:07.564845Z"
    }
   },
   "cell_type": "code",
   "source": [
    "\n",
    "import copy\n",
    "\n",
    "# x = np.arange(1, 7)\n",
    "x = [1, 2, 3, 4, 5, 6]\n",
    "\n",
    "print(f'id(x) = {id(x)}, x = {x}')\n",
    "\n",
    "y = copy.deepcopy(x)\n",
    "print(f'id(y) = {id(y)}, y = {y}')\n",
    "\n",
    "y[-1] = 100\n",
    "print(f'id(x) = {id(x)}, x = {x}')\n",
    "print(f'id(y) = {id(y)}, y = {y}')"
   ],
   "id": "9a8f8242250d8225",
   "outputs": [
    {
     "name": "stdout",
     "output_type": "stream",
     "text": [
      "id(x) = 4565453824, x = [1, 2, 3, 4, 5, 6]\n",
      "id(y) = 4578442944, y = [1, 2, 3, 4, 5, 6]\n",
      "id(x) = 4565453824, x = [1, 2, 3, 4, 5, 6]\n",
      "id(y) = 4578442944, y = [1, 2, 3, 4, 5, 100]\n"
     ]
    }
   ],
   "execution_count": 45
  },
  {
   "cell_type": "markdown",
   "source": [
    "## 七、I/O函数"
   ],
   "metadata": {
    "collapsed": false
   },
   "id": "eab976d23d28de75"
  },
  {
   "metadata": {},
   "cell_type": "markdown",
   "source": [
    "numpy可读写磁盘上的文本数据或二进制文件\n",
    "\n",
    "numpy为ndarray对象引入了一个简单的文件格式：npy\n",
    "\n",
    "npy文件用于存储重建ndarray所需的数据、图形、dype和其他信息"
   ],
   "id": "c6175836da41d982"
  },
  {
   "metadata": {},
   "cell_type": "markdown",
   "source": [
    "##### 常用IO函数\n",
    "\n",
    "| IO函数                  | 作用                                               |\n",
    "|:----------------------|-------------------------------------------------:|\n",
    "| load()和save()         | 读写文件数据数组的两个主要函数，默认时数组以未压缩的原始二进制格式保存在扩展名为.npy的文件中 |\n",
    "| savez()               | 用于将多个数组写入文件，默认时数组以未压缩的原始二进制格式保存在扩展名为.npz的文件中     |\n",
    "| loadtext()和savetext() | 处理正常的文本文件(.txt等)                                 |"
   ],
   "id": "ad4b283c9716a14f"
  },
  {
   "metadata": {},
   "cell_type": "markdown",
   "source": [
    "#### numpy.save()\n",
    "原型：numpy.save(file, arr, allow_pickle=True, fix_imports=True)\n",
    "作用：将数组保存到以.npy为扩展名的文件中\n",
    "- file 要保存的文件，扩展名为.npy,如果文件露肩末尾没有扩展名.npy，该扩展名会被自动加上\n",
    "- arr 要保存的数组\n",
    "- allow_pickle 可选，布尔值，允许使用Python pickles保存对象数组，pickle用于在保存到磁盘文件或从磁盘文件读取之前，对对象进行序列化和反序列化\n",
    "- fix_imports 可选，为方便python2中读取python3保存的数据"
   ],
   "id": "a630ee958026364e"
  },
  {
   "metadata": {
    "ExecuteTime": {
     "end_time": "2024-09-06T15:32:18.776964Z",
     "start_time": "2024-09-06T15:32:18.739738Z"
    }
   },
   "cell_type": "code",
   "source": [
    "# 保存到文件\n",
    "import numpy as np\n",
    "\n",
    "x = np.array([[10, 10], [1, 2], [3, 4]])\n",
    "np.save(\"numpy-io-1.npy\", x)\n",
    "print(x.dtype, x)"
   ],
   "id": "31a61a3f7d257116",
   "outputs": [
    {
     "name": "stdout",
     "output_type": "stream",
     "text": [
      "int64 [[10 10]\n",
      " [ 1  2]\n",
      " [ 3  4]]\n"
     ]
    }
   ],
   "execution_count": 66
  },
  {
   "metadata": {
    "ExecuteTime": {
     "end_time": "2024-09-06T15:33:12.139629Z",
     "start_time": "2024-09-06T15:33:12.090688Z"
    }
   },
   "cell_type": "code",
   "source": [
    "# 从文件读取\n",
    "import numpy as np\n",
    "\n",
    "y = np.load(\"numpy-io-1.npy\")\n",
    "print(y.dtype, y)"
   ],
   "id": "55bd0b32a69faacf",
   "outputs": [
    {
     "name": "stdout",
     "output_type": "stream",
     "text": [
      "int64 [[10 10]\n",
      " [ 1  2]\n",
      " [ 3  4]]\n"
     ]
    }
   ],
   "execution_count": 68
  },
  {
   "metadata": {},
   "cell_type": "markdown",
   "source": [
    "#### numpy.savez() \n",
    "\n",
    "原型：numpy.savez(file, *args, **kwds)\n",
    "\n",
    "作用：将多个数组保存到以 npz 为扩展名的文件中\n",
    "\n",
    "| 参数   | 说明                                                          |\n",
    "|------|-------------------------------------------------------------|\n",
    "| file | 要保存的文件，扩展名为 npz，如果文件路径末尾没有扩展名.nPz，该扩展名会被自动加上                |\n",
    "| args | 要保存的数组，可以使用关键字参数为数组起一个名字，非关键字参数传递 的数组会自动起名为 arr_0，art_1,... |\n",
    "| kwds | 要保存的数组使用关键字名称 |"
   ],
   "id": "74a4f42da7ab794a"
  },
  {
   "metadata": {
    "ExecuteTime": {
     "end_time": "2024-09-06T15:33:16.707828Z",
     "start_time": "2024-09-06T15:33:16.691845Z"
    }
   },
   "cell_type": "code",
   "source": [
    "# 保存到文件\n",
    "import numpy as np\n",
    "\n",
    "x = np.arange(1, 7)\n",
    "y = np.arange(2, 6)\n",
    "z = np.arange(3, 9)\n",
    "\n",
    "print(f'x = {x}')\n",
    "print(f'y = {y}')\n",
    "print(f'z = {z}')\n",
    "\n",
    "np.savez(\"numpy-io-2.npz\", x, y, sin_arr=z)   "
   ],
   "id": "7aa8a07778d5706c",
   "outputs": [
    {
     "name": "stdout",
     "output_type": "stream",
     "text": [
      "x = [1 2 3 4 5 6]\n",
      "y = [2 3 4 5]\n",
      "z = [3 4 5 6 7 8]\n"
     ]
    }
   ],
   "execution_count": 69
  },
  {
   "metadata": {
    "ExecuteTime": {
     "end_time": "2024-09-06T15:33:20.284784Z",
     "start_time": "2024-09-06T15:33:20.263656Z"
    }
   },
   "cell_type": "code",
   "source": [
    "# 从文件中加载\n",
    "import numpy as np\n",
    "\n",
    "ret = np.load('numpy-io-2.npz')\n",
    "\n",
    "print(ret['arr_0'])\n",
    "print(ret['arr_1'])\n",
    "print(ret['sin_arr'])"
   ],
   "id": "15747b747eaf47ab",
   "outputs": [
    {
     "name": "stdout",
     "output_type": "stream",
     "text": [
      "[1 2 3 4 5 6]\n",
      "[2 3 4 5]\n",
      "[3 4 5 6 7 8]\n"
     ]
    }
   ],
   "execution_count": 70
  },
  {
   "metadata": {},
   "cell_type": "markdown",
   "source": [
    "#### numpy.savetxt()\n",
    "\n",
    "原型：\n",
    "- numpy.savetxt(FILENAME, a, fmt=\"%d\", delimiter=\",\")\n",
    "- numpy.loadtxt(FILENAME, dtype=int, delimiter=\" \")\n",
    "\n",
    "参数 delimiter\n",
    "说明 指定各类分隔符、针对特定的转换器函数、需要跳过的行数等\n"
   ],
   "id": "d9a798a89788977a"
  },
  {
   "metadata": {
    "ExecuteTime": {
     "end_time": "2024-09-06T15:33:23.883770Z",
     "start_time": "2024-09-06T15:33:23.866578Z"
    }
   },
   "cell_type": "code",
   "source": [
    "# 保存到文件\n",
    "import numpy as np\n",
    "\n",
    "x = np.array([100, 200, 300])\n",
    "print(f'x = {x}')\n",
    "np.savetxt(\"numpy-io-3.txt\", x, fmt='%d', delimiter=',')"
   ],
   "id": "7f25fbfeeea498ca",
   "outputs": [
    {
     "name": "stdout",
     "output_type": "stream",
     "text": [
      "x = [100 200 300]\n"
     ]
    }
   ],
   "execution_count": 71
  },
  {
   "metadata": {
    "ExecuteTime": {
     "end_time": "2024-09-06T15:33:26.408062Z",
     "start_time": "2024-09-06T15:33:26.399202Z"
    }
   },
   "cell_type": "code",
   "source": [
    "# 从文件中加载\n",
    "import numpy as np\n",
    "\n",
    "y = np.loadtxt('numpy-io-3.txt', dtype=int, delimiter=',')\n",
    "print(f'y = {y}')"
   ],
   "id": "d7b7364c02e09eda",
   "outputs": [
    {
     "name": "stdout",
     "output_type": "stream",
     "text": [
      "y = [100 200 300]\n"
     ]
    }
   ],
   "execution_count": 72
  }
 ],
 "metadata": {
  "kernelspec": {
   "display_name": "Python 3",
   "language": "python",
   "name": "python3"
  },
  "language_info": {
   "codemirror_mode": {
    "name": "ipython",
    "version": 2
   },
   "file_extension": ".py",
   "mimetype": "text/x-python",
   "name": "python",
   "nbconvert_exporter": "python",
   "pygments_lexer": "ipython2",
   "version": "2.7.6"
  }
 },
 "nbformat": 4,
 "nbformat_minor": 5
}
