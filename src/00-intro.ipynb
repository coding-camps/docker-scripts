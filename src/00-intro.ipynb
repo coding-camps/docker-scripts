{
 "cells": [
  {
   "cell_type": "markdown",
   "id": "1e1603847259874e",
   "metadata": {},
   "source": "# Python 介绍"
  },
  {
   "cell_type": "markdown",
   "id": "fc80e7aeb38a2d4c",
   "metadata": {},
   "source": "## 一、Python基础"
  },
  {
   "cell_type": "markdown",
   "id": "931d6a816cbe9c26",
   "metadata": {},
   "source": [
    "### 1. 编码\n",
    "\n",
    "默认情况下，Python 3 源码文件以 UTF-8 编码，所有字符串都是 unicode 字符串。\n",
    "\n",
    "当然也可以为源码文件指定不同的编码，一般在文件的首行以单行注释的形式设置\n",
    "\n",
    "例如，一般以这样的形式设置，`# -*- coding: gb2312 -*-`\n",
    "\n",
    "当然不是非得这个形式设置，也可以这样设置， `# coding: gb2312`\n"
   ]
  },
  {
   "cell_type": "markdown",
   "id": "8ecc53d2ec17a89e",
   "metadata": {},
   "source": [
    "### 2. 注释\n",
    "\n",
    "单行注释，代码中以#开始的行，或代码中#后的部分\n",
    "\n",
    "多行注释，以三个单引号'''或三个双引号\"\"\"引用起来的行\n"
   ]
  },
  {
   "cell_type": "markdown",
   "id": "da0c366344fc2df4",
   "metadata": {},
   "source": [
    "### 3. 行与缩进\n",
    "\n",
    "python最具特色的就是使用缩进来表示代码块，不需要使用大括号 {} 。\n",
    "\n",
    "缩进的空格数是可变的，但是同一个代码块的语句必须包含相同的缩进空格数。否则会导致如下运行错误：\n",
    "\n",
    "`IndentationError: unindent does not match any outer indentation level`\n"
   ]
  },
  {
   "cell_type": "markdown",
   "id": "a31400312e017166",
   "metadata": {},
   "source": [
    "### 4. 空行\n",
    "\n",
    "函数之间或类的方法之间用空行分隔，表示一段新的代码的开始。类和函数入口之间也用一行空行分隔，以突出函数入口的开始。\n",
    "\n",
    "空行与代码缩进不同，空行并不是Python语法的一部分。书写时不插入空行，Python解释器运行也不会出错。但是空行的作用在于分隔两段不同功能或含义的代码，便于日后代码的维护或重构。\n",
    "\n",
    "记住：空行也是程序代码的一部分。\n"
   ]
  },
  {
   "cell_type": "markdown",
   "id": "e2dded7d7de87672",
   "metadata": {},
   "source": [
    "### 5. 标识符\n",
    "\n",
    "第一个字符必须是字母表中字母或下划线 _\n",
    "\n",
    "标识符的其他的部分由字母、数字和下划线组成。\n",
    "\n",
    "标识符对大小写敏感。\n",
    "\n",
    "在 Python 3 中，可以用中文作为变量名，非 ASCII 标识符也是允许的了。"
   ]
  },
  {
   "cell_type": "markdown",
   "id": "ad14e83ecd825f4e",
   "metadata": {},
   "source": [
    "### 6. 保留字\n",
    "\n",
    "可以用下面的代码查询关键字"
   ]
  },
  {
   "cell_type": "code",
   "id": "60ab700d4d70897b",
   "metadata": {
    "ExecuteTime": {
     "end_time": "2024-05-29T13:01:43.871391Z",
     "start_time": "2024-05-29T13:01:43.866343Z"
    }
   },
   "source": [
    "import keyword\n",
    "\n",
    "# 打印所有关键字\n",
    "print(keyword.kwlist)\n",
    "# 判断一个字符串是否是关键字\n",
    "print(keyword.iskeyword('or'))\n",
    "print(keyword.iskeyword('Or'))"
   ],
   "outputs": [
    {
     "name": "stdout",
     "output_type": "stream",
     "text": [
      "['False', 'None', 'True', 'and', 'as', 'assert', 'async', 'await', 'break', 'class', 'continue', 'def', 'del', 'elif', 'else', 'except', 'finally', 'for', 'from', 'global', 'if', 'import', 'in', 'is', 'lambda', 'nonlocal', 'not', 'or', 'pass', 'raise', 'return', 'try', 'while', 'with', 'yield']\n",
      "True\n",
      "False\n"
     ]
    }
   ],
   "execution_count": 11
  },
  {
   "cell_type": "markdown",
   "id": "1a81977aed109a82",
   "metadata": {},
   "source": [
    "### 7. 一条语句在多行中\n",
    "\n",
    "Python 通常是一行写完一条语句，但如果语句很长，我们可以使用反斜杠(\\)来实现多行语句\n",
    "\n",
    "在 [], {}, 或 () 中的多行语句，不需要使用反斜杠(\\)\n",
    "\n",
    "例如："
   ]
  },
  {
   "cell_type": "code",
   "id": "3b8350b1aeb847c8",
   "metadata": {
    "ExecuteTime": {
     "end_time": "2024-05-29T13:01:43.921761Z",
     "start_time": "2024-05-29T13:01:43.915745Z"
    }
   },
   "source": [
    "avar = 1 + 2 + 3 + 4 + 5 \\\n",
    "       + 6 + 7 + 8 + 9 + 10\n",
    "print(avar)\n",
    "\n",
    "alist = [1, 2, 3,\n",
    "         4, 5, 6,\n",
    "         7, 8, 9\n",
    "    , 10]\n",
    "print(alist)"
   ],
   "outputs": [
    {
     "name": "stdout",
     "output_type": "stream",
     "text": [
      "55\n",
      "[1, 2, 3, 4, 5, 6, 7, 8, 9, 10]\n"
     ]
    }
   ],
   "execution_count": 12
  },
  {
   "cell_type": "markdown",
   "id": "e0e2cb751f7b9ff3",
   "metadata": {},
   "source": [
    "### 8. 一行有多条语句\n",
    "\n",
    "例如：（注意不要格式化下面的代码，否则会变成多行）"
   ]
  },
  {
   "cell_type": "code",
   "id": "df944df2eb87df25",
   "metadata": {
    "ExecuteTime": {
     "end_time": "2024-05-29T13:01:43.940012Z",
     "start_time": "2024-05-29T13:01:43.932583Z"
    }
   },
   "source": [
    "import sys;\n",
    "\n",
    "x = 'py-str';\n",
    "sys.stdout.write(x + '\\n')"
   ],
   "outputs": [
    {
     "name": "stdout",
     "output_type": "stream",
     "text": [
      "py-str\n"
     ]
    },
    {
     "data": {
      "text/plain": [
       "7"
      ]
     },
     "execution_count": 13,
     "metadata": {},
     "output_type": "execute_result"
    }
   ],
   "execution_count": 13
  },
  {
   "cell_type": "markdown",
   "id": "c92ce94f7702190a",
   "metadata": {},
   "source": [
    "### 9. 多个语句构成代码组\n",
    "\n",
    "缩进相同的一组语句构成一个代码块，我们称之代码组。\n",
    "\n",
    "像`if`、`while`、`def`和`class`这样的复合语句，首行以关键字开始，以冒号( : )结束，该行之后的一行或多行代码构成代码组。\n",
    "\n",
    "我们将首行及后面的代码组称为一个子句(clause)。"
   ]
  },
  {
   "metadata": {},
   "cell_type": "markdown",
   "source": [
    "### 10. `import` 与 `from...import`\n",
    "\n",
    "在 python 用 `import` 或者 `from...import` 来导入相应的模块。\n",
    "\n",
    "将整个模块(somemodule)导入，格式为： `import somemodule`\n",
    "\n",
    "从某个模块中导入某个函数,格式为： `from somemodule import somefunction`\n",
    "\n",
    "从某个模块中导入多个函数,格式为： `from somemodule import firstfunc, secondfunc, thirdfunc`\n",
    "\n",
    "将某个模块中的全部函数导入，格式为： `from somemodule import *`"
   ],
   "id": "668a79edb823a674"
  },
  {
   "metadata": {},
   "cell_type": "markdown",
   "source": "## 二、Python变量与赋值",
   "id": "737b6e9101630505"
  },
  {
   "metadata": {},
   "cell_type": "markdown",
   "source": [
    "### 1. python 变量与赋值\n",
    "\n",
    "Python 中的变量不需要声明。每个变量在使用前都必须赋值，变量赋值以后该变量才会被创建。\n",
    "\n",
    "在 Python 中，变量就是变量，它没有类型，我们所说的\"类型\"是变量所指的内存中对象的类型。\n",
    "\n",
    "等号（=）用来给变量赋值。\n",
    "\n",
    "等号（=）运算符左边是一个变量名,等号（=）运算符右边是存储在变量中的值"
   ],
   "id": "ffcf62c005754a56"
  },
  {
   "metadata": {},
   "cell_type": "markdown",
   "source": "### 2. 一个变量可以通过赋值指向不同类型的对象",
   "id": "a2fdb119b4278de9"
  },
  {
   "metadata": {
    "ExecuteTime": {
     "end_time": "2024-05-29T13:01:43.965633Z",
     "start_time": "2024-05-29T13:01:43.962412Z"
    }
   },
   "cell_type": "code",
   "source": [
    "v = 123\n",
    "v = True"
   ],
   "id": "4737fe9e4e9c4262",
   "outputs": [],
   "execution_count": 14
  },
  {
   "metadata": {},
   "cell_type": "markdown",
   "source": "### 3. 函数也可以赋值给变量",
   "id": "b89e69016dd4dfdb"
  },
  {
   "metadata": {
    "ExecuteTime": {
     "end_time": "2024-05-29T13:01:43.998406Z",
     "start_time": "2024-05-29T13:01:43.994995Z"
    }
   },
   "cell_type": "code",
   "source": [
    "def func():\n",
    "    pass\n",
    "\n",
    "\n",
    "vfunc = func"
   ],
   "id": "8341b6f530585269",
   "outputs": [],
   "execution_count": 15
  },
  {
   "metadata": {},
   "cell_type": "markdown",
   "source": "### 4. python中特殊的赋值方法",
   "id": "1d261a33ad153560"
  },
  {
   "metadata": {},
   "cell_type": "markdown",
   "source": "- 同时给多个变量赋同一个值",
   "id": "a065e1b5b445c146"
  },
  {
   "metadata": {
    "ExecuteTime": {
     "end_time": "2024-05-29T13:01:44.024430Z",
     "start_time": "2024-05-29T13:01:44.018930Z"
    }
   },
   "cell_type": "code",
   "source": [
    "v1 = v2 = v3 = 123\n",
    "print(v1, v2, v3)"
   ],
   "id": "fe05c93fbd222ff8",
   "outputs": [
    {
     "name": "stdout",
     "output_type": "stream",
     "text": [
      "123 123 123\n"
     ]
    }
   ],
   "execution_count": 16
  },
  {
   "metadata": {},
   "cell_type": "markdown",
   "source": "- 同时为多个变量赋不同的值",
   "id": "9c4b9310e8d579e0"
  },
  {
   "metadata": {
    "ExecuteTime": {
     "end_time": "2024-05-29T13:01:44.100495Z",
     "start_time": "2024-05-29T13:01:44.096087Z"
    }
   },
   "cell_type": "code",
   "source": [
    "v1, v2, v3 = 1, 2, 3\n",
    "print(v1, v2, v3)"
   ],
   "id": "48fa0618c2475991",
   "outputs": [
    {
     "name": "stdout",
     "output_type": "stream",
     "text": [
      "1 2 3\n"
     ]
    }
   ],
   "execution_count": 17
  },
  {
   "metadata": {},
   "cell_type": "markdown",
   "source": "例1：两个变量交换值",
   "id": "2f08977d4a849f91"
  },
  {
   "metadata": {
    "ExecuteTime": {
     "end_time": "2024-05-29T13:01:44.118138Z",
     "start_time": "2024-05-29T13:01:44.113833Z"
    }
   },
   "cell_type": "code",
   "source": [
    "v1, v2 = 1, 2\n",
    "print(v1, v2)\n",
    "v1, v2 = v2, v1\n",
    "print(v1, v2)"
   ],
   "id": "8651a68ec43655bd",
   "outputs": [
    {
     "name": "stdout",
     "output_type": "stream",
     "text": [
      "1 2\n",
      "2 1\n"
     ]
    }
   ],
   "execution_count": 18
  },
  {
   "metadata": {},
   "cell_type": "markdown",
   "source": "例1：三个变量交换值",
   "id": "6cf04dd6d03bec4e"
  },
  {
   "metadata": {
    "ExecuteTime": {
     "end_time": "2024-05-29T13:01:44.149094Z",
     "start_time": "2024-05-29T13:01:44.144682Z"
    }
   },
   "cell_type": "code",
   "source": [
    "v1, v2, v3 = 1, 2, 3\n",
    "print(v1, v2, v3)\n",
    "v1, v2, v3 = v3, v2, v1\n",
    "print(v1, v2, v3)"
   ],
   "id": "b57d4ca1a46679ff",
   "outputs": [
    {
     "name": "stdout",
     "output_type": "stream",
     "text": [
      "1 2 3\n",
      "3 2 1\n"
     ]
    }
   ],
   "execution_count": 19
  },
  {
   "metadata": {},
   "cell_type": "markdown",
   "source": "### 5. 测试变量类型（函数或某种类型）",
   "id": "a625b24a609ad7ea"
  },
  {
   "metadata": {},
   "cell_type": "markdown",
   "source": [
    "- 内置的 `type()` 函数可以用来查询变量所指的对象类型。\n",
    "- `isinstance()`会认为子类是一种父类类型。`type()`不会认为子类是一种父类类型。"
   ],
   "id": "926831fd8c28f519"
  },
  {
   "metadata": {
    "ExecuteTime": {
     "end_time": "2024-05-29T13:03:31.789938Z",
     "start_time": "2024-05-29T13:03:31.784187Z"
    }
   },
   "cell_type": "code",
   "source": [
    "\n",
    "\n",
    "\n",
    "def show_type(var):\n",
    "    if isinstance(var, types.FunctionType):\n",
    "        # 判断变量类型是函数\n",
    "        print('show function ->', var.__name__)\n",
    "    else:\n",
    "        # 判断变量属于某种类型\n",
    "        print('show type ->', type(var).__name__, ':', var)\n",
    "\n",
    "\n",
    "show_type(func)\n",
    "show_type(None)\n",
    "show_type('abc')\n",
    "show_type(123)\n",
    "show_type(True)"
   ],
   "id": "325171e30058d75b",
   "outputs": [
    {
     "name": "stdout",
     "output_type": "stream",
     "text": [
      "show function -> func\n",
      "show type -> NoneType : None\n",
      "show type -> str : abc\n",
      "show type -> int : 123\n",
      "show type -> bool : True\n"
     ]
    }
   ],
   "execution_count": 20
  },
  {
   "metadata": {},
   "cell_type": "markdown",
   "source": "再如：",
   "id": "87c21b7dd649f73c"
  },
  {
   "metadata": {
    "ExecuteTime": {
     "end_time": "2024-05-29T13:06:45.583470Z",
     "start_time": "2024-05-29T13:06:45.577198Z"
    }
   },
   "cell_type": "code",
   "source": [
    "import types\n",
    "\n",
    "\n",
    "def check_type(var, vtype=None):\n",
    "    # chk_result = ''  #这里不用像C语言或其他语言一样初始化\n",
    "    if isinstance(var, types.FunctionType):\n",
    "        chk_result = \"check function -> {0}\".format(var.__name__)\n",
    "    elif var == None:\n",
    "        chk_result = \"check value is None\"\n",
    "    elif vtype == None:\n",
    "        chk_result = \"check variable '{0}' is not instanceof '{1}'\".format(var, type(vtype).__name__)\n",
    "    elif type(var) is vtype:\n",
    "        chk_result = \"check variable '{0}' is instanceof '{1}'\".format(var, vtype.__name__)\n",
    "    else:\n",
    "        chk_result = \"check variable '{0}' is not instanceof '{1}'\".format(var, vtype.__name__)\n",
    "    print(chk_result)\n",
    "\n",
    "\n",
    "# 一个参数\n",
    "check_type(check_type)\n",
    "check_type(None)\n",
    "check_type('abc')\n",
    "print()\n",
    "\n",
    "# 两个参数\n",
    "check_type(check_type, None)\n",
    "check_type(None, None)\n",
    "check_type('abc', None)\n",
    "check_type('abc', str)\n",
    "check_type('abc', int)"
   ],
   "id": "1a50edf6df329bb3",
   "outputs": [
    {
     "name": "stdout",
     "output_type": "stream",
     "text": [
      "check function -> check_type\n",
      "check value is None\n",
      "check variable 'abc' is not instanceof 'NoneType'\n",
      "\n",
      "check function -> check_type\n",
      "check value is None\n",
      "check variable 'abc' is not instanceof 'NoneType'\n",
      "check variable 'abc' is instanceof 'str'\n",
      "check variable 'abc' is not instanceof 'int'\n"
     ]
    }
   ],
   "execution_count": 23
  },
  {
   "metadata": {},
   "cell_type": "markdown",
   "source": "## 三、控制台输入输出",
   "id": "847919b7134a8a63"
  },
  {
   "metadata": {},
   "cell_type": "code",
   "outputs": [],
   "execution_count": null,
   "source": [
    "# 用户控制台输入输出\n",
    "# 用户控制台输入： input() 函数\n",
    "# 控制台输出信息： print() 函数\n",
    "# 注意：这里需要在控制台输入文字，然后程序才能继续，否则程序会一直暂停在那里\n",
    "\n",
    "user_str = input(\"请在这里输入：\")\n",
    "print(\"你输入的是：[\" + user_str + ']', end=\"\")  #不换行输出\n",
    "print()  #输出空行"
   ],
   "id": "6ae5aadc070fd88f"
  },
  {
   "metadata": {},
   "cell_type": "markdown",
   "source": "## 四、数据类型",
   "id": "324eae8367f5a2c6"
  },
  {
   "metadata": {},
   "cell_type": "markdown",
   "source": [
    "Python3 中有六个标准的数据类型：\n",
    "- 不可变数据（3 个）：`Number`（数字）、`String`（字符串）、`Tuple`（元组）\n",
    "- 可变数据（3 个）：`List`（列表）、`Dictionary`（字典）、`Set`（集合）"
   ],
   "id": "be5f6dda90f37e2f"
  },
  {
   "metadata": {},
   "cell_type": "markdown",
   "source": "### 1. `Number`数字",
   "id": "bfaa672f37587b4f"
  },
  {
   "metadata": {},
   "cell_type": "markdown",
   "source": [
    "python中数字有四种类型：整数、布尔型、浮点数和复数。\n",
    "\n",
    "int (整数), 如 1, 只有一种整数类型 int，表示为长整型，没有 python2 中的 Long。\n",
    "\n",
    "bool (布尔), 如 True。\n",
    "\n",
    "float (浮点数), 如 1.23、3E-2\n",
    "\n",
    "complex (复数), 如 1 + 2j、 1.1 + 2.2j"
   ],
   "id": "a89911de84406063"
  },
  {
   "metadata": {
    "ExecuteTime": {
     "end_time": "2024-05-29T13:15:22.088834Z",
     "start_time": "2024-05-29T13:15:22.084522Z"
    }
   },
   "cell_type": "code",
   "source": [
    "print(type(1))\n",
    "print(type(1.0))\n",
    "print(type(True))\n",
    "print(type(1 + 2j))"
   ],
   "id": "3c26ec217739bc44",
   "outputs": [
    {
     "name": "stdout",
     "output_type": "stream",
     "text": [
      "<class 'int'>\n",
      "<class 'float'>\n",
      "<class 'bool'>\n",
      "<class 'complex'>\n"
     ]
    }
   ],
   "execution_count": 24
  },
  {
   "metadata": {},
   "cell_type": "code",
   "outputs": [],
   "execution_count": null,
   "source": [
    "var_int = 100  # 长整型，没有 python2 中的 long\n",
    "var_float = 100.0\n",
    "var_bool = True\n",
    "var_complex1 = 100 + 10j\n",
    "var_complex2 = complex(123, 321)"
   ],
   "id": "cd434aa7c3e23709"
  },
  {
   "metadata": {},
   "cell_type": "code",
   "outputs": [],
   "execution_count": null,
   "source": [
    "\n",
    "# 在 Python2 中是没有布尔型的，它用数字 0 表示 False，用 1 表示 True。\n",
    "# 到 Python3 中，把 True 和 False 定义成关键字了，但它们的值还是 1 和 0，它们可以和数字相加。\n",
    "print(type(True) == bool)\n",
    "var_int_original = 1000\n",
    "var_int_add_true = var_int_original + True\n",
    "var_int_add_false = var_int_original + False"
   ],
   "id": "b92bd9a68bc9cf45"
  },
  {
   "metadata": {},
   "cell_type": "markdown",
   "source": "### 2. String 字符串",
   "id": "7bc7a32918f45ec0"
  },
  {
   "metadata": {},
   "cell_type": "code",
   "outputs": [],
   "execution_count": null,
   "source": [
    "\n",
    "# 字符串(String)\n",
    "# python中单引号和双引号使用完全相同。\n",
    "# 使用三引号('''或\"\"\")可以指定一个多行字符串。\n",
    "# 转义符 '\\'\n",
    "# 反斜杠可以用来转义，使用r(指raw)可以让反斜杠不发生转义。 如 r\"this is a line with \\n\" 则\\n会显示，并不是换行。\n",
    "# 按字面意义级联字符串，如\"this \" \"is \" \"string\"会被自动转换为this is string。\n",
    "# 字符串可以用 + 运算符连接在一起，用 * 运算符重复。\n",
    "# Python 中的字符串有两种索引方式，从左往右以 0 开始，从右往左以 -1 开始。\n",
    "# Python中的字符串不能改变。\n",
    "# Python 没有单独的字符类型，一个字符就是长度为 1 的字符串。\n",
    "# 字符串的截取的语法格式如下：变量[头下标:尾下标:步长]\n",
    "\n",
    "#4 字符串\n",
    "def type_str():\n",
    "    str = 'Runoob'\n",
    "    print(str)  # 输出字符串，以下四行俗称\"切片\"\n",
    "    print(str[0:-1])  # 输出第一个到倒数第二个的所有字符\n",
    "    print(str[2:5])  # 输出从第三个开始到第五个的字符\n",
    "    print(str[2:])  # 输出从第三个开始后的所有字符\n",
    "    print(str[::-1])  # * 倒序输出\n",
    "    print(str[0])  # 输出字符串第一个字符\n",
    "    print(str * 2)  # 输出字符串两次\n",
    "    print(str + '你好')  # 连接字符串\n",
    "    print('hello\\nrunoob')  # 使用反斜杠(\\)+n转义特殊字符\n",
    "    print(r'hello\\nrunoob')  # 在字符串前面添加一个 r，表示原始字符串，不会发生转义\n",
    "    str = '''\n",
    "    1-多行字符串 第一行\n",
    "    2-多行字符串 第二行\n",
    "    '''\n",
    "    print(str)\n",
    "\n",
    "\n",
    "# 通过打印字符串详情，查看字符串具体内容\n",
    "def check_str(cmt, vstr):\n",
    "    print(cmt, \"=\", \"[\", end='')\n",
    "    print(vstr, end='')\n",
    "    print(\"]\")\n",
    "\n",
    "\n",
    "type_str()\n",
    "print(\"this \"\"is \"\"string\")\n",
    "\n",
    "# new_segment(\"字符串\")\n",
    "# Python中的字符串不能改变。\n",
    "# Python中的字符串用单引号 ' 或双引号 \" 括起来，同时使用反斜杠 \\ 转义特殊字符\n",
    "s1 = 'abcdefg' + 'ABCDEFG'  # 加号 + 是字符串的连接符\n",
    "s2 = \"ABCDEFG \" * 2  # 星号 * 表示复制当前字符串，紧跟的数字为复制的次数\n",
    "s3 = 'ABCD\\tABCD'\n",
    "s4 = r'ABCD\\tABCD'  # 反斜杠可以用来转义，使用r可以让反斜杠不发生转义\n",
    "s5 = r\"ABCD\\tABCD\"\n",
    "s6 = '''ABCD\\tABCD\n",
    "一个可换行的字符串'''\n",
    "s7 = \"\"\"ABCD\\tABCD\n",
    "另一个可换行的字符串\"\"\"\n",
    "s8 = r'''ABCD\\tABCD\n",
    "ABCD'''\n",
    "s9 = r\"\"\"ABCD\\tABCD\n",
    "ABCD\"\"\" + 'XYZ'\n",
    "check_str('s1', s1)  # 1\n",
    "check_str('s2', s2)  # 2\n",
    "check_str('s3', s3)  # 3\n",
    "check_str('s4', s4)  # 4\n",
    "check_str('s5', s5)  # 5\n",
    "check_str('s6', s6)  # 6\n",
    "check_str('s7', s7)  # 7\n",
    "check_str('s8', s8)  # 8\n",
    "check_str('s9', s9)  # 9\n",
    "\n",
    "##4\n",
    "# new_segment(\"字符串切片\")\n",
    "# 字符串切片的格式是：变量[头下标:尾下标:步长]，其中步长可省略\n",
    "# Python中的字符串有两种索引方式，从左往右以0开始，从右往左以-1开始\n",
    "s = 'ABCDEF'\n",
    "print(s, s[:])\n",
    "print(s[-2], s[-1], s[0], s[1], s[2], sep=',')\n",
    "print(s[-2:], s[-1:], s[0:], s[1:], s[2:], sep=',')\n",
    "print(s[:-2], s[:-1], s[:0], s[:1], s[:2], sep=',')\n",
    "print(s[::1], s[::2], s[::3], sep=',')\n",
    "print(s[1:4:1], s[1:4:2], sep=',')"
   ],
   "id": "a4bc8b7749d3b583"
  }
 ],
 "metadata": {
  "kernelspec": {
   "display_name": "Python 3 (ipykernel)",
   "language": "python",
   "name": "python3"
  },
  "language_info": {
   "codemirror_mode": {
    "name": "ipython",
    "version": 3
   },
   "file_extension": ".py",
   "mimetype": "text/x-python",
   "name": "python",
   "nbconvert_exporter": "python",
   "pygments_lexer": "ipython3",
   "version": "3.12.3"
  }
 },
 "nbformat": 4,
 "nbformat_minor": 5
}
